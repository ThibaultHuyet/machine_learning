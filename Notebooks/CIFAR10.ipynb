{
  "nbformat": 4,
  "nbformat_minor": 0,
  "metadata": {
    "colab": {
      "name": "CIFAR10.ipynb",
      "version": "0.3.2",
      "views": {},
      "default_view": {},
      "provenance": []
    },
    "kernelspec": {
      "name": "python3",
      "display_name": "Python 3"
    }
  },
  "cells": [
    {
      "metadata": {
        "id": "JrP1daQu8er9",
        "colab_type": "code",
        "colab": {
          "autoexec": {
            "startup": false,
            "wait_interval": 0
          },
          "output_extras": [
            {
              "item_id": 4
            }
          ],
          "base_uri": "https://localhost:8080/",
          "height": 170
        },
        "outputId": "afc15160-ad4e-4c81-d5d4-fdb13d7f8e26",
        "executionInfo": {
          "status": "ok",
          "timestamp": 1518228084149,
          "user_tz": 0,
          "elapsed": 3457,
          "user": {
            "displayName": "Thibault Huyet",
            "photoUrl": "https://lh3.googleusercontent.com/a/default-user=s128",
            "userId": "100784631454882897414"
          }
        }
      },
      "cell_type": "code",
      "source": [
        "!python -m pip install keras"
      ],
      "execution_count": 1,
      "outputs": [
        {
          "output_type": "stream",
          "text": [
            "Collecting keras\n",
            "  Downloading Keras-2.1.3-py2.py3-none-any.whl (319kB)\n",
            "\u001b[K    100% |████████████████████████████████| 327kB 2.0MB/s \n",
            "\u001b[?25hRequirement already satisfied: pyyaml in /usr/local/lib/python3.6/dist-packages (from keras)\n",
            "Requirement already satisfied: numpy>=1.9.1 in /usr/local/lib/python3.6/dist-packages (from keras)\n",
            "Requirement already satisfied: six>=1.9.0 in /usr/local/lib/python3.6/dist-packages (from keras)\n",
            "Requirement already satisfied: scipy>=0.14 in /usr/local/lib/python3.6/dist-packages (from keras)\n",
            "Installing collected packages: keras\n",
            "Successfully installed keras-2.1.3\n"
          ],
          "name": "stdout"
        }
      ]
    },
    {
      "metadata": {
        "id": "m0oEVwwm80Nf",
        "colab_type": "code",
        "colab": {
          "autoexec": {
            "startup": false,
            "wait_interval": 0
          },
          "output_extras": [
            {
              "item_id": 1
            },
            {
              "item_id": 89
            },
            {
              "item_id": 116
            }
          ],
          "base_uri": "https://localhost:8080/",
          "height": 68
        },
        "outputId": "3a3f8f7e-231f-4bff-e6ea-c0b4b8f0e8c9",
        "executionInfo": {
          "status": "ok",
          "timestamp": 1518228157553,
          "user_tz": 0,
          "elapsed": 73376,
          "user": {
            "displayName": "Thibault Huyet",
            "photoUrl": "https://lh3.googleusercontent.com/a/default-user=s128",
            "userId": "100784631454882897414"
          }
        }
      },
      "cell_type": "code",
      "source": [
        "from keras.datasets import cifar10\n",
        "\n",
        "(x_train, y_train), (x_test, y_test) = cifar10.load_data()"
      ],
      "execution_count": 2,
      "outputs": [
        {
          "output_type": "stream",
          "text": [
            "Using TensorFlow backend.\n"
          ],
          "name": "stderr"
        },
        {
          "output_type": "stream",
          "text": [
            "Downloading data from https://www.cs.toronto.edu/~kriz/cifar-10-python.tar.gz\n",
            " 94576640/170498071 [===============>..............] - ETA: 33s"
          ],
          "name": "stdout"
        },
        {
          "output_type": "stream",
          "text": [
            "170500096/170498071 [==============================] - 69s 0us/step\n"
          ],
          "name": "stdout"
        }
      ]
    },
    {
      "metadata": {
        "id": "vJP-IaYr9HO8",
        "colab_type": "code",
        "colab": {
          "autoexec": {
            "startup": false,
            "wait_interval": 0
          }
        }
      },
      "cell_type": "code",
      "source": [
        "from keras.layers import Conv2D, MaxPooling2D, Flatten, Dense, Dropout\n",
        "from keras.models import Sequential\n",
        "\n",
        "input_shape = (32, 32, 3)\n",
        "activation = 'relu'\n",
        "\n",
        "model = Sequential()\n",
        "\n",
        "model.add(Conv2D(32, (3, 3), activation = activation, input_shape = input_shape))\n",
        "model.add(Conv2D(32, (3, 3), activation = activation))\n",
        "model.add(Conv2D(32, (3, 3), activation = activation))\n",
        "model.add(MaxPooling2D((2, 2)))\n",
        "model.add(Dropout(0.5))\n",
        "\n",
        "model.add(Conv2D(64, (3, 3), activation = activation))\n",
        "model.add(Conv2D(64, (3, 3), activation = activation))\n",
        "model.add(Conv2D(64, (3, 3), activation = activation))\n",
        "model.add(MaxPooling2D((2, 2)))\n",
        "model.add(Dropout(0.5))\n",
        "\n",
        "model.add(Flatten())\n",
        "model.add(Dense(512, activation = activation))\n",
        "model.add(Dropout(0.5))\n",
        "model.add(Dense(512, activation = activation))\n",
        "model.add(Dense(10, activation = 'softmax'))"
      ],
      "execution_count": 0,
      "outputs": []
    },
    {
      "metadata": {
        "id": "lYJs9almAmnx",
        "colab_type": "code",
        "colab": {
          "autoexec": {
            "startup": false,
            "wait_interval": 0
          },
          "output_extras": [
            {
              "item_id": 1
            }
          ],
          "base_uri": "https://localhost:8080/",
          "height": 646
        },
        "outputId": "40f4026e-2714-4630-be4a-719803f3622c",
        "executionInfo": {
          "status": "ok",
          "timestamp": 1518228159701,
          "user_tz": 0,
          "elapsed": 542,
          "user": {
            "displayName": "Thibault Huyet",
            "photoUrl": "https://lh3.googleusercontent.com/a/default-user=s128",
            "userId": "100784631454882897414"
          }
        }
      },
      "cell_type": "code",
      "source": [
        "model.summary()"
      ],
      "execution_count": 4,
      "outputs": [
        {
          "output_type": "stream",
          "text": [
            "_________________________________________________________________\n",
            "Layer (type)                 Output Shape              Param #   \n",
            "=================================================================\n",
            "conv2d_1 (Conv2D)            (None, 30, 30, 32)        896       \n",
            "_________________________________________________________________\n",
            "conv2d_2 (Conv2D)            (None, 28, 28, 32)        9248      \n",
            "_________________________________________________________________\n",
            "conv2d_3 (Conv2D)            (None, 26, 26, 32)        9248      \n",
            "_________________________________________________________________\n",
            "max_pooling2d_1 (MaxPooling2 (None, 13, 13, 32)        0         \n",
            "_________________________________________________________________\n",
            "dropout_1 (Dropout)          (None, 13, 13, 32)        0         \n",
            "_________________________________________________________________\n",
            "conv2d_4 (Conv2D)            (None, 11, 11, 64)        18496     \n",
            "_________________________________________________________________\n",
            "conv2d_5 (Conv2D)            (None, 9, 9, 64)          36928     \n",
            "_________________________________________________________________\n",
            "conv2d_6 (Conv2D)            (None, 7, 7, 64)          36928     \n",
            "_________________________________________________________________\n",
            "max_pooling2d_2 (MaxPooling2 (None, 3, 3, 64)          0         \n",
            "_________________________________________________________________\n",
            "dropout_2 (Dropout)          (None, 3, 3, 64)          0         \n",
            "_________________________________________________________________\n",
            "flatten_1 (Flatten)          (None, 576)               0         \n",
            "_________________________________________________________________\n",
            "dense_1 (Dense)              (None, 512)               295424    \n",
            "_________________________________________________________________\n",
            "dropout_3 (Dropout)          (None, 512)               0         \n",
            "_________________________________________________________________\n",
            "dense_2 (Dense)              (None, 512)               262656    \n",
            "_________________________________________________________________\n",
            "dense_3 (Dense)              (None, 10)                5130      \n",
            "=================================================================\n",
            "Total params: 674,954\n",
            "Trainable params: 674,954\n",
            "Non-trainable params: 0\n",
            "_________________________________________________________________\n"
          ],
          "name": "stdout"
        }
      ]
    },
    {
      "metadata": {
        "id": "GGTGr8S8At3R",
        "colab_type": "code",
        "colab": {
          "autoexec": {
            "startup": false,
            "wait_interval": 0
          }
        }
      },
      "cell_type": "code",
      "source": [
        "from keras.utils import to_categorical\n",
        "\n",
        "x_train = x_train.astype('float32') / 255\n",
        "x_test = x_test.astype('float32') / 255\n",
        "\n",
        "y_train = to_categorical(y_train)\n",
        "y_test = to_categorical(y_test)"
      ],
      "execution_count": 0,
      "outputs": []
    },
    {
      "metadata": {
        "id": "ur6XvYzVCFZB",
        "colab_type": "code",
        "colab": {
          "autoexec": {
            "startup": false,
            "wait_interval": 0
          },
          "output_extras": [
            {
              "item_id": 254
            },
            {
              "item_id": 421
            },
            {
              "item_id": 643
            },
            {
              "item_id": 886
            },
            {
              "item_id": 1134
            },
            {
              "item_id": 1388
            },
            {
              "item_id": 1640
            },
            {
              "item_id": 1917
            },
            {
              "item_id": 2171
            },
            {
              "item_id": 2424
            },
            {
              "item_id": 2678
            },
            {
              "item_id": 2954
            },
            {
              "item_id": 3227
            },
            {
              "item_id": 3478
            },
            {
              "item_id": 3730
            },
            {
              "item_id": 3983
            },
            {
              "item_id": 4278
            },
            {
              "item_id": 4548
            },
            {
              "item_id": 4819
            },
            {
              "item_id": 5091
            },
            {
              "item_id": 5360
            },
            {
              "item_id": 5629
            },
            {
              "item_id": 5899
            },
            {
              "item_id": 6167
            },
            {
              "item_id": 6463
            },
            {
              "item_id": 6942
            },
            {
              "item_id": 7214
            },
            {
              "item_id": 7488
            },
            {
              "item_id": 7776
            },
            {
              "item_id": 8337
            },
            {
              "item_id": 8604
            },
            {
              "item_id": 8871
            },
            {
              "item_id": 9140
            },
            {
              "item_id": 9410
            },
            {
              "item_id": 9693
            },
            {
              "item_id": 9960
            },
            {
              "item_id": 10230
            },
            {
              "item_id": 10498
            },
            {
              "item_id": 10766
            },
            {
              "item_id": 11034
            },
            {
              "item_id": 11304
            },
            {
              "item_id": 11578
            },
            {
              "item_id": 11853
            },
            {
              "item_id": 12128
            },
            {
              "item_id": 12402
            },
            {
              "item_id": 12676
            },
            {
              "item_id": 12951
            },
            {
              "item_id": 13227
            },
            {
              "item_id": 13499
            },
            {
              "item_id": 13772
            },
            {
              "item_id": 13961
            }
          ],
          "base_uri": "https://localhost:8080/",
          "height": 1754
        },
        "outputId": "f2640fde-54dd-44bb-8968-ae5b442c71e3",
        "executionInfo": {
          "status": "ok",
          "timestamp": 1518242092199,
          "user_tz": 0,
          "elapsed": 13914715,
          "user": {
            "displayName": "Thibault Huyet",
            "photoUrl": "https://lh3.googleusercontent.com/a/default-user=s128",
            "userId": "100784631454882897414"
          }
        }
      },
      "cell_type": "code",
      "source": [
        "model.compile(optimizer = 'rmsprop',\n",
        "             loss = 'categorical_crossentropy',\n",
        "             metrics = ['accuracy'])\n",
        "history = model.fit(x_train, y_train, epochs = 50, batch_size = 64, validation_data = (x_test, y_test))"
      ],
      "execution_count": 8,
      "outputs": [
        {
          "output_type": "stream",
          "text": [
            "Train on 50000 samples, validate on 10000 samples\n",
            "Epoch 1/50\n",
            "43840/50000 [=========================>....] - ETA: 31s - loss: 1.8994 - acc: 0.2977"
          ],
          "name": "stdout"
        },
        {
          "output_type": "stream",
          "text": [
            "50000/50000 [==============================] - 270s 5ms/step - loss: 1.8691 - acc: 0.3104 - val_loss: 2.2027 - val_acc: 0.2986\n",
            "Epoch 2/50\n",
            "26240/50000 [==============>...............] - ETA: 2:00 - loss: 1.5823 - acc: 0.4226"
          ],
          "name": "stdout"
        },
        {
          "output_type": "stream",
          "text": [
            "50000/50000 [==============================] - 267s 5ms/step - loss: 1.5421 - acc: 0.4413 - val_loss: 1.4421 - val_acc: 0.4777\n",
            "Epoch 3/50\n",
            "19584/50000 [==========>...................] - ETA: 2:34 - loss: 1.4206 - acc: 0.4911"
          ],
          "name": "stdout"
        },
        {
          "output_type": "stream",
          "text": [
            "50000/50000 [==============================] - 268s 5ms/step - loss: 1.4051 - acc: 0.4984 - val_loss: 1.5107 - val_acc: 0.4611\n",
            "Epoch 4/50\n",
            "17024/50000 [=========>....................] - ETA: 2:47 - loss: 1.3535 - acc: 0.5180"
          ],
          "name": "stdout"
        },
        {
          "output_type": "stream",
          "text": [
            "50000/50000 [==============================] - 266s 5ms/step - loss: 1.3311 - acc: 0.5317 - val_loss: 1.2932 - val_acc: 0.5407\n",
            "Epoch 5/50\n",
            "16064/50000 [========>.....................] - ETA: 2:51 - loss: 1.2932 - acc: 0.5476"
          ],
          "name": "stdout"
        },
        {
          "output_type": "stream",
          "text": [
            "50000/50000 [==============================] - 266s 5ms/step - loss: 1.2764 - acc: 0.5524 - val_loss: 1.2546 - val_acc: 0.5648\n",
            "Epoch 6/50\n",
            "15680/50000 [========>.....................] - ETA: 2:53 - loss: 1.2297 - acc: 0.5702"
          ],
          "name": "stdout"
        },
        {
          "output_type": "stream",
          "text": [
            "50000/50000 [==============================] - 265s 5ms/step - loss: 1.2334 - acc: 0.5706 - val_loss: 1.1357 - val_acc: 0.6081\n",
            "Epoch 7/50\n",
            "15552/50000 [========>.....................] - ETA: 2:52 - loss: 1.2123 - acc: 0.5834"
          ],
          "name": "stdout"
        },
        {
          "output_type": "stream",
          "text": [
            "50000/50000 [==============================] - 263s 5ms/step - loss: 1.2088 - acc: 0.5836 - val_loss: 1.2816 - val_acc: 0.5621\n",
            "Epoch 8/50\n",
            "15488/50000 [========>.....................] - ETA: 2:53 - loss: 1.1983 - acc: 0.5892"
          ],
          "name": "stdout"
        },
        {
          "output_type": "stream",
          "text": [
            "50000/50000 [==============================] - 266s 5ms/step - loss: 1.1901 - acc: 0.5895 - val_loss: 1.0827 - val_acc: 0.6194\n",
            "Epoch 9/50\n",
            "15488/50000 [========>.....................] - ETA: 2:53 - loss: 1.1768 - acc: 0.5948"
          ],
          "name": "stdout"
        },
        {
          "output_type": "stream",
          "text": [
            "50000/50000 [==============================] - 265s 5ms/step - loss: 1.1826 - acc: 0.5935 - val_loss: 1.2021 - val_acc: 0.5942\n",
            "Epoch 10/50\n",
            "15424/50000 [========>.....................] - ETA: 2:53 - loss: 1.1833 - acc: 0.5957"
          ],
          "name": "stdout"
        },
        {
          "output_type": "stream",
          "text": [
            "50000/50000 [==============================] - 265s 5ms/step - loss: 1.2007 - acc: 0.5914 - val_loss: 1.1941 - val_acc: 0.6037\n",
            "Epoch 11/50\n",
            "15360/50000 [========>.....................] - ETA: 2:54 - loss: 1.2140 - acc: 0.5876"
          ],
          "name": "stdout"
        },
        {
          "output_type": "stream",
          "text": [
            "50000/50000 [==============================] - 268s 5ms/step - loss: 1.2159 - acc: 0.5862 - val_loss: 1.4640 - val_acc: 0.4683\n",
            "Epoch 12/50\n",
            "15360/50000 [========>.....................] - ETA: 2:55 - loss: 1.2242 - acc: 0.5878"
          ],
          "name": "stdout"
        },
        {
          "output_type": "stream",
          "text": [
            "50000/50000 [==============================] - 266s 5ms/step - loss: 1.2316 - acc: 0.5848 - val_loss: 1.1967 - val_acc: 0.5965\n",
            "Epoch 13/50\n",
            "15360/50000 [========>.....................] - ETA: 2:54 - loss: 1.2474 - acc: 0.5837"
          ],
          "name": "stdout"
        },
        {
          "output_type": "stream",
          "text": [
            "50000/50000 [==============================] - 264s 5ms/step - loss: 1.2517 - acc: 0.5784 - val_loss: 1.1566 - val_acc: 0.6049\n",
            "Epoch 14/50\n",
            "15360/50000 [========>.....................] - ETA: 2:53 - loss: 1.2626 - acc: 0.5781"
          ],
          "name": "stdout"
        },
        {
          "output_type": "stream",
          "text": [
            "50000/50000 [==============================] - 264s 5ms/step - loss: 1.2622 - acc: 0.5765 - val_loss: 1.2004 - val_acc: 0.5893\n",
            "Epoch 15/50\n",
            "15360/50000 [========>.....................] - ETA: 2:55 - loss: 1.2580 - acc: 0.5818"
          ],
          "name": "stdout"
        },
        {
          "output_type": "stream",
          "text": [
            "50000/50000 [==============================] - 266s 5ms/step - loss: 1.2729 - acc: 0.5745 - val_loss: 1.1157 - val_acc: 0.6209\n",
            "Epoch 16/50\n",
            "15360/50000 [========>.....................] - ETA: 2:55 - loss: 1.2706 - acc: 0.5699"
          ],
          "name": "stdout"
        },
        {
          "output_type": "stream",
          "text": [
            "50000/50000 [==============================] - 277s 6ms/step - loss: 1.2902 - acc: 0.5648 - val_loss: 1.4586 - val_acc: 0.4950\n",
            "Epoch 17/50\n",
            "15360/50000 [========>.....................] - ETA: 3:08 - loss: 1.2897 - acc: 0.5711"
          ],
          "name": "stdout"
        },
        {
          "output_type": "stream",
          "text": [
            "50000/50000 [==============================] - 285s 6ms/step - loss: 1.3149 - acc: 0.5594 - val_loss: 1.2199 - val_acc: 0.5771\n",
            "Epoch 18/50\n",
            "15360/50000 [========>.....................] - ETA: 3:05 - loss: 1.3286 - acc: 0.5537"
          ],
          "name": "stdout"
        },
        {
          "output_type": "stream",
          "text": [
            "50000/50000 [==============================] - 283s 6ms/step - loss: 1.3344 - acc: 0.5528 - val_loss: 1.1492 - val_acc: 0.6140\n",
            "Epoch 19/50\n",
            "15360/50000 [========>.....................] - ETA: 3:07 - loss: 1.3592 - acc: 0.5518"
          ],
          "name": "stdout"
        },
        {
          "output_type": "stream",
          "text": [
            "50000/50000 [==============================] - 284s 6ms/step - loss: 1.3681 - acc: 0.5494 - val_loss: 1.1607 - val_acc: 0.5834\n",
            "Epoch 20/50\n",
            "15360/50000 [========>.....................] - ETA: 3:06 - loss: 1.3694 - acc: 0.5535"
          ],
          "name": "stdout"
        },
        {
          "output_type": "stream",
          "text": [
            "50000/50000 [==============================] - 283s 6ms/step - loss: 1.3871 - acc: 0.5430 - val_loss: 1.6937 - val_acc: 0.4186\n",
            "Epoch 21/50\n",
            "15360/50000 [========>.....................] - ETA: 3:05 - loss: 1.4239 - acc: 0.5263"
          ],
          "name": "stdout"
        },
        {
          "output_type": "stream",
          "text": [
            "50000/50000 [==============================] - 281s 6ms/step - loss: 1.4095 - acc: 0.5332 - val_loss: 1.2710 - val_acc: 0.5924\n",
            "Epoch 22/50\n",
            "15360/50000 [========>.....................] - ETA: 3:06 - loss: 1.4352 - acc: 0.5310"
          ],
          "name": "stdout"
        },
        {
          "output_type": "stream",
          "text": [
            "50000/50000 [==============================] - 283s 6ms/step - loss: 1.4446 - acc: 0.5292 - val_loss: 1.2377 - val_acc: 0.5796\n",
            "Epoch 23/50\n",
            "15360/50000 [========>.....................] - ETA: 3:05 - loss: 1.4191 - acc: 0.5311"
          ],
          "name": "stdout"
        },
        {
          "output_type": "stream",
          "text": [
            "50000/50000 [==============================] - 281s 6ms/step - loss: 1.4497 - acc: 0.5197 - val_loss: 1.3065 - val_acc: 0.5357\n",
            "Epoch 24/50\n",
            "15360/50000 [========>.....................] - ETA: 3:05 - loss: 1.4468 - acc: 0.5201"
          ],
          "name": "stdout"
        },
        {
          "output_type": "stream",
          "text": [
            "50000/50000 [==============================] - 281s 6ms/step - loss: 1.4722 - acc: 0.5166 - val_loss: 1.8808 - val_acc: 0.3742\n",
            "Epoch 25/50\n",
            "15360/50000 [========>.....................] - ETA: 3:04 - loss: 1.5193 - acc: 0.5107"
          ],
          "name": "stdout"
        },
        {
          "output_type": "stream",
          "text": [
            "50000/50000 [==============================] - 280s 6ms/step - loss: 1.4965 - acc: 0.5151 - val_loss: 1.3980 - val_acc: 0.5205\n",
            "Epoch 26/50\n",
            "15360/50000 [========>.....................] - ETA: 3:05 - loss: 1.4720 - acc: 0.5119"
          ],
          "name": "stdout"
        },
        {
          "output_type": "stream",
          "text": [
            "50000/50000 [==============================] - 285s 6ms/step - loss: 1.4776 - acc: 0.5170 - val_loss: 1.5182 - val_acc: 0.4773\n",
            "Epoch 27/50\n",
            "15360/50000 [========>.....................] - ETA: 3:07 - loss: 1.5581 - acc: 0.4970"
          ],
          "name": "stdout"
        },
        {
          "output_type": "stream",
          "text": [
            "50000/50000 [==============================] - 287s 6ms/step - loss: 1.5096 - acc: 0.5080 - val_loss: 1.3638 - val_acc: 0.5147\n",
            "Epoch 28/50\n",
            "15360/50000 [========>.....................] - ETA: 3:08 - loss: 1.4976 - acc: 0.5049"
          ],
          "name": "stdout"
        },
        {
          "output_type": "stream",
          "text": [
            "50000/50000 [==============================] - 285s 6ms/step - loss: 1.5011 - acc: 0.5058 - val_loss: 1.4018 - val_acc: 0.5155\n",
            "Epoch 29/50\n",
            "15360/50000 [========>.....................] - ETA: 3:06 - loss: 1.5552 - acc: 0.5005"
          ],
          "name": "stdout"
        },
        {
          "output_type": "stream",
          "text": [
            "50000/50000 [==============================] - 282s 6ms/step - loss: 1.5425 - acc: 0.5007 - val_loss: 1.3921 - val_acc: 0.5061\n",
            "Epoch 30/50\n",
            "15360/50000 [========>.....................] - ETA: 3:03 - loss: 1.5200 - acc: 0.5005"
          ],
          "name": "stdout"
        },
        {
          "output_type": "stream",
          "text": [
            "50000/50000 [==============================] - 280s 6ms/step - loss: 1.5507 - acc: 0.4978 - val_loss: 1.6127 - val_acc: 0.4697\n",
            "Epoch 31/50\n",
            "15360/50000 [========>.....................] - ETA: 3:03 - loss: 1.5835 - acc: 0.4919"
          ],
          "name": "stdout"
        },
        {
          "output_type": "stream",
          "text": [
            "50000/50000 [==============================] - 279s 6ms/step - loss: 1.5726 - acc: 0.4922 - val_loss: 1.4812 - val_acc: 0.5224\n",
            "Epoch 32/50\n",
            "15360/50000 [========>.....................] - ETA: 3:03 - loss: 1.5671 - acc: 0.4978"
          ],
          "name": "stdout"
        },
        {
          "output_type": "stream",
          "text": [
            "50000/50000 [==============================] - 282s 6ms/step - loss: 1.5796 - acc: 0.4892 - val_loss: 1.3675 - val_acc: 0.5411\n",
            "Epoch 33/50\n",
            "15360/50000 [========>.....................] - ETA: 3:05 - loss: 1.5776 - acc: 0.4867"
          ],
          "name": "stdout"
        },
        {
          "output_type": "stream",
          "text": [
            "50000/50000 [==============================] - 283s 6ms/step - loss: 1.5764 - acc: 0.4873 - val_loss: 1.4595 - val_acc: 0.5092\n",
            "Epoch 34/50\n",
            "15360/50000 [========>.....................] - ETA: 3:07 - loss: 1.5907 - acc: 0.4843"
          ],
          "name": "stdout"
        },
        {
          "output_type": "stream",
          "text": [
            "50000/50000 [==============================] - 283s 6ms/step - loss: 1.6122 - acc: 0.4774 - val_loss: 1.5721 - val_acc: 0.4365\n",
            "Epoch 35/50\n",
            "15360/50000 [========>.....................] - ETA: 3:04 - loss: 1.5675 - acc: 0.4740"
          ],
          "name": "stdout"
        },
        {
          "output_type": "stream",
          "text": [
            "50000/50000 [==============================] - 281s 6ms/step - loss: 1.5855 - acc: 0.4832 - val_loss: 1.3885 - val_acc: 0.5284\n",
            "Epoch 36/50\n",
            "15360/50000 [========>.....................] - ETA: 3:04 - loss: 1.5824 - acc: 0.4820"
          ],
          "name": "stdout"
        },
        {
          "output_type": "stream",
          "text": [
            "50000/50000 [==============================] - 282s 6ms/step - loss: 1.6055 - acc: 0.4740 - val_loss: 1.5293 - val_acc: 0.4910\n",
            "Epoch 37/50\n",
            "15360/50000 [========>.....................] - ETA: 3:05 - loss: 1.6205 - acc: 0.4702"
          ],
          "name": "stdout"
        },
        {
          "output_type": "stream",
          "text": [
            "50000/50000 [==============================] - 282s 6ms/step - loss: 1.5963 - acc: 0.4799 - val_loss: 1.4723 - val_acc: 0.5376\n",
            "Epoch 38/50\n",
            "15360/50000 [========>.....................] - ETA: 3:04 - loss: 1.6292 - acc: 0.4762"
          ],
          "name": "stdout"
        },
        {
          "output_type": "stream",
          "text": [
            "50000/50000 [==============================] - 281s 6ms/step - loss: 1.5995 - acc: 0.4777 - val_loss: 1.3759 - val_acc: 0.5182\n",
            "Epoch 39/50\n",
            "15360/50000 [========>.....................] - ETA: 3:04 - loss: 1.5875 - acc: 0.4774"
          ],
          "name": "stdout"
        },
        {
          "output_type": "stream",
          "text": [
            "50000/50000 [==============================] - 281s 6ms/step - loss: 1.5927 - acc: 0.4770 - val_loss: 1.3920 - val_acc: 0.5700\n",
            "Epoch 40/50\n",
            "15360/50000 [========>.....................] - ETA: 3:04 - loss: 1.6498 - acc: 0.4680"
          ],
          "name": "stdout"
        },
        {
          "output_type": "stream",
          "text": [
            "50000/50000 [==============================] - 281s 6ms/step - loss: 1.6401 - acc: 0.4700 - val_loss: 1.6091 - val_acc: 0.4607\n",
            "Epoch 41/50\n",
            "15360/50000 [========>.....................] - ETA: 3:07 - loss: 1.6185 - acc: 0.4773"
          ],
          "name": "stdout"
        },
        {
          "output_type": "stream",
          "text": [
            "50000/50000 [==============================] - 288s 6ms/step - loss: 1.5970 - acc: 0.4763 - val_loss: 1.8561 - val_acc: 0.3187\n",
            "Epoch 42/50\n",
            "15360/50000 [========>.....................] - ETA: 3:07 - loss: 1.5931 - acc: 0.4846"
          ],
          "name": "stdout"
        },
        {
          "output_type": "stream",
          "text": [
            "50000/50000 [==============================] - 288s 6ms/step - loss: 1.6095 - acc: 0.4773 - val_loss: 1.8891 - val_acc: 0.3431\n",
            "Epoch 43/50\n",
            "15360/50000 [========>.....................] - ETA: 3:08 - loss: 1.6180 - acc: 0.4582"
          ],
          "name": "stdout"
        },
        {
          "output_type": "stream",
          "text": [
            "50000/50000 [==============================] - 288s 6ms/step - loss: 1.6101 - acc: 0.4687 - val_loss: 1.5613 - val_acc: 0.4920\n",
            "Epoch 44/50\n",
            "15360/50000 [========>.....................] - ETA: 3:08 - loss: 1.6470 - acc: 0.4794"
          ],
          "name": "stdout"
        },
        {
          "output_type": "stream",
          "text": [
            "50000/50000 [==============================] - 287s 6ms/step - loss: 1.6365 - acc: 0.4720 - val_loss: 1.6376 - val_acc: 0.3793\n",
            "Epoch 45/50\n",
            "15360/50000 [========>.....................] - ETA: 3:09 - loss: 1.6204 - acc: 0.4701"
          ],
          "name": "stdout"
        },
        {
          "output_type": "stream",
          "text": [
            "50000/50000 [==============================] - 289s 6ms/step - loss: 1.6393 - acc: 0.4687 - val_loss: 1.4678 - val_acc: 0.5277\n",
            "Epoch 46/50\n",
            "15360/50000 [========>.....................] - ETA: 3:07 - loss: 1.7187 - acc: 0.4567"
          ],
          "name": "stdout"
        },
        {
          "output_type": "stream",
          "text": [
            "50000/50000 [==============================] - 287s 6ms/step - loss: 1.7138 - acc: 0.4505 - val_loss: 1.7354 - val_acc: 0.3605\n",
            "Epoch 47/50\n",
            "15360/50000 [========>.....................] - ETA: 3:10 - loss: 1.7201 - acc: 0.4246"
          ],
          "name": "stdout"
        },
        {
          "output_type": "stream",
          "text": [
            "50000/50000 [==============================] - 289s 6ms/step - loss: 1.7238 - acc: 0.4360 - val_loss: 1.6258 - val_acc: 0.4064\n",
            "Epoch 48/50\n",
            "15360/50000 [========>.....................] - ETA: 3:09 - loss: 1.7241 - acc: 0.4368"
          ],
          "name": "stdout"
        },
        {
          "output_type": "stream",
          "text": [
            "50000/50000 [==============================] - 285s 6ms/step - loss: 1.7251 - acc: 0.4429 - val_loss: 1.5726 - val_acc: 0.4710\n",
            "Epoch 49/50\n",
            "15360/50000 [========>.....................] - ETA: 3:08 - loss: 1.7160 - acc: 0.4388"
          ],
          "name": "stdout"
        },
        {
          "output_type": "stream",
          "text": [
            "50000/50000 [==============================] - 287s 6ms/step - loss: 1.7585 - acc: 0.4380 - val_loss: 1.7099 - val_acc: 0.3621\n",
            "Epoch 50/50\n",
            "15360/50000 [========>.....................] - ETA: 3:07 - loss: 1.7625 - acc: 0.4479"
          ],
          "name": "stdout"
        },
        {
          "output_type": "stream",
          "text": [
            "50000/50000 [==============================] - 286s 6ms/step - loss: 1.7360 - acc: 0.4468 - val_loss: 1.6973 - val_acc: 0.4495\n"
          ],
          "name": "stdout"
        }
      ]
    },
    {
      "metadata": {
        "id": "ccC7Ldx8CVUx",
        "colab_type": "code",
        "colab": {
          "autoexec": {
            "startup": false,
            "wait_interval": 0
          }
        }
      },
      "cell_type": "code",
      "source": [
        "model.save('CIFAR10_google_colab.h5')\n",
        "\n",
        "from google.colab import files\n",
        "files.download('CIFAR10_google_colab.h5')"
      ],
      "execution_count": 0,
      "outputs": []
    }
  ]
}