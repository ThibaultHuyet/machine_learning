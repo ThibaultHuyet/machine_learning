{
  "nbformat": 4,
  "nbformat_minor": 0,
  "metadata": {
    "colab": {
      "name": "Keras_CIFAR10.ipynb",
      "version": "0.3.2",
      "views": {},
      "default_view": {},
      "provenance": []
    },
    "kernelspec": {
      "name": "python3",
      "display_name": "Python 3"
    },
    "accelerator": "GPU"
  },
  "cells": [
    {
      "metadata": {
        "id": "iGuF_ksbtA7R",
        "colab_type": "code",
        "colab": {
          "autoexec": {
            "startup": false,
            "wait_interval": 0
          },
          "output_extras": [
            {
              "item_id": 1
            }
          ],
          "base_uri": "https://localhost:8080/",
          "height": 102
        },
        "outputId": "3805a9cd-67d2-4fa2-8da0-4e76092ab3dd",
        "executionInfo": {
          "status": "ok",
          "timestamp": 1521606508530,
          "user_tz": 0,
          "elapsed": 2043,
          "user": {
            "displayName": "Thibault Huyet",
            "photoUrl": "https://lh3.googleusercontent.com/a/default-user=s128",
            "userId": "100784631454882897414"
          }
        }
      },
      "cell_type": "code",
      "source": [
        "!pip install keras"
      ],
      "execution_count": 1,
      "outputs": [
        {
          "output_type": "stream",
          "text": [
            "Requirement already satisfied: keras in /usr/local/lib/python3.6/dist-packages\r\n",
            "Requirement already satisfied: numpy>=1.9.1 in /usr/local/lib/python3.6/dist-packages (from keras)\r\n",
            "Requirement already satisfied: scipy>=0.14 in /usr/local/lib/python3.6/dist-packages (from keras)\r\n",
            "Requirement already satisfied: pyyaml in /usr/local/lib/python3.6/dist-packages (from keras)\r\n",
            "Requirement already satisfied: six>=1.9.0 in /usr/local/lib/python3.6/dist-packages (from keras)\r\n"
          ],
          "name": "stdout"
        }
      ]
    },
    {
      "metadata": {
        "id": "avYcap4utEwx",
        "colab_type": "text"
      },
      "cell_type": "markdown",
      "source": [
        "# Keras CIFAR10"
      ]
    },
    {
      "metadata": {
        "id": "kbirvkRkt4Xb",
        "colab_type": "text"
      },
      "cell_type": "markdown",
      "source": [
        "## First Attempt"
      ]
    },
    {
      "metadata": {
        "id": "y_zxgdRjtpjv",
        "colab_type": "text"
      },
      "cell_type": "markdown",
      "source": [
        "Imports that willbe used for the entire project. I will be creating a CNN model to classify the cifar 10 dataset."
      ]
    },
    {
      "metadata": {
        "id": "l1ZE5gOctH-w",
        "colab_type": "code",
        "colab": {
          "autoexec": {
            "startup": false,
            "wait_interval": 0
          },
          "output_extras": [
            {
              "item_id": 1
            }
          ],
          "base_uri": "https://localhost:8080/",
          "height": 34
        },
        "outputId": "b7c0c4ce-9c97-45a6-d862-85753485171a",
        "executionInfo": {
          "status": "ok",
          "timestamp": 1521606509883,
          "user_tz": 0,
          "elapsed": 1328,
          "user": {
            "displayName": "Thibault Huyet",
            "photoUrl": "https://lh3.googleusercontent.com/a/default-user=s128",
            "userId": "100784631454882897414"
          }
        }
      },
      "cell_type": "code",
      "source": [
        "import keras\n",
        "from keras.datasets import cifar10\n",
        "from keras.layers import Conv2D, MaxPooling2D\n",
        "from keras.layers import Dense, Dropout, Activation, Flatten\n",
        "from keras.models import Sequential"
      ],
      "execution_count": 2,
      "outputs": [
        {
          "output_type": "stream",
          "text": [
            "Using TensorFlow backend.\n"
          ],
          "name": "stderr"
        }
      ]
    },
    {
      "metadata": {
        "id": "ctow9-D_t_ZC",
        "colab_type": "text"
      },
      "cell_type": "markdown",
      "source": [
        "### Data Loading"
      ]
    },
    {
      "metadata": {
        "id": "lG_Np-btuDgL",
        "colab_type": "code",
        "colab": {
          "autoexec": {
            "startup": false,
            "wait_interval": 0
          },
          "output_extras": [
            {
              "item_id": 1
            }
          ],
          "base_uri": "https://localhost:8080/",
          "height": 68
        },
        "outputId": "a29f436a-4a80-48dd-f9f7-79b9d660cb6e",
        "executionInfo": {
          "status": "ok",
          "timestamp": 1521606511076,
          "user_tz": 0,
          "elapsed": 1160,
          "user": {
            "displayName": "Thibault Huyet",
            "photoUrl": "https://lh3.googleusercontent.com/a/default-user=s128",
            "userId": "100784631454882897414"
          }
        }
      },
      "cell_type": "code",
      "source": [
        "(x_train, y_train), (x_test, y_test) = cifar10.load_data()\n",
        "\n",
        "# Make the labels one hot encoded\n",
        "# CIFAR 10 has 10 classes\n",
        "y_train = keras.utils.to_categorical(y_train, 10)\n",
        "y_test = keras.utils.to_categorical(y_test, 10)\n",
        "\n",
        "x_train = x_train.astype('float32') / 255\n",
        "x_test = x_test.astype('float32') / 255\n",
        "\n",
        "print('Training Samples {}'.format(x_train.shape[0]))\n",
        "print('Test Samples {}'.format(x_test.shape[0]))\n",
        "\n",
        "print('Input Shape = {}'.format(x_train.shape[1:]))"
      ],
      "execution_count": 3,
      "outputs": [
        {
          "output_type": "stream",
          "text": [
            "Training Samples 50000\n",
            "Test Samples 10000\n",
            "Input Shape = (32, 32, 3)\n"
          ],
          "name": "stdout"
        }
      ]
    },
    {
      "metadata": {
        "id": "BkzzioQnt0uE",
        "colab_type": "text"
      },
      "cell_type": "markdown",
      "source": [
        "### Model Creation & Training"
      ]
    },
    {
      "metadata": {
        "id": "_qupCicktniQ",
        "colab_type": "code",
        "colab": {
          "autoexec": {
            "startup": false,
            "wait_interval": 0
          },
          "output_extras": [
            {
              "item_id": 1
            }
          ],
          "base_uri": "https://localhost:8080/",
          "height": 408
        },
        "outputId": "70739ce6-dd57-4be1-c57d-447c54d8b156",
        "executionInfo": {
          "status": "ok",
          "timestamp": 1521606511660,
          "user_tz": 0,
          "elapsed": 566,
          "user": {
            "displayName": "Thibault Huyet",
            "photoUrl": "https://lh3.googleusercontent.com/a/default-user=s128",
            "userId": "100784631454882897414"
          }
        }
      },
      "cell_type": "code",
      "source": [
        "model = Sequential()\n",
        "\n",
        "model.add(Conv2D(32, (5, 5), input_shape = (32, 32, 3), padding = 'same', activation = 'relu'))\n",
        "model.add(MaxPooling2D(pool_size = (2, 2)))\n",
        "\n",
        "model.add(Conv2D(64, (5, 5), padding = 'same', activation = 'relu'))\n",
        "model.add(MaxPooling2D(pool_size = (2, 2)))\n",
        "\n",
        "model.add(Flatten())\n",
        "model.add(Dense(1024, activation = 'relu'))\n",
        "model.add(Dropout(0.5))\n",
        "\n",
        "model.add(Dense(10, activation = 'softmax'))\n",
        "\n",
        "model.summary()"
      ],
      "execution_count": 4,
      "outputs": [
        {
          "output_type": "stream",
          "text": [
            "_________________________________________________________________\n",
            "Layer (type)                 Output Shape              Param #   \n",
            "=================================================================\n",
            "conv2d_1 (Conv2D)            (None, 32, 32, 32)        2432      \n",
            "_________________________________________________________________\n",
            "max_pooling2d_1 (MaxPooling2 (None, 16, 16, 32)        0         \n",
            "_________________________________________________________________\n",
            "conv2d_2 (Conv2D)            (None, 16, 16, 64)        51264     \n",
            "_________________________________________________________________\n",
            "max_pooling2d_2 (MaxPooling2 (None, 8, 8, 64)          0         \n",
            "_________________________________________________________________\n",
            "flatten_1 (Flatten)          (None, 4096)              0         \n",
            "_________________________________________________________________\n",
            "dense_1 (Dense)              (None, 1024)              4195328   \n",
            "_________________________________________________________________\n",
            "dropout_1 (Dropout)          (None, 1024)              0         \n",
            "_________________________________________________________________\n",
            "dense_2 (Dense)              (None, 10)                10250     \n",
            "=================================================================\n",
            "Total params: 4,259,274\n",
            "Trainable params: 4,259,274\n",
            "Non-trainable params: 0\n",
            "_________________________________________________________________\n"
          ],
          "name": "stdout"
        }
      ]
    },
    {
      "metadata": {
        "id": "ndL91CgbwR4Q",
        "colab_type": "code",
        "colab": {
          "autoexec": {
            "startup": false,
            "wait_interval": 0
          },
          "output_extras": [
            {
              "item_id": 72
            },
            {
              "item_id": 182
            },
            {
              "item_id": 334
            },
            {
              "item_id": 444
            },
            {
              "item_id": 594
            },
            {
              "item_id": 704
            },
            {
              "item_id": 852
            },
            {
              "item_id": 961
            },
            {
              "item_id": 1109
            },
            {
              "item_id": 1217
            },
            {
              "item_id": 1364
            },
            {
              "item_id": 1470
            },
            {
              "item_id": 1616
            },
            {
              "item_id": 1723
            },
            {
              "item_id": 1867
            },
            {
              "item_id": 1972
            },
            {
              "item_id": 2116
            },
            {
              "item_id": 2221
            },
            {
              "item_id": 2365
            },
            {
              "item_id": 2469
            },
            {
              "item_id": 2610
            },
            {
              "item_id": 2654
            },
            {
              "item_id": 2694
            },
            {
              "item_id": 2724
            },
            {
              "item_id": 2764
            },
            {
              "item_id": 2861
            },
            {
              "item_id": 2934
            },
            {
              "item_id": 2965
            },
            {
              "item_id": 3005
            },
            {
              "item_id": 3069
            },
            {
              "item_id": 3134
            },
            {
              "item_id": 3191
            },
            {
              "item_id": 3238
            },
            {
              "item_id": 3273
            }
          ],
          "base_uri": "https://localhost:8080/",
          "height": 1771
        },
        "outputId": "e3301b96-7adf-4a38-ee35-1dda3688a4de",
        "executionInfo": {
          "status": "ok",
          "timestamp": 1521607657252,
          "user_tz": 0,
          "elapsed": 1145463,
          "user": {
            "displayName": "Thibault Huyet",
            "photoUrl": "https://lh3.googleusercontent.com/a/default-user=s128",
            "userId": "100784631454882897414"
          }
        }
      },
      "cell_type": "code",
      "source": [
        "batch_size = 32\n",
        "epochs = 50\n",
        "\n",
        "opt = keras.optimizers.rmsprop(lr=0.0001, decay=1e-6)\n",
        "\n",
        "model.compile(loss = 'categorical_crossentropy',\n",
        "             optimizer = opt,\n",
        "             metrics = ['accuracy'])\n",
        "\n",
        "history = model.fit(x_train, y_train, \n",
        "                    batch_size = batch_size,\n",
        "                    epochs = epochs,\n",
        "                    validation_data = (x_test, y_test))"
      ],
      "execution_count": 5,
      "outputs": [
        {
          "output_type": "stream",
          "text": [
            "WARNING:tensorflow:Variable *= will be deprecated. Use variable.assign_mul if you want assignment to the variable value or 'x = x * y' if you want a new python Tensor object.\n",
            "Train on 50000 samples, validate on 10000 samples\n",
            "Epoch 1/50\n",
            "39520/50000 [======================>.......] - ETA: 4s - loss: 1.6901 - acc: 0.3902"
          ],
          "name": "stdout"
        },
        {
          "output_type": "stream",
          "text": [
            "50000/50000 [==============================] - 24s 482us/step - loss: 1.6397 - acc: 0.4085 - val_loss: 1.3932 - val_acc: 0.5079\n",
            "Epoch 2/50\n",
            "50000/50000 [==============================] - 23s 457us/step - loss: 1.3148 - acc: 0.5327 - val_loss: 1.2278 - val_acc: 0.5643\n",
            "Epoch 3/50\n",
            " 1792/50000 [>.............................] - ETA: 20s - loss: 1.1891 - acc: 0.5798"
          ],
          "name": "stdout"
        },
        {
          "output_type": "stream",
          "text": [
            "50000/50000 [==============================] - 23s 457us/step - loss: 1.1625 - acc: 0.5913 - val_loss: 1.1204 - val_acc: 0.6119\n",
            "Epoch 4/50\n",
            "39008/50000 [======================>.......] - ETA: 4s - loss: 1.0608 - acc: 0.6293"
          ],
          "name": "stdout"
        },
        {
          "output_type": "stream",
          "text": [
            "50000/50000 [==============================] - 23s 457us/step - loss: 1.0551 - acc: 0.6308 - val_loss: 1.0014 - val_acc: 0.6482\n",
            "Epoch 5/50\n",
            "50000/50000 [==============================] - 23s 457us/step - loss: 0.9791 - acc: 0.6591 - val_loss: 0.9613 - val_acc: 0.6719\n",
            "Epoch 6/50\n",
            " 1824/50000 [>.............................] - ETA: 20s - loss: 0.9457 - acc: 0.6700"
          ],
          "name": "stdout"
        },
        {
          "output_type": "stream",
          "text": [
            "50000/50000 [==============================] - 23s 456us/step - loss: 0.9178 - acc: 0.6807 - val_loss: 1.0084 - val_acc: 0.6455\n",
            "Epoch 7/50\n",
            "39168/50000 [======================>.......] - ETA: 4s - loss: 0.8644 - acc: 0.6997"
          ],
          "name": "stdout"
        },
        {
          "output_type": "stream",
          "text": [
            "50000/50000 [==============================] - 23s 457us/step - loss: 0.8674 - acc: 0.6994 - val_loss: 0.9522 - val_acc: 0.6711\n",
            "Epoch 8/50\n",
            "50000/50000 [==============================] - 23s 457us/step - loss: 0.8235 - acc: 0.7161 - val_loss: 0.8829 - val_acc: 0.6910\n",
            "Epoch 9/50\n",
            " 1824/50000 [>.............................] - ETA: 21s - loss: 0.7897 - acc: 0.7182"
          ],
          "name": "stdout"
        },
        {
          "output_type": "stream",
          "text": [
            "50000/50000 [==============================] - 23s 456us/step - loss: 0.7873 - acc: 0.7278 - val_loss: 0.9547 - val_acc: 0.6666\n",
            "Epoch 10/50\n",
            "38880/50000 [======================>.......] - ETA: 4s - loss: 0.7526 - acc: 0.7414"
          ],
          "name": "stdout"
        },
        {
          "output_type": "stream",
          "text": [
            "50000/50000 [==============================] - 23s 455us/step - loss: 0.7504 - acc: 0.7421 - val_loss: 0.8566 - val_acc: 0.7072\n",
            "Epoch 11/50\n",
            "50000/50000 [==============================] - 23s 455us/step - loss: 0.7251 - acc: 0.7502 - val_loss: 0.8902 - val_acc: 0.7046\n",
            "Epoch 12/50\n",
            " 1568/50000 [..............................] - ETA: 21s - loss: 0.6696 - acc: 0.7768"
          ],
          "name": "stdout"
        },
        {
          "output_type": "stream",
          "text": [
            "50000/50000 [==============================] - 23s 458us/step - loss: 0.6993 - acc: 0.7620 - val_loss: 0.8632 - val_acc: 0.7038\n",
            "Epoch 13/50\n",
            "38816/50000 [======================>.......] - ETA: 4s - loss: 0.6756 - acc: 0.7716"
          ],
          "name": "stdout"
        },
        {
          "output_type": "stream",
          "text": [
            "50000/50000 [==============================] - 23s 459us/step - loss: 0.6769 - acc: 0.7699 - val_loss: 0.8391 - val_acc: 0.7145\n",
            "Epoch 14/50\n",
            "50000/50000 [==============================] - 23s 458us/step - loss: 0.6552 - acc: 0.7790 - val_loss: 0.8141 - val_acc: 0.7268\n",
            "Epoch 15/50\n",
            " 1440/50000 [..............................] - ETA: 21s - loss: 0.6275 - acc: 0.7910"
          ],
          "name": "stdout"
        },
        {
          "output_type": "stream",
          "text": [
            "50000/50000 [==============================] - 23s 457us/step - loss: 0.6369 - acc: 0.7847 - val_loss: 0.8239 - val_acc: 0.7257\n",
            "Epoch 16/50\n",
            "38592/50000 [======================>.......] - ETA: 4s - loss: 0.6206 - acc: 0.7915"
          ],
          "name": "stdout"
        },
        {
          "output_type": "stream",
          "text": [
            "50000/50000 [==============================] - 23s 461us/step - loss: 0.6242 - acc: 0.7906 - val_loss: 0.8346 - val_acc: 0.7235\n",
            "Epoch 17/50\n",
            "50000/50000 [==============================] - 23s 460us/step - loss: 0.6088 - acc: 0.7954 - val_loss: 0.8508 - val_acc: 0.7210\n",
            "Epoch 18/50\n",
            " 1440/50000 [..............................] - ETA: 21s - loss: 0.5781 - acc: 0.8049"
          ],
          "name": "stdout"
        },
        {
          "output_type": "stream",
          "text": [
            "50000/50000 [==============================] - 23s 459us/step - loss: 0.6004 - acc: 0.7987 - val_loss: 0.8625 - val_acc: 0.7210\n",
            "Epoch 19/50\n",
            "38720/50000 [======================>.......] - ETA: 4s - loss: 0.5921 - acc: 0.8012"
          ],
          "name": "stdout"
        },
        {
          "output_type": "stream",
          "text": [
            "50000/50000 [==============================] - 23s 460us/step - loss: 0.5920 - acc: 0.8009 - val_loss: 0.8081 - val_acc: 0.7344\n",
            "Epoch 20/50\n",
            "50000/50000 [==============================] - 23s 458us/step - loss: 0.5823 - acc: 0.8042 - val_loss: 0.8785 - val_acc: 0.7291\n",
            "Epoch 21/50\n",
            " 1568/50000 [..............................] - ETA: 20s - loss: 0.5785 - acc: 0.8068"
          ],
          "name": "stdout"
        },
        {
          "output_type": "stream",
          "text": [
            "50000/50000 [==============================] - 23s 459us/step - loss: 0.5734 - acc: 0.8092 - val_loss: 0.8400 - val_acc: 0.7301\n",
            "Epoch 22/50\n",
            "38752/50000 [======================>.......] - ETA: 4s - loss: 0.5684 - acc: 0.8127"
          ],
          "name": "stdout"
        },
        {
          "output_type": "stream",
          "text": [
            "50000/50000 [==============================] - 23s 457us/step - loss: 0.5704 - acc: 0.8115 - val_loss: 0.8134 - val_acc: 0.7341\n",
            "Epoch 23/50\n",
            "50000/50000 [==============================] - 23s 460us/step - loss: 0.5666 - acc: 0.8133 - val_loss: 0.9619 - val_acc: 0.7004\n",
            "Epoch 24/50\n",
            " 1568/50000 [..............................] - ETA: 21s - loss: 0.5405 - acc: 0.8265"
          ],
          "name": "stdout"
        },
        {
          "output_type": "stream",
          "text": [
            "50000/50000 [==============================] - 23s 460us/step - loss: 0.5637 - acc: 0.8139 - val_loss: 0.8506 - val_acc: 0.7374\n",
            "Epoch 25/50\n",
            "38752/50000 [======================>.......] - ETA: 4s - loss: 0.5549 - acc: 0.8141"
          ],
          "name": "stdout"
        },
        {
          "output_type": "stream",
          "text": [
            "50000/50000 [==============================] - 23s 461us/step - loss: 0.5601 - acc: 0.8129 - val_loss: 0.8074 - val_acc: 0.7389\n",
            "Epoch 26/50\n",
            "50000/50000 [==============================] - 23s 459us/step - loss: 0.5536 - acc: 0.8160 - val_loss: 0.8837 - val_acc: 0.7182\n",
            "Epoch 27/50\n",
            " 1440/50000 [..............................] - ETA: 21s - loss: 0.5102 - acc: 0.8285"
          ],
          "name": "stdout"
        },
        {
          "output_type": "stream",
          "text": [
            "50000/50000 [==============================] - 23s 456us/step - loss: 0.5524 - acc: 0.8156 - val_loss: 0.8598 - val_acc: 0.7310\n",
            "Epoch 28/50\n",
            "38720/50000 [======================>.......] - ETA: 4s - loss: 0.5433 - acc: 0.8179"
          ],
          "name": "stdout"
        },
        {
          "output_type": "stream",
          "text": [
            "50000/50000 [==============================] - 23s 458us/step - loss: 0.5475 - acc: 0.8172 - val_loss: 0.8712 - val_acc: 0.7348\n",
            "Epoch 29/50\n",
            "50000/50000 [==============================] - 23s 458us/step - loss: 0.5455 - acc: 0.8184 - val_loss: 0.9613 - val_acc: 0.7234\n",
            "Epoch 30/50\n",
            " 1568/50000 [..............................] - ETA: 21s - loss: 0.5450 - acc: 0.8221"
          ],
          "name": "stdout"
        },
        {
          "output_type": "stream",
          "text": [
            "50000/50000 [==============================] - 23s 456us/step - loss: 0.5416 - acc: 0.8182 - val_loss: 0.8542 - val_acc: 0.7358\n",
            "Epoch 31/50\n",
            "38720/50000 [======================>.......] - ETA: 4s - loss: 0.5374 - acc: 0.8210"
          ],
          "name": "stdout"
        },
        {
          "output_type": "stream",
          "text": [
            "50000/50000 [==============================] - 23s 460us/step - loss: 0.5401 - acc: 0.8201 - val_loss: 0.9233 - val_acc: 0.7273\n",
            "Epoch 32/50\n",
            "50000/50000 [==============================] - 23s 459us/step - loss: 0.5427 - acc: 0.8201 - val_loss: 0.9267 - val_acc: 0.7242\n",
            "Epoch 33/50\n",
            " 1568/50000 [..............................] - ETA: 21s - loss: 0.5597 - acc: 0.8195"
          ],
          "name": "stdout"
        },
        {
          "output_type": "stream",
          "text": [
            "50000/50000 [==============================] - 23s 459us/step - loss: 0.5376 - acc: 0.8216 - val_loss: 0.9087 - val_acc: 0.7148\n",
            "Epoch 34/50\n",
            "38816/50000 [======================>.......] - ETA: 4s - loss: 0.5362 - acc: 0.8216"
          ],
          "name": "stdout"
        },
        {
          "output_type": "stream",
          "text": [
            "50000/50000 [==============================] - 23s 456us/step - loss: 0.5355 - acc: 0.8221 - val_loss: 0.9797 - val_acc: 0.7041\n",
            "Epoch 35/50\n",
            "50000/50000 [==============================] - 23s 456us/step - loss: 0.5386 - acc: 0.8222 - val_loss: 0.8718 - val_acc: 0.7313\n",
            "Epoch 36/50\n",
            " 1440/50000 [..............................] - ETA: 21s - loss: 0.5033 - acc: 0.8326"
          ],
          "name": "stdout"
        },
        {
          "output_type": "stream",
          "text": [
            "50000/50000 [==============================] - 23s 458us/step - loss: 0.5305 - acc: 0.8224 - val_loss: 1.0523 - val_acc: 0.7074\n",
            "Epoch 37/50\n",
            "38688/50000 [======================>.......] - ETA: 4s - loss: 0.5326 - acc: 0.8234"
          ],
          "name": "stdout"
        },
        {
          "output_type": "stream",
          "text": [
            "50000/50000 [==============================] - 23s 453us/step - loss: 0.5339 - acc: 0.8231 - val_loss: 0.9342 - val_acc: 0.7242\n",
            "Epoch 38/50\n",
            "50000/50000 [==============================] - 23s 459us/step - loss: 0.5284 - acc: 0.8243 - val_loss: 0.8810 - val_acc: 0.7363\n",
            "Epoch 39/50\n",
            " 1568/50000 [..............................] - ETA: 21s - loss: 0.5394 - acc: 0.8227"
          ],
          "name": "stdout"
        },
        {
          "output_type": "stream",
          "text": [
            "50000/50000 [==============================] - 23s 455us/step - loss: 0.5239 - acc: 0.8269 - val_loss: 1.0065 - val_acc: 0.7186\n",
            "Epoch 40/50\n",
            "38656/50000 [======================>.......] - ETA: 4s - loss: 0.5270 - acc: 0.8257"
          ],
          "name": "stdout"
        },
        {
          "output_type": "stream",
          "text": [
            "50000/50000 [==============================] - 23s 457us/step - loss: 0.5253 - acc: 0.8256 - val_loss: 0.9619 - val_acc: 0.7330\n",
            "Epoch 41/50\n",
            "50000/50000 [==============================] - 23s 456us/step - loss: 0.5201 - acc: 0.8263 - val_loss: 0.8833 - val_acc: 0.7293\n",
            "Epoch 42/50\n",
            " 1440/50000 [..............................] - ETA: 21s - loss: 0.5476 - acc: 0.8132"
          ],
          "name": "stdout"
        },
        {
          "output_type": "stream",
          "text": [
            "50000/50000 [==============================] - 23s 457us/step - loss: 0.5195 - acc: 0.8263 - val_loss: 0.9811 - val_acc: 0.7161\n",
            "Epoch 43/50\n",
            "38656/50000 [======================>.......] - ETA: 4s - loss: 0.5208 - acc: 0.8276"
          ],
          "name": "stdout"
        },
        {
          "output_type": "stream",
          "text": [
            "50000/50000 [==============================] - 23s 458us/step - loss: 0.5234 - acc: 0.8272 - val_loss: 0.9274 - val_acc: 0.7379\n",
            "Epoch 44/50\n",
            "50000/50000 [==============================] - 23s 457us/step - loss: 0.5168 - acc: 0.8293 - val_loss: 0.9075 - val_acc: 0.7299\n",
            "Epoch 45/50\n",
            " 1440/50000 [..............................] - ETA: 21s - loss: 0.5087 - acc: 0.8229"
          ],
          "name": "stdout"
        },
        {
          "output_type": "stream",
          "text": [
            "50000/50000 [==============================] - 23s 455us/step - loss: 0.5184 - acc: 0.8288 - val_loss: 0.9689 - val_acc: 0.7178\n",
            "Epoch 46/50\n",
            "38784/50000 [======================>.......] - ETA: 4s - loss: 0.5202 - acc: 0.8293"
          ],
          "name": "stdout"
        },
        {
          "output_type": "stream",
          "text": [
            "50000/50000 [==============================] - 23s 455us/step - loss: 0.5228 - acc: 0.8279 - val_loss: 0.9562 - val_acc: 0.7350\n",
            "Epoch 47/50\n",
            "50000/50000 [==============================] - 23s 455us/step - loss: 0.5162 - acc: 0.8284 - val_loss: 1.0950 - val_acc: 0.7163\n",
            "Epoch 48/50\n",
            " 1440/50000 [..............................] - ETA: 21s - loss: 0.5077 - acc: 0.8313"
          ],
          "name": "stdout"
        },
        {
          "output_type": "stream",
          "text": [
            "50000/50000 [==============================] - 23s 456us/step - loss: 0.5089 - acc: 0.8317 - val_loss: 0.8626 - val_acc: 0.7343\n",
            "Epoch 49/50\n",
            "38688/50000 [======================>.......] - ETA: 4s - loss: 0.5073 - acc: 0.8320"
          ],
          "name": "stdout"
        },
        {
          "output_type": "stream",
          "text": [
            "50000/50000 [==============================] - 23s 456us/step - loss: 0.5081 - acc: 0.8318 - val_loss: 1.0021 - val_acc: 0.7319\n",
            "Epoch 50/50\n",
            "50000/50000 [==============================] - 23s 455us/step - loss: 0.5060 - acc: 0.8353 - val_loss: 1.0103 - val_acc: 0.6994\n"
          ],
          "name": "stdout"
        }
      ]
    },
    {
      "metadata": {
        "id": "3gClSyvt6iFD",
        "colab_type": "text"
      },
      "cell_type": "markdown",
      "source": [
        "### Graphing"
      ]
    },
    {
      "metadata": {
        "id": "RxuX8yx-wuIZ",
        "colab_type": "code",
        "colab": {
          "autoexec": {
            "startup": false,
            "wait_interval": 0
          }
        }
      },
      "cell_type": "code",
      "source": [
        "acc = history.history['acc']\n",
        "loss = history.history['loss']\n",
        "v_acc = history.history['val_acc']\n",
        "v_loss = history.history['val_loss']"
      ],
      "execution_count": 0,
      "outputs": []
    },
    {
      "metadata": {
        "id": "Z-9tsmBW44ed",
        "colab_type": "code",
        "colab": {
          "autoexec": {
            "startup": false,
            "wait_interval": 0
          },
          "output_extras": [
            {
              "item_id": 1
            }
          ],
          "base_uri": "https://localhost:8080/",
          "height": 365
        },
        "outputId": "ea4a1139-1014-432a-93fa-28c99c70a212",
        "executionInfo": {
          "status": "ok",
          "timestamp": 1521608033729,
          "user_tz": 0,
          "elapsed": 534,
          "user": {
            "displayName": "Thibault Huyet",
            "photoUrl": "https://lh3.googleusercontent.com/a/default-user=s128",
            "userId": "100784631454882897414"
          }
        }
      },
      "cell_type": "code",
      "source": [
        "import matplotlib.pyplot as plt\n",
        "import numpy as np\n",
        "\n",
        "plt.plot(acc)\n",
        "plt.plot(v_acc)\n",
        "plt.ylabel('Accuracy (%)')\n",
        "plt.xlabel('Epoch')\n",
        "plt.xticks(np.arange(0, 51, 10))\n",
        "plt.yticks(np.arange(0.3, 1.1, 0.1))\n",
        "plt.legend(['Train', 'Test'])\n",
        "plt.grid(color = 'k')\n",
        "plt.show()"
      ],
      "execution_count": 15,
      "outputs": [
        {
          "output_type": "display_data",
          "data": {
            "image/png": "[encoded data removed]",
            "text/plain": [
              "<matplotlib.figure.Figure at 0x7fbf24d17400>"
            ]
          },
          "metadata": {
            "tags": []
          }
        }
      ]
    },
    {
      "metadata": {
        "id": "j_G2uszX5PAp",
        "colab_type": "code",
        "colab": {
          "autoexec": {
            "startup": false,
            "wait_interval": 0
          },
          "output_extras": [
            {
              "item_id": 1
            }
          ],
          "base_uri": "https://localhost:8080/",
          "height": 361
        },
        "outputId": "e89805a1-1b88-4b8d-fdcc-06aad7a4a387",
        "executionInfo": {
          "status": "ok",
          "timestamp": 1521608087395,
          "user_tz": 0,
          "elapsed": 548,
          "user": {
            "displayName": "Thibault Huyet",
            "photoUrl": "https://lh3.googleusercontent.com/a/default-user=s128",
            "userId": "100784631454882897414"
          }
        }
      },
      "cell_type": "code",
      "source": [
        "plt.plot(loss)\n",
        "plt.plot(v_loss)\n",
        "plt.ylabel('Loss')\n",
        "plt.xlabel('Epoch')\n",
        "plt.legend(['Train', 'Test'])\n",
        "plt.grid(color = 'k')\n",
        "plt.show()"
      ],
      "execution_count": 16,
      "outputs": [
        {
          "output_type": "display_data",
          "data": {
            "image/png": "[encoded data removed]",
            "text/plain": [
              "<matplotlib.figure.Figure at 0x7fbf24cd96d8>"
            ]
          },
          "metadata": {
            "tags": []
          }
        }
      ]
    },
    {
      "metadata": {
        "id": "98dcOQI36NUL",
        "colab_type": "code",
        "colab": {
          "autoexec": {
            "startup": false,
            "wait_interval": 0
          },
          "output_extras": [
            {
              "item_id": 1
            }
          ],
          "base_uri": "https://localhost:8080/",
          "height": 34
        },
        "outputId": "a9cab22b-99c2-4cad-fd8c-ff76b0d69760",
        "executionInfo": {
          "status": "ok",
          "timestamp": 1521608160136,
          "user_tz": 0,
          "elapsed": 437,
          "user": {
            "displayName": "Thibault Huyet",
            "photoUrl": "https://lh3.googleusercontent.com/a/default-user=s128",
            "userId": "100784631454882897414"
          }
        }
      },
      "cell_type": "code",
      "source": [
        "max(acc), max(v_acc)"
      ],
      "execution_count": 19,
      "outputs": [
        {
          "output_type": "execute_result",
          "data": {
            "text/plain": [
              "(0.8353, 0.7389)"
            ]
          },
          "metadata": {
            "tags": []
          },
          "execution_count": 19
        }
      ]
    },
    {
      "metadata": {
        "id": "1eOlWQIZ9N5s",
        "colab_type": "text"
      },
      "cell_type": "markdown",
      "source": [
        "## Attempt 2"
      ]
    },
    {
      "metadata": {
        "id": "lvEWVrGX9RTQ",
        "colab_type": "text"
      },
      "cell_type": "markdown",
      "source": [
        "### Library Imports and Data Init"
      ]
    },
    {
      "metadata": {
        "id": "rCzRpUVT-BJU",
        "colab_type": "text"
      },
      "cell_type": "markdown",
      "source": [
        "For this attempt, I wanted to give a shot at adding Fractional Max Pooling in Keras."
      ]
    },
    {
      "metadata": {
        "id": "ic5o1cIz9Pky",
        "colab_type": "code",
        "colab": {
          "autoexec": {
            "startup": false,
            "wait_interval": 0
          },
          "output_extras": [
            {
              "item_id": 1
            },
            {
              "item_id": 2
            }
          ],
          "base_uri": "https://localhost:8080/",
          "height": 85
        },
        "outputId": "c049bd28-4ec2-4861-f766-769fb736b06d",
        "executionInfo": {
          "status": "ok",
          "timestamp": 1521612186932,
          "user_tz": 0,
          "elapsed": 1890,
          "user": {
            "displayName": "Thibault Huyet",
            "photoUrl": "https://lh3.googleusercontent.com/a/default-user=s128",
            "userId": "100784631454882897414"
          }
        }
      },
      "cell_type": "code",
      "source": [
        "import tensorflow as tf\n",
        "import keras\n",
        "from keras.datasets import cifar10\n",
        "from keras.layers import Conv2D, MaxPooling2D\n",
        "from keras.layers import Dense, Dropout, Activation, Flatten\n",
        "from keras.models import Sequential\n",
        "\n",
        "(x_train, y_train), (x_test, y_test) = cifar10.load_data()\n",
        "\n",
        "# Make the labels one hot encoded\n",
        "# CIFAR 10 has 10 classes\n",
        "y_train = keras.utils.to_categorical(y_train, 10)\n",
        "y_test = keras.utils.to_categorical(y_test, 10)\n",
        "\n",
        "x_train = x_train.astype('float32') / 255\n",
        "x_test = x_test.astype('float32') / 255\n",
        "\n",
        "print('Training Samples {}'.format(x_train.shape[0]))\n",
        "print('Test Samples {}'.format(x_test.shape[0]))\n",
        "\n",
        "print('Input Shape = {}'.format(x_train.shape[1:]))"
      ],
      "execution_count": 1,
      "outputs": [
        {
          "output_type": "stream",
          "text": [
            "Using TensorFlow backend.\n"
          ],
          "name": "stderr"
        },
        {
          "output_type": "stream",
          "text": [
            "Training Samples 50000\n",
            "Test Samples 10000\n",
            "Input Shape = (32, 32, 3)\n"
          ],
          "name": "stdout"
        }
      ]
    },
    {
      "metadata": {
        "id": "0iPi6eqT_k3I",
        "colab_type": "text"
      },
      "cell_type": "markdown",
      "source": [
        "### Model Creation"
      ]
    },
    {
      "metadata": {
        "id": "l79NhvAV_fOg",
        "colab_type": "code",
        "colab": {
          "autoexec": {
            "startup": false,
            "wait_interval": 0
          },
          "output_extras": [
            {
              "item_id": 1
            }
          ],
          "base_uri": "https://localhost:8080/",
          "height": 782
        },
        "outputId": "c04686f1-42c7-476f-a292-2dd9f73cf81c",
        "executionInfo": {
          "status": "ok",
          "timestamp": 1521612189345,
          "user_tz": 0,
          "elapsed": 588,
          "user": {
            "displayName": "Thibault Huyet",
            "photoUrl": "https://lh3.googleusercontent.com/a/default-user=s128",
            "userId": "100784631454882897414"
          }
        }
      },
      "cell_type": "code",
      "source": [
        "model = Sequential()\n",
        "\n",
        "model.add(Conv2D(32, (3, 3), input_shape = (32, 32, 3), padding = 'same', activation = 'relu'))\n",
        "model.add(Conv2D(32, (3, 3), activation = 'relu'))\n",
        "model.add(Conv2D(32, (3, 3), activation = 'relu'))\n",
        "model.add(MaxPooling2D(pool_size = (2, 2)))\n",
        "model.add(Dropout(0.5))\n",
        "\n",
        "model.add(Conv2D(64, (3, 3), padding = 'same', activation = 'relu'))\n",
        "model.add(Conv2D(64, (3, 3), activation = 'relu'))\n",
        "model.add(Conv2D(64, (3, 3), activation = 'relu'))\n",
        "model.add(MaxPooling2D(pool_size = (2, 2)))\n",
        "model.add(Dropout(0.5))\n",
        "\n",
        "model.add(Conv2D(128, (3, 3), padding = 'same', activation = 'relu'))\n",
        "model.add(Conv2D(128, (3, 3), activation = 'relu'))\n",
        "model.add(Conv2D(128, (3, 3), activation = 'relu'))\n",
        "model.add(MaxPooling2D(pool_size = (8, 8), padding = 'same'))\n",
        "\n",
        "model.add(Flatten())\n",
        "model.add(Dropout(0.5))\n",
        "model.add(Dense(512, activation = 'relu'))\n",
        "model.add(Dropout(0.5))\n",
        "\n",
        "model.add(Dense(10, activation = 'softmax'))\n",
        "\n",
        "model.summary()"
      ],
      "execution_count": 2,
      "outputs": [
        {
          "output_type": "stream",
          "text": [
            "_________________________________________________________________\n",
            "Layer (type)                 Output Shape              Param #   \n",
            "=================================================================\n",
            "conv2d_1 (Conv2D)            (None, 32, 32, 32)        896       \n",
            "_________________________________________________________________\n",
            "conv2d_2 (Conv2D)            (None, 30, 30, 32)        9248      \n",
            "_________________________________________________________________\n",
            "conv2d_3 (Conv2D)            (None, 28, 28, 32)        9248      \n",
            "_________________________________________________________________\n",
            "max_pooling2d_1 (MaxPooling2 (None, 14, 14, 32)        0         \n",
            "_________________________________________________________________\n",
            "dropout_1 (Dropout)          (None, 14, 14, 32)        0         \n",
            "_________________________________________________________________\n",
            "conv2d_4 (Conv2D)            (None, 14, 14, 64)        18496     \n",
            "_________________________________________________________________\n",
            "conv2d_5 (Conv2D)            (None, 12, 12, 64)        36928     \n",
            "_________________________________________________________________\n",
            "conv2d_6 (Conv2D)            (None, 10, 10, 64)        36928     \n",
            "_________________________________________________________________\n",
            "max_pooling2d_2 (MaxPooling2 (None, 5, 5, 64)          0         \n",
            "_________________________________________________________________\n",
            "dropout_2 (Dropout)          (None, 5, 5, 64)          0         \n",
            "_________________________________________________________________\n",
            "conv2d_7 (Conv2D)            (None, 5, 5, 128)         73856     \n",
            "_________________________________________________________________\n",
            "conv2d_8 (Conv2D)            (None, 3, 3, 128)         147584    \n",
            "_________________________________________________________________\n",
            "conv2d_9 (Conv2D)            (None, 1, 1, 128)         147584    \n",
            "_________________________________________________________________\n",
            "max_pooling2d_3 (MaxPooling2 (None, 1, 1, 128)         0         \n",
            "_________________________________________________________________\n",
            "flatten_1 (Flatten)          (None, 128)               0         \n",
            "_________________________________________________________________\n",
            "dropout_3 (Dropout)          (None, 128)               0         \n",
            "_________________________________________________________________\n",
            "dense_1 (Dense)              (None, 512)               66048     \n",
            "_________________________________________________________________\n",
            "dropout_4 (Dropout)          (None, 512)               0         \n",
            "_________________________________________________________________\n",
            "dense_2 (Dense)              (None, 10)                5130      \n",
            "=================================================================\n",
            "Total params: 551,946\n",
            "Trainable params: 551,946\n",
            "Non-trainable params: 0\n",
            "_________________________________________________________________\n"
          ],
          "name": "stdout"
        }
      ]
    },
    {
      "metadata": {
        "id": "ymlQJVgw-tvk",
        "colab_type": "code",
        "colab": {
          "autoexec": {
            "startup": false,
            "wait_interval": 0
          },
          "output_extras": [
            {
              "item_id": 73
            },
            {
              "item_id": 212
            },
            {
              "item_id": 344
            },
            {
              "item_id": 473
            },
            {
              "item_id": 598
            },
            {
              "item_id": 666
            },
            {
              "item_id": 701
            },
            {
              "item_id": 736
            },
            {
              "item_id": 771
            },
            {
              "item_id": 804
            },
            {
              "item_id": 837
            },
            {
              "item_id": 871
            },
            {
              "item_id": 905
            },
            {
              "item_id": 940
            },
            {
              "item_id": 974
            },
            {
              "item_id": 1007
            },
            {
              "item_id": 1041
            },
            {
              "item_id": 1075
            },
            {
              "item_id": 1135
            },
            {
              "item_id": 1170
            },
            {
              "item_id": 1205
            },
            {
              "item_id": 1239
            },
            {
              "item_id": 1274
            },
            {
              "item_id": 1343
            },
            {
              "item_id": 1392
            },
            {
              "item_id": 1504
            },
            {
              "item_id": 1619
            },
            {
              "item_id": 1731
            },
            {
              "item_id": 1844
            },
            {
              "item_id": 1957
            },
            {
              "item_id": 2069
            },
            {
              "item_id": 2179
            },
            {
              "item_id": 2290
            },
            {
              "item_id": 2400
            },
            {
              "item_id": 2510
            },
            {
              "item_id": 2620
            },
            {
              "item_id": 2729
            },
            {
              "item_id": 2838
            },
            {
              "item_id": 2947
            },
            {
              "item_id": 3056
            },
            {
              "item_id": 3164
            },
            {
              "item_id": 3272
            },
            {
              "item_id": 3381
            },
            {
              "item_id": 3488
            },
            {
              "item_id": 3596
            },
            {
              "item_id": 3702
            },
            {
              "item_id": 3809
            },
            {
              "item_id": 3915
            },
            {
              "item_id": 4023
            },
            {
              "item_id": 4128
            },
            {
              "item_id": 4233
            },
            {
              "item_id": 4336
            },
            {
              "item_id": 4439
            },
            {
              "item_id": 4542
            },
            {
              "item_id": 4645
            },
            {
              "item_id": 4748
            },
            {
              "item_id": 4850
            },
            {
              "item_id": 4949
            },
            {
              "item_id": 5048
            },
            {
              "item_id": 5148
            },
            {
              "item_id": 5250
            },
            {
              "item_id": 5351
            },
            {
              "item_id": 5450
            },
            {
              "item_id": 5552
            },
            {
              "item_id": 5652
            },
            {
              "item_id": 5752
            },
            {
              "item_id": 5852
            },
            {
              "item_id": 5951
            },
            {
              "item_id": 6049
            },
            {
              "item_id": 6148
            },
            {
              "item_id": 6245
            },
            {
              "item_id": 6343
            },
            {
              "item_id": 6440
            },
            {
              "item_id": 6537
            },
            {
              "item_id": 6634
            },
            {
              "item_id": 6732
            },
            {
              "item_id": 6829
            },
            {
              "item_id": 6927
            },
            {
              "item_id": 7022
            },
            {
              "item_id": 7119
            },
            {
              "item_id": 7214
            },
            {
              "item_id": 7308
            },
            {
              "item_id": 7402
            },
            {
              "item_id": 7497
            },
            {
              "item_id": 7591
            },
            {
              "item_id": 7685
            },
            {
              "item_id": 7777
            },
            {
              "item_id": 7870
            },
            {
              "item_id": 7963
            },
            {
              "item_id": 8056
            },
            {
              "item_id": 8150
            },
            {
              "item_id": 8245
            },
            {
              "item_id": 8341
            },
            {
              "item_id": 8435
            },
            {
              "item_id": 8529
            },
            {
              "item_id": 8612
            },
            {
              "item_id": 8704
            },
            {
              "item_id": 8742
            },
            {
              "item_id": 8776
            },
            {
              "item_id": 8810
            },
            {
              "item_id": 8844
            },
            {
              "item_id": 8878
            },
            {
              "item_id": 8913
            },
            {
              "item_id": 8947
            },
            {
              "item_id": 8982
            },
            {
              "item_id": 9017
            },
            {
              "item_id": 9052
            },
            {
              "item_id": 9085
            },
            {
              "item_id": 9118
            },
            {
              "item_id": 9152
            },
            {
              "item_id": 9186
            },
            {
              "item_id": 9221
            },
            {
              "item_id": 9256
            },
            {
              "item_id": 9289
            },
            {
              "item_id": 9323
            },
            {
              "item_id": 9357
            },
            {
              "item_id": 9391
            },
            {
              "item_id": 9425
            },
            {
              "item_id": 9459
            },
            {
              "item_id": 9494
            },
            {
              "item_id": 9528
            },
            {
              "item_id": 9561
            },
            {
              "item_id": 9595
            },
            {
              "item_id": 9629
            },
            {
              "item_id": 9663
            },
            {
              "item_id": 9697
            },
            {
              "item_id": 9732
            },
            {
              "item_id": 9765
            },
            {
              "item_id": 9799
            },
            {
              "item_id": 9833
            },
            {
              "item_id": 9867
            },
            {
              "item_id": 9901
            },
            {
              "item_id": 9935
            },
            {
              "item_id": 9969
            },
            {
              "item_id": 10003
            },
            {
              "item_id": 10037
            },
            {
              "item_id": 10072
            },
            {
              "item_id": 10105
            },
            {
              "item_id": 10139
            },
            {
              "item_id": 10173
            },
            {
              "item_id": 10206
            },
            {
              "item_id": 10255
            },
            {
              "item_id": 10293
            },
            {
              "item_id": 10357
            },
            {
              "item_id": 10391
            },
            {
              "item_id": 10426
            },
            {
              "item_id": 10461
            },
            {
              "item_id": 10496
            },
            {
              "item_id": 10532
            },
            {
              "item_id": 10580
            },
            {
              "item_id": 10590
            }
          ],
          "base_uri": "https://localhost:8080/",
          "height": 5171
        },
        "outputId": "5163971e-2e02-44f2-dcab-220ca6f283f4",
        "executionInfo": {
          "status": "ok",
          "timestamp": 1521617287366,
          "user_tz": 0,
          "elapsed": 5095654,
          "user": {
            "displayName": "Thibault Huyet",
            "photoUrl": "https://lh3.googleusercontent.com/a/default-user=s128",
            "userId": "100784631454882897414"
          }
        }
      },
      "cell_type": "code",
      "source": [
        "batch_size = 32\n",
        "epochs = 150\n",
        "\n",
        "opt = keras.optimizers.rmsprop(lr=0.0001, decay=1e-6)\n",
        "\n",
        "model.compile(loss = 'categorical_crossentropy',\n",
        "             optimizer = opt,\n",
        "             metrics = ['accuracy'])\n",
        "\n",
        "history = model.fit(x_train, y_train, \n",
        "                    batch_size = batch_size,\n",
        "                    epochs = epochs,\n",
        "                    validation_data = (x_test, y_test))"
      ],
      "execution_count": 3,
      "outputs": [
        {
          "output_type": "stream",
          "text": [
            "WARNING:tensorflow:Variable *= will be deprecated. Use variable.assign_mul if you want assignment to the variable value or 'x = x * y' if you want a new python Tensor object.\n",
            "Train on 50000 samples, validate on 10000 samples\n",
            "Epoch 1/150\n",
            "29536/50000 [================>.............] - ETA: 14s - loss: 2.2007 - acc: 0.1465"
          ],
          "name": "stdout"
        },
        {
          "output_type": "stream",
          "text": [
            "50000/50000 [==============================] - 36s 712us/step - loss: 2.1134 - acc: 0.1747 - val_loss: 1.9246 - val_acc: 0.2654\n",
            "Epoch 2/150\n",
            "35008/50000 [====================>.........] - ETA: 9s - loss: 1.8549 - acc: 0.2842"
          ],
          "name": "stdout"
        },
        {
          "output_type": "stream",
          "text": [
            "50000/50000 [==============================] - 34s 681us/step - loss: 1.8272 - acc: 0.3009 - val_loss: 1.6444 - val_acc: 0.3838\n",
            "Epoch 3/150\n",
            "37056/50000 [=====================>........] - ETA: 8s - loss: 1.6752 - acc: 0.3787"
          ],
          "name": "stdout"
        },
        {
          "output_type": "stream",
          "text": [
            "50000/50000 [==============================] - 34s 681us/step - loss: 1.6568 - acc: 0.3864 - val_loss: 1.7139 - val_acc: 0.4000\n",
            "Epoch 4/150\n",
            "37760/50000 [=====================>........] - ETA: 7s - loss: 1.5334 - acc: 0.4339"
          ],
          "name": "stdout"
        },
        {
          "output_type": "stream",
          "text": [
            "50000/50000 [==============================] - 34s 676us/step - loss: 1.5209 - acc: 0.4402 - val_loss: 1.4649 - val_acc: 0.4715\n",
            "Epoch 5/150\n",
            "38112/50000 [=====================>........] - ETA: 7s - loss: 1.4312 - acc: 0.4807"
          ],
          "name": "stdout"
        },
        {
          "output_type": "stream",
          "text": [
            "50000/50000 [==============================] - 34s 676us/step - loss: 1.4257 - acc: 0.4825 - val_loss: 1.3364 - val_acc: 0.5108\n",
            "Epoch 6/150\n",
            "38272/50000 [=====================>........] - ETA: 7s - loss: 1.3585 - acc: 0.5094"
          ],
          "name": "stdout"
        },
        {
          "output_type": "stream",
          "text": [
            "50000/50000 [==============================] - 34s 679us/step - loss: 1.3535 - acc: 0.5108 - val_loss: 1.3347 - val_acc: 0.5185\n",
            "Epoch 7/150\n",
            "38176/50000 [=====================>........] - ETA: 7s - loss: 1.2907 - acc: 0.5377"
          ],
          "name": "stdout"
        },
        {
          "output_type": "stream",
          "text": [
            "50000/50000 [==============================] - 34s 679us/step - loss: 1.2868 - acc: 0.5395 - val_loss: 1.1679 - val_acc: 0.5760\n",
            "Epoch 8/150\n",
            "38304/50000 [=====================>........] - ETA: 7s - loss: 1.2484 - acc: 0.5554"
          ],
          "name": "stdout"
        },
        {
          "output_type": "stream",
          "text": [
            "50000/50000 [==============================] - 34s 676us/step - loss: 1.2448 - acc: 0.5571 - val_loss: 1.1739 - val_acc: 0.5826\n",
            "Epoch 9/150\n",
            "38240/50000 [=====================>........] - ETA: 7s - loss: 1.2083 - acc: 0.5709"
          ],
          "name": "stdout"
        },
        {
          "output_type": "stream",
          "text": [
            "50000/50000 [==============================] - 34s 679us/step - loss: 1.2035 - acc: 0.5734 - val_loss: 1.1798 - val_acc: 0.5799\n",
            "Epoch 10/150\n",
            "38112/50000 [=====================>........] - ETA: 7s - loss: 1.1731 - acc: 0.5841"
          ],
          "name": "stdout"
        },
        {
          "output_type": "stream",
          "text": [
            "50000/50000 [==============================] - 34s 677us/step - loss: 1.1660 - acc: 0.5864 - val_loss: 1.1222 - val_acc: 0.6050\n",
            "Epoch 11/150\n",
            "38112/50000 [=====================>........] - ETA: 7s - loss: 1.1339 - acc: 0.6016"
          ],
          "name": "stdout"
        },
        {
          "output_type": "stream",
          "text": [
            "50000/50000 [==============================] - 34s 676us/step - loss: 1.1300 - acc: 0.6020 - val_loss: 1.1742 - val_acc: 0.5926\n",
            "Epoch 12/150\n",
            "38112/50000 [=====================>........] - ETA: 7s - loss: 1.0998 - acc: 0.6128"
          ],
          "name": "stdout"
        },
        {
          "output_type": "stream",
          "text": [
            "50000/50000 [==============================] - 34s 677us/step - loss: 1.0988 - acc: 0.6142 - val_loss: 1.0541 - val_acc: 0.6322\n",
            "Epoch 13/150\n",
            "38048/50000 [=====================>........] - ETA: 7s - loss: 1.0743 - acc: 0.6208"
          ],
          "name": "stdout"
        },
        {
          "output_type": "stream",
          "text": [
            "50000/50000 [==============================] - 34s 675us/step - loss: 1.0749 - acc: 0.6217 - val_loss: 0.9857 - val_acc: 0.6516\n",
            "Epoch 14/150\n",
            "38016/50000 [=====================>........] - ETA: 7s - loss: 1.0509 - acc: 0.6329"
          ],
          "name": "stdout"
        },
        {
          "output_type": "stream",
          "text": [
            "50000/50000 [==============================] - 34s 676us/step - loss: 1.0470 - acc: 0.6335 - val_loss: 1.0499 - val_acc: 0.6350\n",
            "Epoch 15/150\n",
            "38048/50000 [=====================>........] - ETA: 7s - loss: 1.0248 - acc: 0.6393"
          ],
          "name": "stdout"
        },
        {
          "output_type": "stream",
          "text": [
            "50000/50000 [==============================] - 34s 678us/step - loss: 1.0259 - acc: 0.6407 - val_loss: 0.9706 - val_acc: 0.6594\n",
            "Epoch 16/150\n",
            "37984/50000 [=====================>........] - ETA: 7s - loss: 1.0072 - acc: 0.6504"
          ],
          "name": "stdout"
        },
        {
          "output_type": "stream",
          "text": [
            "50000/50000 [==============================] - 34s 679us/step - loss: 1.0047 - acc: 0.6516 - val_loss: 0.9394 - val_acc: 0.6740\n",
            "Epoch 17/150\n",
            "37984/50000 [=====================>........] - ETA: 7s - loss: 0.9872 - acc: 0.6552"
          ],
          "name": "stdout"
        },
        {
          "output_type": "stream",
          "text": [
            "50000/50000 [==============================] - 34s 678us/step - loss: 0.9868 - acc: 0.6560 - val_loss: 0.9703 - val_acc: 0.6602\n",
            "Epoch 18/150\n",
            "38016/50000 [=====================>........] - ETA: 7s - loss: 0.9767 - acc: 0.6630"
          ],
          "name": "stdout"
        },
        {
          "output_type": "stream",
          "text": [
            "50000/50000 [==============================] - 34s 678us/step - loss: 0.9754 - acc: 0.6625 - val_loss: 1.0577 - val_acc: 0.6445\n",
            "Epoch 19/150\n",
            "38016/50000 [=====================>........] - ETA: 7s - loss: 0.9647 - acc: 0.6666"
          ],
          "name": "stdout"
        },
        {
          "output_type": "stream",
          "text": [
            "50000/50000 [==============================] - 34s 674us/step - loss: 0.9641 - acc: 0.6673 - val_loss: 0.8941 - val_acc: 0.6900\n",
            "Epoch 20/150\n",
            "38016/50000 [=====================>........] - ETA: 7s - loss: 0.9496 - acc: 0.6721"
          ],
          "name": "stdout"
        },
        {
          "output_type": "stream",
          "text": [
            "50000/50000 [==============================] - 34s 678us/step - loss: 0.9534 - acc: 0.6706 - val_loss: 0.8766 - val_acc: 0.6984\n",
            "Epoch 21/150\n",
            "37952/50000 [=====================>........] - ETA: 7s - loss: 0.9440 - acc: 0.6784"
          ],
          "name": "stdout"
        },
        {
          "output_type": "stream",
          "text": [
            "50000/50000 [==============================] - 34s 682us/step - loss: 0.9416 - acc: 0.6791 - val_loss: 0.8468 - val_acc: 0.7070\n",
            "Epoch 22/150\n",
            "37952/50000 [=====================>........] - ETA: 7s - loss: 0.9285 - acc: 0.6827"
          ],
          "name": "stdout"
        },
        {
          "output_type": "stream",
          "text": [
            "50000/50000 [==============================] - 34s 683us/step - loss: 0.9267 - acc: 0.6823 - val_loss: 1.0143 - val_acc: 0.6592\n",
            "Epoch 23/150\n",
            "37984/50000 [=====================>........] - ETA: 7s - loss: 0.9183 - acc: 0.6841"
          ],
          "name": "stdout"
        },
        {
          "output_type": "stream",
          "text": [
            "50000/50000 [==============================] - 34s 681us/step - loss: 0.9172 - acc: 0.6848 - val_loss: 0.8808 - val_acc: 0.7000\n",
            "Epoch 24/150\n",
            "37984/50000 [=====================>........] - ETA: 7s - loss: 0.9036 - acc: 0.6932"
          ],
          "name": "stdout"
        },
        {
          "output_type": "stream",
          "text": [
            "50000/50000 [==============================] - 34s 683us/step - loss: 0.9054 - acc: 0.6918 - val_loss: 1.0087 - val_acc: 0.6660\n",
            "Epoch 25/150\n",
            "37856/50000 [=====================>........] - ETA: 7s - loss: 0.9009 - acc: 0.6935"
          ],
          "name": "stdout"
        },
        {
          "output_type": "stream",
          "text": [
            "50000/50000 [==============================] - 34s 681us/step - loss: 0.9035 - acc: 0.6928 - val_loss: 0.8162 - val_acc: 0.7162\n",
            "Epoch 26/150\n",
            "38016/50000 [=====================>........] - ETA: 7s - loss: 0.8966 - acc: 0.6932"
          ],
          "name": "stdout"
        },
        {
          "output_type": "stream",
          "text": [
            "50000/50000 [==============================] - 34s 680us/step - loss: 0.8942 - acc: 0.6948 - val_loss: 0.9804 - val_acc: 0.6600\n",
            "Epoch 27/150\n",
            "38048/50000 [=====================>........] - ETA: 7s - loss: 0.8858 - acc: 0.6988"
          ],
          "name": "stdout"
        },
        {
          "output_type": "stream",
          "text": [
            "50000/50000 [==============================] - 34s 680us/step - loss: 0.8885 - acc: 0.6986 - val_loss: 0.8256 - val_acc: 0.7175\n",
            "Epoch 28/150\n",
            "38016/50000 [=====================>........] - ETA: 7s - loss: 0.8860 - acc: 0.6993"
          ],
          "name": "stdout"
        },
        {
          "output_type": "stream",
          "text": [
            "50000/50000 [==============================] - 34s 683us/step - loss: 0.8832 - acc: 0.7009 - val_loss: 0.8806 - val_acc: 0.7038\n",
            "Epoch 29/150\n",
            "38016/50000 [=====================>........] - ETA: 7s - loss: 0.8741 - acc: 0.7052"
          ],
          "name": "stdout"
        },
        {
          "output_type": "stream",
          "text": [
            "50000/50000 [==============================] - 34s 683us/step - loss: 0.8783 - acc: 0.7024 - val_loss: 0.8186 - val_acc: 0.7165\n",
            "Epoch 30/150\n",
            "37920/50000 [=====================>........] - ETA: 7s - loss: 0.8654 - acc: 0.7079"
          ],
          "name": "stdout"
        },
        {
          "output_type": "stream",
          "text": [
            "50000/50000 [==============================] - 34s 680us/step - loss: 0.8676 - acc: 0.7084 - val_loss: 0.7899 - val_acc: 0.7321\n",
            "Epoch 31/150\n",
            "38048/50000 [=====================>........] - ETA: 7s - loss: 0.8605 - acc: 0.7091"
          ],
          "name": "stdout"
        },
        {
          "output_type": "stream",
          "text": [
            "50000/50000 [==============================] - 34s 678us/step - loss: 0.8652 - acc: 0.7084 - val_loss: 0.8713 - val_acc: 0.7113\n",
            "Epoch 32/150\n",
            "37952/50000 [=====================>........] - ETA: 7s - loss: 0.8552 - acc: 0.7116"
          ],
          "name": "stdout"
        },
        {
          "output_type": "stream",
          "text": [
            "50000/50000 [==============================] - 34s 676us/step - loss: 0.8564 - acc: 0.7103 - val_loss: 0.7886 - val_acc: 0.7312\n",
            "Epoch 33/150\n",
            "37920/50000 [=====================>........] - ETA: 7s - loss: 0.8469 - acc: 0.7149"
          ],
          "name": "stdout"
        },
        {
          "output_type": "stream",
          "text": [
            "50000/50000 [==============================] - 34s 679us/step - loss: 0.8535 - acc: 0.7126 - val_loss: 0.9352 - val_acc: 0.6884\n",
            "Epoch 34/150\n",
            "38048/50000 [=====================>........] - ETA: 7s - loss: 0.8495 - acc: 0.7112"
          ],
          "name": "stdout"
        },
        {
          "output_type": "stream",
          "text": [
            "50000/50000 [==============================] - 34s 677us/step - loss: 0.8518 - acc: 0.7127 - val_loss: 0.8233 - val_acc: 0.7275\n",
            "Epoch 35/150\n",
            "38016/50000 [=====================>........] - ETA: 7s - loss: 0.8441 - acc: 0.7165"
          ],
          "name": "stdout"
        },
        {
          "output_type": "stream",
          "text": [
            "50000/50000 [==============================] - 34s 676us/step - loss: 0.8467 - acc: 0.7153 - val_loss: 0.7948 - val_acc: 0.7352\n",
            "Epoch 36/150\n",
            "38048/50000 [=====================>........] - ETA: 7s - loss: 0.8449 - acc: 0.7157"
          ],
          "name": "stdout"
        },
        {
          "output_type": "stream",
          "text": [
            "50000/50000 [==============================] - 34s 677us/step - loss: 0.8452 - acc: 0.7167 - val_loss: 0.8377 - val_acc: 0.7157\n",
            "Epoch 37/150\n",
            "37952/50000 [=====================>........] - ETA: 7s - loss: 0.8443 - acc: 0.7183"
          ],
          "name": "stdout"
        },
        {
          "output_type": "stream",
          "text": [
            "50000/50000 [==============================] - 34s 678us/step - loss: 0.8469 - acc: 0.7164 - val_loss: 1.0290 - val_acc: 0.6644\n",
            "Epoch 38/150\n",
            "37952/50000 [=====================>........] - ETA: 7s - loss: 0.8474 - acc: 0.7181"
          ],
          "name": "stdout"
        },
        {
          "output_type": "stream",
          "text": [
            "50000/50000 [==============================] - 34s 674us/step - loss: 0.8464 - acc: 0.7190 - val_loss: 0.9029 - val_acc: 0.7036\n",
            "Epoch 39/150\n",
            "38016/50000 [=====================>........] - ETA: 7s - loss: 0.8444 - acc: 0.7209"
          ],
          "name": "stdout"
        },
        {
          "output_type": "stream",
          "text": [
            "50000/50000 [==============================] - 34s 677us/step - loss: 0.8492 - acc: 0.7199 - val_loss: 0.7698 - val_acc: 0.7484\n",
            "Epoch 40/150\n",
            "38016/50000 [=====================>........] - ETA: 7s - loss: 0.8390 - acc: 0.7203"
          ],
          "name": "stdout"
        },
        {
          "output_type": "stream",
          "text": [
            "50000/50000 [==============================] - 34s 677us/step - loss: 0.8370 - acc: 0.7210 - val_loss: 0.8530 - val_acc: 0.7208\n",
            "Epoch 41/150\n",
            "37952/50000 [=====================>........] - ETA: 7s - loss: 0.8340 - acc: 0.7236"
          ],
          "name": "stdout"
        },
        {
          "output_type": "stream",
          "text": [
            "50000/50000 [==============================] - 34s 680us/step - loss: 0.8370 - acc: 0.7217 - val_loss: 0.7914 - val_acc: 0.7337\n",
            "Epoch 42/150\n",
            "37920/50000 [=====================>........] - ETA: 7s - loss: 0.8328 - acc: 0.7232"
          ],
          "name": "stdout"
        },
        {
          "output_type": "stream",
          "text": [
            "50000/50000 [==============================] - 34s 682us/step - loss: 0.8390 - acc: 0.7223 - val_loss: 0.7275 - val_acc: 0.7525\n",
            "Epoch 43/150\n",
            "37984/50000 [=====================>........] - ETA: 7s - loss: 0.8402 - acc: 0.7235"
          ],
          "name": "stdout"
        },
        {
          "output_type": "stream",
          "text": [
            "50000/50000 [==============================] - 34s 683us/step - loss: 0.8430 - acc: 0.7227 - val_loss: 0.7888 - val_acc: 0.7401\n",
            "Epoch 44/150\n",
            "37984/50000 [=====================>........] - ETA: 7s - loss: 0.8384 - acc: 0.7231"
          ],
          "name": "stdout"
        },
        {
          "output_type": "stream",
          "text": [
            "50000/50000 [==============================] - 34s 682us/step - loss: 0.8428 - acc: 0.7212 - val_loss: 0.8238 - val_acc: 0.7242\n",
            "Epoch 45/150\n",
            "38016/50000 [=====================>........] - ETA: 7s - loss: 0.8414 - acc: 0.7237"
          ],
          "name": "stdout"
        },
        {
          "output_type": "stream",
          "text": [
            "50000/50000 [==============================] - 34s 683us/step - loss: 0.8440 - acc: 0.7219 - val_loss: 0.7913 - val_acc: 0.7409\n",
            "Epoch 46/150\n",
            "37920/50000 [=====================>........] - ETA: 7s - loss: 0.8427 - acc: 0.7257"
          ],
          "name": "stdout"
        },
        {
          "output_type": "stream",
          "text": [
            "50000/50000 [==============================] - 34s 682us/step - loss: 0.8471 - acc: 0.7239 - val_loss: 0.7624 - val_acc: 0.7461\n",
            "Epoch 47/150\n",
            "37984/50000 [=====================>........] - ETA: 7s - loss: 0.8468 - acc: 0.7247"
          ],
          "name": "stdout"
        },
        {
          "output_type": "stream",
          "text": [
            "50000/50000 [==============================] - 34s 680us/step - loss: 0.8475 - acc: 0.7238 - val_loss: 0.8586 - val_acc: 0.7141\n",
            "Epoch 48/150\n",
            "38016/50000 [=====================>........] - ETA: 7s - loss: 0.8454 - acc: 0.7251"
          ],
          "name": "stdout"
        },
        {
          "output_type": "stream",
          "text": [
            "50000/50000 [==============================] - 34s 679us/step - loss: 0.8460 - acc: 0.7250 - val_loss: 0.8503 - val_acc: 0.7221\n",
            "Epoch 49/150\n",
            "37952/50000 [=====================>........] - ETA: 7s - loss: 0.8401 - acc: 0.7268"
          ],
          "name": "stdout"
        },
        {
          "output_type": "stream",
          "text": [
            "50000/50000 [==============================] - 34s 676us/step - loss: 0.8393 - acc: 0.7263 - val_loss: 0.8409 - val_acc: 0.7336\n",
            "Epoch 50/150\n",
            "37984/50000 [=====================>........] - ETA: 7s - loss: 0.8469 - acc: 0.7229"
          ],
          "name": "stdout"
        },
        {
          "output_type": "stream",
          "text": [
            "50000/50000 [==============================] - 34s 677us/step - loss: 0.8473 - acc: 0.7234 - val_loss: 0.7535 - val_acc: 0.7495\n",
            "Epoch 51/150\n",
            "38048/50000 [=====================>........] - ETA: 7s - loss: 0.8532 - acc: 0.7261"
          ],
          "name": "stdout"
        },
        {
          "output_type": "stream",
          "text": [
            "50000/50000 [==============================] - 34s 674us/step - loss: 0.8563 - acc: 0.7242 - val_loss: 0.8045 - val_acc: 0.7279\n",
            "Epoch 52/150\n",
            "37984/50000 [=====================>........] - ETA: 7s - loss: 0.8636 - acc: 0.7230"
          ],
          "name": "stdout"
        },
        {
          "output_type": "stream",
          "text": [
            "50000/50000 [==============================] - 34s 678us/step - loss: 0.8637 - acc: 0.7227 - val_loss: 0.8012 - val_acc: 0.7408\n",
            "Epoch 53/150\n",
            "38048/50000 [=====================>........] - ETA: 7s - loss: 0.8738 - acc: 0.7203"
          ],
          "name": "stdout"
        },
        {
          "output_type": "stream",
          "text": [
            "50000/50000 [==============================] - 34s 678us/step - loss: 0.8717 - acc: 0.7205 - val_loss: 0.7931 - val_acc: 0.7344\n",
            "Epoch 54/150\n",
            "38048/50000 [=====================>........] - ETA: 7s - loss: 0.8603 - acc: 0.7229"
          ],
          "name": "stdout"
        },
        {
          "output_type": "stream",
          "text": [
            "50000/50000 [==============================] - 34s 679us/step - loss: 0.8656 - acc: 0.7210 - val_loss: 0.9767 - val_acc: 0.6983\n",
            "Epoch 55/150\n",
            "37952/50000 [=====================>........] - ETA: 7s - loss: 0.8654 - acc: 0.7206"
          ],
          "name": "stdout"
        },
        {
          "output_type": "stream",
          "text": [
            "50000/50000 [==============================] - 34s 678us/step - loss: 0.8663 - acc: 0.7210 - val_loss: 0.8055 - val_acc: 0.7299\n",
            "Epoch 56/150\n",
            "37984/50000 [=====================>........] - ETA: 7s - loss: 0.8680 - acc: 0.7195"
          ],
          "name": "stdout"
        },
        {
          "output_type": "stream",
          "text": [
            "50000/50000 [==============================] - 34s 677us/step - loss: 0.8720 - acc: 0.7184 - val_loss: 0.7414 - val_acc: 0.7628\n",
            "Epoch 57/150\n",
            "38016/50000 [=====================>........] - ETA: 7s - loss: 0.8887 - acc: 0.7161"
          ],
          "name": "stdout"
        },
        {
          "output_type": "stream",
          "text": [
            "50000/50000 [==============================] - 34s 676us/step - loss: 0.8924 - acc: 0.7145 - val_loss: 0.7972 - val_acc: 0.7411\n",
            "Epoch 58/150\n",
            "37920/50000 [=====================>........] - ETA: 7s - loss: 0.8861 - acc: 0.7173"
          ],
          "name": "stdout"
        },
        {
          "output_type": "stream",
          "text": [
            "50000/50000 [==============================] - 34s 683us/step - loss: 0.8894 - acc: 0.7161 - val_loss: 0.7542 - val_acc: 0.7506\n",
            "Epoch 59/150\n",
            "38016/50000 [=====================>........] - ETA: 7s - loss: 0.9022 - acc: 0.7120"
          ],
          "name": "stdout"
        },
        {
          "output_type": "stream",
          "text": [
            "50000/50000 [==============================] - 34s 679us/step - loss: 0.8963 - acc: 0.7141 - val_loss: 0.8815 - val_acc: 0.7172\n",
            "Epoch 60/150\n",
            "38016/50000 [=====================>........] - ETA: 7s - loss: 0.8936 - acc: 0.7143"
          ],
          "name": "stdout"
        },
        {
          "output_type": "stream",
          "text": [
            "50000/50000 [==============================] - 34s 681us/step - loss: 0.8954 - acc: 0.7131 - val_loss: 0.8252 - val_acc: 0.7368\n",
            "Epoch 61/150\n",
            "37984/50000 [=====================>........] - ETA: 7s - loss: 0.9056 - acc: 0.7124"
          ],
          "name": "stdout"
        },
        {
          "output_type": "stream",
          "text": [
            "50000/50000 [==============================] - 34s 680us/step - loss: 0.9023 - acc: 0.7135 - val_loss: 0.7960 - val_acc: 0.7343\n",
            "Epoch 62/150\n",
            "38016/50000 [=====================>........] - ETA: 7s - loss: 0.9106 - acc: 0.7107"
          ],
          "name": "stdout"
        },
        {
          "output_type": "stream",
          "text": [
            "50000/50000 [==============================] - 34s 681us/step - loss: 0.9131 - acc: 0.7096 - val_loss: 0.7674 - val_acc: 0.7406\n",
            "Epoch 63/150\n",
            "37952/50000 [=====================>........] - ETA: 7s - loss: 0.9117 - acc: 0.7091"
          ],
          "name": "stdout"
        },
        {
          "output_type": "stream",
          "text": [
            "50000/50000 [==============================] - 34s 681us/step - loss: 0.9132 - acc: 0.7089 - val_loss: 0.8578 - val_acc: 0.7202\n",
            "Epoch 64/150\n",
            "37984/50000 [=====================>........] - ETA: 7s - loss: 0.9223 - acc: 0.7112"
          ],
          "name": "stdout"
        },
        {
          "output_type": "stream",
          "text": [
            "50000/50000 [==============================] - 34s 680us/step - loss: 0.9216 - acc: 0.7109 - val_loss: 0.8274 - val_acc: 0.7275\n",
            "Epoch 65/150\n",
            "37984/50000 [=====================>........] - ETA: 7s - loss: 0.9415 - acc: 0.7038"
          ],
          "name": "stdout"
        },
        {
          "output_type": "stream",
          "text": [
            "50000/50000 [==============================] - 34s 681us/step - loss: 0.9444 - acc: 0.7037 - val_loss: 0.9384 - val_acc: 0.6902\n",
            "Epoch 66/150\n",
            "37856/50000 [=====================>........] - ETA: 7s - loss: 0.9414 - acc: 0.7035"
          ],
          "name": "stdout"
        },
        {
          "output_type": "stream",
          "text": [
            "50000/50000 [==============================] - 34s 682us/step - loss: 0.9394 - acc: 0.7042 - val_loss: 0.8440 - val_acc: 0.7178\n",
            "Epoch 67/150\n",
            "37952/50000 [=====================>........] - ETA: 7s - loss: 0.9408 - acc: 0.7036"
          ],
          "name": "stdout"
        },
        {
          "output_type": "stream",
          "text": [
            "50000/50000 [==============================] - 34s 679us/step - loss: 0.9406 - acc: 0.7045 - val_loss: 0.9679 - val_acc: 0.6877\n",
            "Epoch 68/150\n",
            "37984/50000 [=====================>........] - ETA: 7s - loss: 0.9471 - acc: 0.7021"
          ],
          "name": "stdout"
        },
        {
          "output_type": "stream",
          "text": [
            "50000/50000 [==============================] - 34s 677us/step - loss: 0.9494 - acc: 0.7014 - val_loss: 0.9631 - val_acc: 0.7104\n",
            "Epoch 69/150\n",
            "37984/50000 [=====================>........] - ETA: 7s - loss: 0.9444 - acc: 0.6998"
          ],
          "name": "stdout"
        },
        {
          "output_type": "stream",
          "text": [
            "50000/50000 [==============================] - 34s 675us/step - loss: 0.9430 - acc: 0.7003 - val_loss: 1.1084 - val_acc: 0.6769\n",
            "Epoch 70/150\n",
            "37952/50000 [=====================>........] - ETA: 7s - loss: 0.9542 - acc: 0.7002"
          ],
          "name": "stdout"
        },
        {
          "output_type": "stream",
          "text": [
            "50000/50000 [==============================] - 34s 680us/step - loss: 0.9566 - acc: 0.6983 - val_loss: 0.9593 - val_acc: 0.7272\n",
            "Epoch 71/150\n",
            "37984/50000 [=====================>........] - ETA: 7s - loss: 0.9747 - acc: 0.6986"
          ],
          "name": "stdout"
        },
        {
          "output_type": "stream",
          "text": [
            "50000/50000 [==============================] - 34s 678us/step - loss: 0.9726 - acc: 0.6979 - val_loss: 1.1926 - val_acc: 0.6489\n",
            "Epoch 72/150\n",
            "38016/50000 [=====================>........] - ETA: 7s - loss: 0.9691 - acc: 0.6993"
          ],
          "name": "stdout"
        },
        {
          "output_type": "stream",
          "text": [
            "50000/50000 [==============================] - 34s 677us/step - loss: 0.9708 - acc: 0.6971 - val_loss: 0.9940 - val_acc: 0.6873\n",
            "Epoch 73/150\n",
            "38048/50000 [=====================>........] - ETA: 7s - loss: 0.9833 - acc: 0.6927"
          ],
          "name": "stdout"
        },
        {
          "output_type": "stream",
          "text": [
            "50000/50000 [==============================] - 34s 677us/step - loss: 0.9835 - acc: 0.6924 - val_loss: 0.8271 - val_acc: 0.7264\n",
            "Epoch 74/150\n",
            "37952/50000 [=====================>........] - ETA: 7s - loss: 0.9816 - acc: 0.6942"
          ],
          "name": "stdout"
        },
        {
          "output_type": "stream",
          "text": [
            "50000/50000 [==============================] - 34s 681us/step - loss: 0.9835 - acc: 0.6921 - val_loss: 0.8207 - val_acc: 0.7471\n",
            "Epoch 75/150\n",
            "37984/50000 [=====================>........] - ETA: 7s - loss: 0.9821 - acc: 0.6940"
          ],
          "name": "stdout"
        },
        {
          "output_type": "stream",
          "text": [
            "50000/50000 [==============================] - 34s 682us/step - loss: 0.9844 - acc: 0.6921 - val_loss: 0.8551 - val_acc: 0.7286\n",
            "Epoch 76/150\n",
            "37952/50000 [=====================>........] - ETA: 7s - loss: 0.9896 - acc: 0.6895"
          ],
          "name": "stdout"
        },
        {
          "output_type": "stream",
          "text": [
            "50000/50000 [==============================] - 34s 681us/step - loss: 0.9923 - acc: 0.6895 - val_loss: 0.9632 - val_acc: 0.6776\n",
            "Epoch 77/150\n",
            "37856/50000 [=====================>........] - ETA: 7s - loss: 1.0002 - acc: 0.6895"
          ],
          "name": "stdout"
        },
        {
          "output_type": "stream",
          "text": [
            "50000/50000 [==============================] - 34s 681us/step - loss: 1.0018 - acc: 0.6886 - val_loss: 1.0446 - val_acc: 0.6579\n",
            "Epoch 78/150\n",
            "37984/50000 [=====================>........] - ETA: 7s - loss: 1.0200 - acc: 0.6837"
          ],
          "name": "stdout"
        },
        {
          "output_type": "stream",
          "text": [
            "50000/50000 [==============================] - 34s 681us/step - loss: 1.0166 - acc: 0.6849 - val_loss: 0.9367 - val_acc: 0.6975\n",
            "Epoch 79/150\n",
            "37920/50000 [=====================>........] - ETA: 7s - loss: 1.0211 - acc: 0.6803"
          ],
          "name": "stdout"
        },
        {
          "output_type": "stream",
          "text": [
            "50000/50000 [==============================] - 34s 680us/step - loss: 1.0219 - acc: 0.6815 - val_loss: 0.8958 - val_acc: 0.7139\n",
            "Epoch 80/150\n",
            "37952/50000 [=====================>........] - ETA: 7s - loss: 1.0400 - acc: 0.6849"
          ],
          "name": "stdout"
        },
        {
          "output_type": "stream",
          "text": [
            "50000/50000 [==============================] - 34s 682us/step - loss: 1.0330 - acc: 0.6857 - val_loss: 1.0058 - val_acc: 0.7220\n",
            "Epoch 81/150\n",
            "37920/50000 [=====================>........] - ETA: 7s - loss: 1.0396 - acc: 0.6809"
          ],
          "name": "stdout"
        },
        {
          "output_type": "stream",
          "text": [
            "50000/50000 [==============================] - 34s 680us/step - loss: 1.0403 - acc: 0.6809 - val_loss: 0.9351 - val_acc: 0.7062\n",
            "Epoch 82/150\n",
            "38016/50000 [=====================>........] - ETA: 7s - loss: 1.0313 - acc: 0.6793"
          ],
          "name": "stdout"
        },
        {
          "output_type": "stream",
          "text": [
            "50000/50000 [==============================] - 34s 678us/step - loss: 1.0359 - acc: 0.6792 - val_loss: 0.9015 - val_acc: 0.7139\n",
            "Epoch 83/150\n",
            "37984/50000 [=====================>........] - ETA: 7s - loss: 1.0361 - acc: 0.6811"
          ],
          "name": "stdout"
        },
        {
          "output_type": "stream",
          "text": [
            "50000/50000 [==============================] - 34s 680us/step - loss: 1.0436 - acc: 0.6808 - val_loss: 1.0725 - val_acc: 0.6562\n",
            "Epoch 84/150\n",
            "37952/50000 [=====================>........] - ETA: 7s - loss: 1.0388 - acc: 0.6770"
          ],
          "name": "stdout"
        },
        {
          "output_type": "stream",
          "text": [
            "50000/50000 [==============================] - 34s 682us/step - loss: 1.0419 - acc: 0.6755 - val_loss: 0.8853 - val_acc: 0.7037\n",
            "Epoch 85/150\n",
            "37952/50000 [=====================>........] - ETA: 7s - loss: 1.0417 - acc: 0.6808"
          ],
          "name": "stdout"
        },
        {
          "output_type": "stream",
          "text": [
            "50000/50000 [==============================] - 34s 678us/step - loss: 1.0481 - acc: 0.6780 - val_loss: 0.8917 - val_acc: 0.7184\n",
            "Epoch 86/150\n",
            "37984/50000 [=====================>........] - ETA: 7s - loss: 1.0657 - acc: 0.6730"
          ],
          "name": "stdout"
        },
        {
          "output_type": "stream",
          "text": [
            "50000/50000 [==============================] - 34s 676us/step - loss: 1.0610 - acc: 0.6738 - val_loss: 1.3232 - val_acc: 0.5929\n",
            "Epoch 87/150\n",
            "37984/50000 [=====================>........] - ETA: 7s - loss: 1.0641 - acc: 0.6769"
          ],
          "name": "stdout"
        },
        {
          "output_type": "stream",
          "text": [
            "50000/50000 [==============================] - 34s 676us/step - loss: 1.0639 - acc: 0.6763 - val_loss: 0.8403 - val_acc: 0.7244\n",
            "Epoch 88/150\n",
            "37920/50000 [=====================>........] - ETA: 7s - loss: 1.0746 - acc: 0.6715"
          ],
          "name": "stdout"
        },
        {
          "output_type": "stream",
          "text": [
            "50000/50000 [==============================] - 34s 677us/step - loss: 1.0770 - acc: 0.6715 - val_loss: 0.8467 - val_acc: 0.7357\n",
            "Epoch 89/150\n",
            "38016/50000 [=====================>........] - ETA: 7s - loss: 1.0676 - acc: 0.6724"
          ],
          "name": "stdout"
        },
        {
          "output_type": "stream",
          "text": [
            "50000/50000 [==============================] - 34s 677us/step - loss: 1.0676 - acc: 0.6728 - val_loss: 1.4372 - val_acc: 0.6094\n",
            "Epoch 90/150\n",
            "37984/50000 [=====================>........] - ETA: 7s - loss: 1.0727 - acc: 0.6737"
          ],
          "name": "stdout"
        },
        {
          "output_type": "stream",
          "text": [
            "50000/50000 [==============================] - 34s 676us/step - loss: 1.0732 - acc: 0.6735 - val_loss: 1.0919 - val_acc: 0.6836\n",
            "Epoch 91/150\n",
            "37952/50000 [=====================>........] - ETA: 7s - loss: 1.0860 - acc: 0.6680"
          ],
          "name": "stdout"
        },
        {
          "output_type": "stream",
          "text": [
            "50000/50000 [==============================] - 34s 679us/step - loss: 1.0936 - acc: 0.6652 - val_loss: 0.8940 - val_acc: 0.7138\n",
            "Epoch 92/150\n",
            "38016/50000 [=====================>........] - ETA: 7s - loss: 1.1151 - acc: 0.6664"
          ],
          "name": "stdout"
        },
        {
          "output_type": "stream",
          "text": [
            "50000/50000 [==============================] - 34s 677us/step - loss: 1.1143 - acc: 0.6631 - val_loss: 1.0685 - val_acc: 0.6501\n",
            "Epoch 93/150\n",
            "38016/50000 [=====================>........] - ETA: 7s - loss: 1.1136 - acc: 0.6593"
          ],
          "name": "stdout"
        },
        {
          "output_type": "stream",
          "text": [
            "50000/50000 [==============================] - 34s 675us/step - loss: 1.1133 - acc: 0.6582 - val_loss: 1.0858 - val_acc: 0.6519\n",
            "Epoch 94/150\n",
            "37984/50000 [=====================>........] - ETA: 7s - loss: 1.1012 - acc: 0.6640"
          ],
          "name": "stdout"
        },
        {
          "output_type": "stream",
          "text": [
            "50000/50000 [==============================] - 34s 685us/step - loss: 1.1087 - acc: 0.6626 - val_loss: 0.9718 - val_acc: 0.7055\n",
            "Epoch 95/150\n",
            "37920/50000 [=====================>........] - ETA: 7s - loss: 1.1190 - acc: 0.6584"
          ],
          "name": "stdout"
        },
        {
          "output_type": "stream",
          "text": [
            "50000/50000 [==============================] - 34s 680us/step - loss: 1.1216 - acc: 0.6597 - val_loss: 1.0038 - val_acc: 0.6866\n",
            "Epoch 96/150\n",
            "37952/50000 [=====================>........] - ETA: 7s - loss: 1.1270 - acc: 0.6596"
          ],
          "name": "stdout"
        },
        {
          "output_type": "stream",
          "text": [
            "50000/50000 [==============================] - 34s 679us/step - loss: 1.1218 - acc: 0.6598 - val_loss: 1.0006 - val_acc: 0.6597\n",
            "Epoch 97/150\n",
            "37984/50000 [=====================>........] - ETA: 7s - loss: 1.0977 - acc: 0.6625"
          ],
          "name": "stdout"
        },
        {
          "output_type": "stream",
          "text": [
            "50000/50000 [==============================] - 34s 679us/step - loss: 1.1143 - acc: 0.6594 - val_loss: 0.9453 - val_acc: 0.6969\n",
            "Epoch 98/150\n",
            "37952/50000 [=====================>........] - ETA: 7s - loss: 1.1416 - acc: 0.6565"
          ],
          "name": "stdout"
        },
        {
          "output_type": "stream",
          "text": [
            "50000/50000 [==============================] - 34s 682us/step - loss: 1.1354 - acc: 0.6575 - val_loss: 1.0923 - val_acc: 0.6308\n",
            "Epoch 99/150\n",
            "37920/50000 [=====================>........] - ETA: 7s - loss: 1.1409 - acc: 0.6548"
          ],
          "name": "stdout"
        },
        {
          "output_type": "stream",
          "text": [
            "50000/50000 [==============================] - 34s 681us/step - loss: 1.1325 - acc: 0.6558 - val_loss: 0.9772 - val_acc: 0.6705\n",
            "Epoch 100/150\n",
            "37856/50000 [=====================>........] - ETA: 7s - loss: 1.1428 - acc: 0.6553"
          ],
          "name": "stdout"
        },
        {
          "output_type": "stream",
          "text": [
            "50000/50000 [==============================] - 34s 680us/step - loss: 1.1451 - acc: 0.6540 - val_loss: 1.0666 - val_acc: 0.6654\n",
            "Epoch 101/150\n",
            "37728/50000 [=====================>........] - ETA: 7s - loss: 1.1420 - acc: 0.6506"
          ],
          "name": "stdout"
        },
        {
          "output_type": "stream",
          "text": [
            "50000/50000 [==============================] - 34s 678us/step - loss: 1.1482 - acc: 0.6486 - val_loss: 1.0085 - val_acc: 0.6571\n",
            "Epoch 102/150\n",
            "37792/50000 [=====================>........] - ETA: 7s - loss: 1.1259 - acc: 0.6569"
          ],
          "name": "stdout"
        },
        {
          "output_type": "stream",
          "text": [
            "50000/50000 [==============================] - 34s 677us/step - loss: 1.1350 - acc: 0.6558 - val_loss: 1.2551 - val_acc: 0.6032\n",
            "Epoch 103/150\n",
            "37760/50000 [=====================>........] - ETA: 7s - loss: 1.1447 - acc: 0.6506"
          ],
          "name": "stdout"
        },
        {
          "output_type": "stream",
          "text": [
            "50000/50000 [==============================] - 34s 677us/step - loss: 1.1555 - acc: 0.6503 - val_loss: 0.8509 - val_acc: 0.7141\n",
            "Epoch 104/150\n",
            "37824/50000 [=====================>........] - ETA: 7s - loss: 1.1849 - acc: 0.6467"
          ],
          "name": "stdout"
        },
        {
          "output_type": "stream",
          "text": [
            "50000/50000 [==============================] - 34s 680us/step - loss: 1.1797 - acc: 0.6460 - val_loss: 0.8854 - val_acc: 0.7142\n",
            "Epoch 105/150\n",
            "37760/50000 [=====================>........] - ETA: 7s - loss: 1.1739 - acc: 0.6431"
          ],
          "name": "stdout"
        },
        {
          "output_type": "stream",
          "text": [
            "50000/50000 [==============================] - 34s 679us/step - loss: 1.1725 - acc: 0.6421 - val_loss: 1.1924 - val_acc: 0.6668\n",
            "Epoch 106/150\n",
            "37728/50000 [=====================>........] - ETA: 7s - loss: 1.2037 - acc: 0.6432"
          ],
          "name": "stdout"
        },
        {
          "output_type": "stream",
          "text": [
            "50000/50000 [==============================] - 34s 682us/step - loss: 1.2059 - acc: 0.6431 - val_loss: 0.8729 - val_acc: 0.7213\n",
            "Epoch 107/150\n",
            "37824/50000 [=====================>........] - ETA: 7s - loss: 1.1814 - acc: 0.6450"
          ],
          "name": "stdout"
        },
        {
          "output_type": "stream",
          "text": [
            "50000/50000 [==============================] - 34s 676us/step - loss: 1.1945 - acc: 0.6450 - val_loss: 1.1364 - val_acc: 0.6577\n",
            "Epoch 108/150\n",
            "37728/50000 [=====================>........] - ETA: 7s - loss: 1.1992 - acc: 0.6406"
          ],
          "name": "stdout"
        },
        {
          "output_type": "stream",
          "text": [
            "50000/50000 [==============================] - 34s 676us/step - loss: 1.1961 - acc: 0.6403 - val_loss: 0.9880 - val_acc: 0.6754\n",
            "Epoch 109/150\n",
            "37664/50000 [=====================>........] - ETA: 7s - loss: 1.1779 - acc: 0.6419"
          ],
          "name": "stdout"
        },
        {
          "output_type": "stream",
          "text": [
            "50000/50000 [==============================] - 34s 675us/step - loss: 1.2389 - acc: 0.6365 - val_loss: 1.0114 - val_acc: 0.6934\n",
            "Epoch 110/150\n",
            "37664/50000 [=====================>........] - ETA: 7s - loss: 1.2058 - acc: 0.6342"
          ],
          "name": "stdout"
        },
        {
          "output_type": "stream",
          "text": [
            "50000/50000 [==============================] - 34s 679us/step - loss: 1.2045 - acc: 0.6344 - val_loss: 1.1350 - val_acc: 0.6507\n",
            "Epoch 111/150\n",
            "37728/50000 [=====================>........] - ETA: 7s - loss: 1.2247 - acc: 0.6341"
          ],
          "name": "stdout"
        },
        {
          "output_type": "stream",
          "text": [
            "50000/50000 [==============================] - 34s 676us/step - loss: 1.2241 - acc: 0.6344 - val_loss: 1.0581 - val_acc: 0.6651\n",
            "Epoch 112/150\n",
            "37792/50000 [=====================>........] - ETA: 7s - loss: 1.2378 - acc: 0.6304"
          ],
          "name": "stdout"
        },
        {
          "output_type": "stream",
          "text": [
            "50000/50000 [==============================] - 34s 682us/step - loss: 1.2406 - acc: 0.6285 - val_loss: 1.0976 - val_acc: 0.6476\n",
            "Epoch 113/150\n",
            "37760/50000 [=====================>........] - ETA: 7s - loss: 1.2198 - acc: 0.6273"
          ],
          "name": "stdout"
        },
        {
          "output_type": "stream",
          "text": [
            "50000/50000 [==============================] - 34s 679us/step - loss: 1.2275 - acc: 0.6253 - val_loss: 0.9485 - val_acc: 0.6934\n",
            "Epoch 114/150\n",
            "37696/50000 [=====================>........] - ETA: 7s - loss: 1.2426 - acc: 0.6301"
          ],
          "name": "stdout"
        },
        {
          "output_type": "stream",
          "text": [
            "50000/50000 [==============================] - 34s 679us/step - loss: 1.2528 - acc: 0.6291 - val_loss: 1.0471 - val_acc: 0.6631\n",
            "Epoch 115/150\n",
            "37728/50000 [=====================>........] - ETA: 7s - loss: 1.2298 - acc: 0.6221"
          ],
          "name": "stdout"
        },
        {
          "output_type": "stream",
          "text": [
            "50000/50000 [==============================] - 34s 681us/step - loss: 1.2428 - acc: 0.6213 - val_loss: 1.7537 - val_acc: 0.5748\n",
            "Epoch 116/150\n",
            "37696/50000 [=====================>........] - ETA: 7s - loss: 1.2464 - acc: 0.6252"
          ],
          "name": "stdout"
        },
        {
          "output_type": "stream",
          "text": [
            "50000/50000 [==============================] - 34s 680us/step - loss: 1.2442 - acc: 0.6234 - val_loss: 1.1507 - val_acc: 0.6209\n",
            "Epoch 117/150\n",
            "37632/50000 [=====================>........] - ETA: 7s - loss: 1.2693 - acc: 0.6234"
          ],
          "name": "stdout"
        },
        {
          "output_type": "stream",
          "text": [
            "50000/50000 [==============================] - 34s 679us/step - loss: 1.2709 - acc: 0.6220 - val_loss: 0.9892 - val_acc: 0.6696\n",
            "Epoch 118/150\n",
            "37632/50000 [=====================>........] - ETA: 7s - loss: 1.2796 - acc: 0.6185"
          ],
          "name": "stdout"
        },
        {
          "output_type": "stream",
          "text": [
            "50000/50000 [==============================] - 34s 680us/step - loss: 1.2887 - acc: 0.6184 - val_loss: 1.2867 - val_acc: 0.6010\n",
            "Epoch 119/150\n",
            "37664/50000 [=====================>........] - ETA: 7s - loss: 1.2978 - acc: 0.6140"
          ],
          "name": "stdout"
        },
        {
          "output_type": "stream",
          "text": [
            "50000/50000 [==============================] - 34s 677us/step - loss: 1.3090 - acc: 0.6173 - val_loss: 0.9115 - val_acc: 0.7105\n",
            "Epoch 120/150\n",
            "37696/50000 [=====================>........] - ETA: 7s - loss: 1.2785 - acc: 0.6159"
          ],
          "name": "stdout"
        },
        {
          "output_type": "stream",
          "text": [
            "50000/50000 [==============================] - 34s 677us/step - loss: 1.2907 - acc: 0.6145 - val_loss: 1.1109 - val_acc: 0.6407\n",
            "Epoch 121/150\n",
            "37728/50000 [=====================>........] - ETA: 7s - loss: 1.2909 - acc: 0.6124"
          ],
          "name": "stdout"
        },
        {
          "output_type": "stream",
          "text": [
            "50000/50000 [==============================] - 34s 677us/step - loss: 1.2939 - acc: 0.6122 - val_loss: 1.1636 - val_acc: 0.6092\n",
            "Epoch 122/150\n",
            "37696/50000 [=====================>........] - ETA: 7s - loss: 1.2949 - acc: 0.6087"
          ],
          "name": "stdout"
        },
        {
          "output_type": "stream",
          "text": [
            "50000/50000 [==============================] - 34s 679us/step - loss: 1.2982 - acc: 0.6061 - val_loss: 1.1248 - val_acc: 0.6288\n",
            "Epoch 123/150\n",
            "37632/50000 [=====================>........] - ETA: 7s - loss: 1.3270 - acc: 0.6106"
          ],
          "name": "stdout"
        },
        {
          "output_type": "stream",
          "text": [
            "50000/50000 [==============================] - 34s 675us/step - loss: 1.3254 - acc: 0.6082 - val_loss: 1.1848 - val_acc: 0.5985\n",
            "Epoch 124/150\n",
            "37696/50000 [=====================>........] - ETA: 7s - loss: 1.3222 - acc: 0.6045"
          ],
          "name": "stdout"
        },
        {
          "output_type": "stream",
          "text": [
            "50000/50000 [==============================] - 34s 678us/step - loss: 1.3158 - acc: 0.6043 - val_loss: 1.0507 - val_acc: 0.6529\n",
            "Epoch 125/150\n",
            "37600/50000 [=====================>........] - ETA: 7s - loss: 1.3027 - acc: 0.6067"
          ],
          "name": "stdout"
        },
        {
          "output_type": "stream",
          "text": [
            "50000/50000 [==============================] - 34s 677us/step - loss: 1.3180 - acc: 0.6013 - val_loss: 1.1162 - val_acc: 0.6294\n",
            "Epoch 126/150\n",
            "37728/50000 [=====================>........] - ETA: 7s - loss: 1.3315 - acc: 0.5956"
          ],
          "name": "stdout"
        },
        {
          "output_type": "stream",
          "text": [
            "50000/50000 [==============================] - 34s 675us/step - loss: 1.3439 - acc: 0.5922 - val_loss: 1.1497 - val_acc: 0.6269\n",
            "Epoch 127/150\n",
            "37792/50000 [=====================>........] - ETA: 7s - loss: 1.3398 - acc: 0.5961"
          ],
          "name": "stdout"
        },
        {
          "output_type": "stream",
          "text": [
            "50000/50000 [==============================] - 34s 677us/step - loss: 1.3339 - acc: 0.5958 - val_loss: 1.1570 - val_acc: 0.6114\n",
            "Epoch 128/150\n",
            "37760/50000 [=====================>........] - ETA: 7s - loss: 1.3542 - acc: 0.5953"
          ],
          "name": "stdout"
        },
        {
          "output_type": "stream",
          "text": [
            "50000/50000 [==============================] - 34s 677us/step - loss: 1.3672 - acc: 0.5920 - val_loss: 1.4218 - val_acc: 0.5824\n",
            "Epoch 129/150\n",
            "37856/50000 [=====================>........] - ETA: 7s - loss: 1.2868 - acc: 0.5991"
          ],
          "name": "stdout"
        },
        {
          "output_type": "stream",
          "text": [
            "50000/50000 [==============================] - 34s 675us/step - loss: 1.3066 - acc: 0.5961 - val_loss: 1.2171 - val_acc: 0.6317\n",
            "Epoch 130/150\n",
            "37792/50000 [=====================>........] - ETA: 7s - loss: 1.3485 - acc: 0.5961"
          ],
          "name": "stdout"
        },
        {
          "output_type": "stream",
          "text": [
            "50000/50000 [==============================] - 34s 679us/step - loss: 1.3619 - acc: 0.5951 - val_loss: 1.0871 - val_acc: 0.6408\n",
            "Epoch 131/150\n",
            "37728/50000 [=====================>........] - ETA: 7s - loss: 1.3504 - acc: 0.5904"
          ],
          "name": "stdout"
        },
        {
          "output_type": "stream",
          "text": [
            "50000/50000 [==============================] - 34s 681us/step - loss: 1.3452 - acc: 0.5904 - val_loss: 1.2953 - val_acc: 0.6014\n",
            "Epoch 132/150\n",
            "37696/50000 [=====================>........] - ETA: 7s - loss: 1.3502 - acc: 0.5922"
          ],
          "name": "stdout"
        },
        {
          "output_type": "stream",
          "text": [
            "50000/50000 [==============================] - 34s 681us/step - loss: 1.3494 - acc: 0.5923 - val_loss: 1.1032 - val_acc: 0.6248\n",
            "Epoch 133/150\n",
            "37728/50000 [=====================>........] - ETA: 7s - loss: 1.3330 - acc: 0.5928"
          ],
          "name": "stdout"
        },
        {
          "output_type": "stream",
          "text": [
            "50000/50000 [==============================] - 34s 680us/step - loss: 1.3472 - acc: 0.5866 - val_loss: 1.0308 - val_acc: 0.6534\n",
            "Epoch 134/150\n",
            "37632/50000 [=====================>........] - ETA: 8s - loss: 1.3782 - acc: 0.5863"
          ],
          "name": "stdout"
        },
        {
          "output_type": "stream",
          "text": [
            "50000/50000 [==============================] - 34s 684us/step - loss: 1.3766 - acc: 0.5884 - val_loss: 1.2777 - val_acc: 0.5879\n",
            "Epoch 135/150\n",
            "37728/50000 [=====================>........] - ETA: 7s - loss: 1.3867 - acc: 0.5798"
          ],
          "name": "stdout"
        },
        {
          "output_type": "stream",
          "text": [
            "50000/50000 [==============================] - 34s 680us/step - loss: 1.3927 - acc: 0.5791 - val_loss: 1.3928 - val_acc: 0.5404\n",
            "Epoch 136/150\n",
            "37696/50000 [=====================>........] - ETA: 7s - loss: 1.3872 - acc: 0.5788"
          ],
          "name": "stdout"
        },
        {
          "output_type": "stream",
          "text": [
            "50000/50000 [==============================] - 34s 680us/step - loss: 1.3835 - acc: 0.5805 - val_loss: 1.4177 - val_acc: 0.5419\n",
            "Epoch 137/150\n",
            "37632/50000 [=====================>........] - ETA: 7s - loss: 1.4019 - acc: 0.5695"
          ],
          "name": "stdout"
        },
        {
          "output_type": "stream",
          "text": [
            "50000/50000 [==============================] - 34s 681us/step - loss: 1.3843 - acc: 0.5751 - val_loss: 1.0641 - val_acc: 0.6442\n",
            "Epoch 138/150\n",
            "37696/50000 [=====================>........] - ETA: 7s - loss: 1.4397 - acc: 0.5696"
          ],
          "name": "stdout"
        },
        {
          "output_type": "stream",
          "text": [
            "50000/50000 [==============================] - 34s 680us/step - loss: 1.4228 - acc: 0.5678 - val_loss: 1.5878 - val_acc: 0.5908\n",
            "Epoch 139/150\n",
            "37760/50000 [=====================>........] - ETA: 7s - loss: 1.4177 - acc: 0.5689"
          ],
          "name": "stdout"
        },
        {
          "output_type": "stream",
          "text": [
            "50000/50000 [==============================] - 34s 681us/step - loss: 1.4378 - acc: 0.5658 - val_loss: 1.3784 - val_acc: 0.5300\n",
            "Epoch 140/150\n",
            "37664/50000 [=====================>........] - ETA: 7s - loss: 1.4109 - acc: 0.5697"
          ],
          "name": "stdout"
        },
        {
          "output_type": "stream",
          "text": [
            "50000/50000 [==============================] - 34s 682us/step - loss: 1.3915 - acc: 0.5751 - val_loss: 1.2613 - val_acc: 0.5789\n",
            "Epoch 141/150\n",
            "37568/50000 [=====================>........] - ETA: 8s - loss: 1.4367 - acc: 0.5707"
          ],
          "name": "stdout"
        },
        {
          "output_type": "stream",
          "text": [
            "50000/50000 [==============================] - 34s 681us/step - loss: 1.4315 - acc: 0.5691 - val_loss: 1.2417 - val_acc: 0.5839\n",
            "Epoch 142/150\n",
            "37600/50000 [=====================>........] - ETA: 8s - loss: 1.4545 - acc: 0.5655"
          ],
          "name": "stdout"
        },
        {
          "output_type": "stream",
          "text": [
            "50000/50000 [==============================] - 34s 683us/step - loss: 1.4578 - acc: 0.5664 - val_loss: 1.2030 - val_acc: 0.6263\n",
            "Epoch 143/150\n",
            "37632/50000 [=====================>........] - ETA: 7s - loss: 1.4714 - acc: 0.5674"
          ],
          "name": "stdout"
        },
        {
          "output_type": "stream",
          "text": [
            "50000/50000 [==============================] - 34s 679us/step - loss: 1.4503 - acc: 0.5696 - val_loss: 1.2826 - val_acc: 0.6242\n",
            "Epoch 144/150\n",
            "37760/50000 [=====================>........] - ETA: 7s - loss: 1.4501 - acc: 0.5644"
          ],
          "name": "stdout"
        },
        {
          "output_type": "stream",
          "text": [
            "50000/50000 [==============================] - 34s 681us/step - loss: 1.4410 - acc: 0.5630 - val_loss: 1.1798 - val_acc: 0.6178\n",
            "Epoch 145/150\n",
            "37760/50000 [=====================>........] - ETA: 7s - loss: 1.4212 - acc: 0.5565"
          ],
          "name": "stdout"
        },
        {
          "output_type": "stream",
          "text": [
            "50000/50000 [==============================] - 34s 679us/step - loss: 1.4231 - acc: 0.5551 - val_loss: 1.0838 - val_acc: 0.6552\n",
            "Epoch 146/150\n",
            "37856/50000 [=====================>........] - ETA: 7s - loss: 1.4681 - acc: 0.5536"
          ],
          "name": "stdout"
        },
        {
          "output_type": "stream",
          "text": [
            "50000/50000 [==============================] - 34s 679us/step - loss: 1.4682 - acc: 0.5523 - val_loss: 1.2183 - val_acc: 0.6016\n",
            "Epoch 147/150\n",
            "37824/50000 [=====================>........] - ETA: 7s - loss: 1.4675 - acc: 0.5595"
          ],
          "name": "stdout"
        },
        {
          "output_type": "stream",
          "text": [
            "50000/50000 [==============================] - 34s 680us/step - loss: 1.4897 - acc: 0.5558 - val_loss: 1.1589 - val_acc: 0.6173\n",
            "Epoch 148/150\n",
            "37728/50000 [=====================>........] - ETA: 7s - loss: 1.4607 - acc: 0.5526"
          ],
          "name": "stdout"
        },
        {
          "output_type": "stream",
          "text": [
            "50000/50000 [==============================] - 34s 681us/step - loss: 1.4737 - acc: 0.5503 - val_loss: 1.3479 - val_acc: 0.5744\n",
            "Epoch 149/150\n",
            "37760/50000 [=====================>........] - ETA: 7s - loss: 1.5201 - acc: 0.5362"
          ],
          "name": "stdout"
        },
        {
          "output_type": "stream",
          "text": [
            "50000/50000 [==============================] - 34s 681us/step - loss: 1.5176 - acc: 0.5353 - val_loss: 1.4514 - val_acc: 0.5446\n",
            "Epoch 150/150\n",
            "37600/50000 [=====================>........] - ETA: 7s - loss: 1.4783 - acc: 0.5395"
          ],
          "name": "stdout"
        },
        {
          "output_type": "stream",
          "text": [
            "50000/50000 [==============================] - 34s 678us/step - loss: 1.4671 - acc: 0.5433 - val_loss: 1.6001 - val_acc: 0.4972\n"
          ],
          "name": "stdout"
        }
      ]
    },
    {
      "metadata": {
        "id": "Uzh0oIId_E76",
        "colab_type": "code",
        "colab": {
          "autoexec": {
            "startup": false,
            "wait_interval": 0
          }
        }
      },
      "cell_type": "code",
      "source": [
        "acc_v2 = history.history['acc']\n",
        "v_acc_v2 = history.history['val_acc']\n",
        "loss_v2 = history.history['loss']\n",
        "v_loss_v2 = history.history['val_loss']"
      ],
      "execution_count": 0,
      "outputs": []
    },
    {
      "metadata": {
        "id": "_MnHahHbJDqf",
        "colab_type": "code",
        "colab": {
          "autoexec": {
            "startup": false,
            "wait_interval": 0
          },
          "output_extras": [
            {
              "item_id": 1
            }
          ],
          "base_uri": "https://localhost:8080/",
          "height": 361
        },
        "outputId": "ebae1d6b-ad8c-4e03-bd6c-5a67ec9ebbd1",
        "executionInfo": {
          "status": "ok",
          "timestamp": 1521617454690,
          "user_tz": 0,
          "elapsed": 690,
          "user": {
            "displayName": "Thibault Huyet",
            "photoUrl": "https://lh3.googleusercontent.com/a/default-user=s128",
            "userId": "100784631454882897414"
          }
        }
      },
      "cell_type": "code",
      "source": [
        "import matplotlib.pyplot as plt\n",
        "\n",
        "plt.plot(acc_v2)\n",
        "plt.plot(v_acc_v2)\n",
        "plt.ylabel('Accuracy')\n",
        "plt.xlabel('Epochs')\n",
        "plt.legend(['Train', 'Test'])\n",
        "plt.show()"
      ],
      "execution_count": 5,
      "outputs": [
        {
          "output_type": "display_data",
          "data": {
            "image/png": "[encoded data removed]",
            "text/plain": [
              "<matplotlib.figure.Figure at 0x7f6b1b982860>"
            ]
          },
          "metadata": {
            "tags": []
          }
        }
      ]
    },
    {
      "metadata": {
        "id": "ctdu0aSAJRZ2",
        "colab_type": "code",
        "colab": {
          "autoexec": {
            "startup": false,
            "wait_interval": 0
          },
          "output_extras": [
            {
              "item_id": 1
            }
          ],
          "base_uri": "https://localhost:8080/",
          "height": 361
        },
        "outputId": "0c6df5e7-ad81-40a0-9813-68ef50a1fd0a",
        "executionInfo": {
          "status": "ok",
          "timestamp": 1521617459292,
          "user_tz": 0,
          "elapsed": 614,
          "user": {
            "displayName": "Thibault Huyet",
            "photoUrl": "https://lh3.googleusercontent.com/a/default-user=s128",
            "userId": "100784631454882897414"
          }
        }
      },
      "cell_type": "code",
      "source": [
        "plt.plot(loss_v2)\n",
        "plt.plot(v_loss_v2)\n",
        "plt.ylabel('Loss')\n",
        "plt.xlabel('Epochs')\n",
        "plt.legend(['Train', 'Test'])\n",
        "plt.show()"
      ],
      "execution_count": 6,
      "outputs": [
        {
          "output_type": "display_data",
          "data": {
            "image/png": "[encoded data removed]",
            "text/plain": [
              "<matplotlib.figure.Figure at 0x7f6b166fdb00>"
            ]
          },
          "metadata": {
            "tags": []
          }
        }
      ]
    },
    {
      "metadata": {
        "id": "2ZEJK8teJW16",
        "colab_type": "code",
        "colab": {
          "autoexec": {
            "startup": false,
            "wait_interval": 0
          }
        }
      },
      "cell_type": "code",
      "source": [
        ""
      ],
      "execution_count": 0,
      "outputs": []
    }
  ]
}