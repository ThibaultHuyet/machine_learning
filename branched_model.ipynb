{
  "nbformat": 4,
  "nbformat_minor": 0,
  "metadata": {
    "colab": {
      "name": "pretrained_models.ipynb",
      "version": "0.3.2",
      "views": {},
      "default_view": {},
      "provenance": []
    },
    "kernelspec": {
      "name": "python3",
      "display_name": "Python 3"
    }
  },
  "cells": [
    {
      "metadata": {
        "id": "b76qdq6c_DL4",
        "colab_type": "code",
        "colab": {
          "autoexec": {
            "startup": false,
            "wait_interval": 0
          },
          "output_extras": [
            {
              "item_id": 2
            }
          ],
          "base_uri": "https://localhost:8080/",
          "height": 102
        },
        "outputId": "07103f96-b074-4e88-fa02-f510d0e08385",
        "executionInfo": {
          "status": "ok",
          "timestamp": 1518293394714,
          "user_tz": 0,
          "elapsed": 3523,
          "user": {
            "displayName": "Thibault Huyet",
            "photoUrl": "https://lh3.googleusercontent.com/a/default-user=s128",
            "userId": "100784631454882897414"
          }
        }
      },
      "cell_type": "code",
      "source": [
        "!python -m pip install keras"
      ],
      "execution_count": 12,
      "outputs": [
        {
          "output_type": "stream",
          "text": [
            "Requirement already satisfied: keras in /usr/local/lib/python3.6/dist-packages\n",
            "Requirement already satisfied: pyyaml in /usr/local/lib/python3.6/dist-packages (from keras)\n",
            "Requirement already satisfied: numpy>=1.9.1 in /usr/local/lib/python3.6/dist-packages (from keras)\n",
            "Requirement already satisfied: six>=1.9.0 in /usr/local/lib/python3.6/dist-packages (from keras)\n",
            "Requirement already satisfied: scipy>=0.14 in /usr/local/lib/python3.6/dist-packages (from keras)\n"
          ],
          "name": "stdout"
        }
      ]
    },
    {
      "metadata": {
        "id": "ffoKwMZ88dpY",
        "colab_type": "code",
        "colab": {
          "autoexec": {
            "startup": false,
            "wait_interval": 0
          }
        }
      },
      "cell_type": "code",
      "source": [
        "from keras import Input\n",
        "from keras.layers import Dense, Conv2D, MaxPooling2D, Dropout, Flatten\n",
        "from keras.datasets import cifar10"
      ],
      "execution_count": 0,
      "outputs": []
    },
    {
      "metadata": {
        "id": "qPiet59o-_uB",
        "colab_type": "code",
        "colab": {
          "autoexec": {
            "startup": false,
            "wait_interval": 0
          }
        }
      },
      "cell_type": "code",
      "source": [
        "batch_size = 32\n",
        "epochs = 50\n",
        "model_name = 'branched_cifar.h5'"
      ],
      "execution_count": 0,
      "outputs": []
    },
    {
      "metadata": {
        "id": "PQrBW0RjDc3y",
        "colab_type": "code",
        "colab": {
          "autoexec": {
            "startup": false,
            "wait_interval": 0
          }
        }
      },
      "cell_type": "code",
      "source": [
        "(x_train, y_train), (x_test, y_test) = cifar10.load_data()"
      ],
      "execution_count": 0,
      "outputs": []
    },
    {
      "metadata": {
        "id": "-bkT6TypDgbr",
        "colab_type": "code",
        "colab": {
          "autoexec": {
            "startup": false,
            "wait_interval": 0
          }
        }
      },
      "cell_type": "code",
      "source": [
        "from keras.utils import to_categorical\n",
        "\n",
        "x_train = x_train.astype('float32') / 255\n",
        "x_test = x_test.astype('float32') / 255\n",
        "\n",
        "y_train = to_categorical(y_train)\n",
        "y_test = to_categorical(y_test)"
      ],
      "execution_count": 0,
      "outputs": []
    },
    {
      "metadata": {
        "id": "T0X-tarrEP4U",
        "colab_type": "code",
        "colab": {
          "autoexec": {
            "startup": false,
            "wait_interval": 0
          }
        }
      },
      "cell_type": "code",
      "source": [
        "from keras.layers import concatenate\n",
        "\n",
        "input_tensor = Input(shape = (32, 32, 3))\n",
        "\n",
        "branch_a = Conv2D(32, (3, 3), activation = 'relu')(input_tensor)\n",
        "branch_a1 = Conv2D(32, (3, 3), activation = 'relu')(branch_a)\n",
        "branch_a2 = Conv2D(32, (3, 3), activation = 'relu')(branch_a1)\n",
        "branch_a3 = MaxPooling2D((2, 2))(branch_a2)\n",
        "branch_a4 = Dropout(0.2)(branch_a3)\n",
        "\n",
        "branch_b = Conv2D(32, (3, 3), activation = 'relu')(input_tensor)\n",
        "branch_b1 = Conv2D(32, (3, 3), activation = 'relu')(branch_b)\n",
        "branch_b2 = Conv2D(32, (3, 3), activation = 'relu')(branch_b1)\n",
        "branch_b3 = MaxPooling2D((2, 2))(branch_b2)\n",
        "branch_b4 = Dropout(0.2)(branch_b3)\n",
        "\n",
        "merged = concatenate([branch_b4, branch_a4], axis = -1)\n",
        "merged = Flatten()(merged)\n",
        "merged = Dense(512, activation = 'relu')(merged)\n",
        "merged = Dropout(0.5)(merged)\n",
        "output = Dense(10, activation = 'softmax')(merged)"
      ],
      "execution_count": 0,
      "outputs": []
    },
    {
      "metadata": {
        "id": "0IBHYsP2VlQi",
        "colab_type": "code",
        "colab": {
          "autoexec": {
            "startup": false,
            "wait_interval": 0
          },
          "output_extras": [
            {
              "item_id": 1
            }
          ],
          "base_uri": "https://localhost:8080/",
          "height": 697
        },
        "outputId": "13141f74-56f1-4a28-c2ec-1f03711da677",
        "executionInfo": {
          "status": "ok",
          "timestamp": 1518294068770,
          "user_tz": 0,
          "elapsed": 512,
          "user": {
            "displayName": "Thibault Huyet",
            "photoUrl": "https://lh3.googleusercontent.com/a/default-user=s128",
            "userId": "100784631454882897414"
          }
        }
      },
      "cell_type": "code",
      "source": [
        "from keras.models import Model\n",
        "\n",
        "model = Model(input_tensor, output)\n",
        "model.summary()"
      ],
      "execution_count": 26,
      "outputs": [
        {
          "output_type": "stream",
          "text": [
            "__________________________________________________________________________________________________\n",
            "Layer (type)                    Output Shape         Param #     Connected to                     \n",
            "==================================================================================================\n",
            "input_11 (InputLayer)           (None, 32, 32, 3)    0                                            \n",
            "__________________________________________________________________________________________________\n",
            "conv2d_242 (Conv2D)             (None, 30, 30, 32)   896         input_11[0][0]                   \n",
            "__________________________________________________________________________________________________\n",
            "conv2d_239 (Conv2D)             (None, 30, 30, 32)   896         input_11[0][0]                   \n",
            "__________________________________________________________________________________________________\n",
            "conv2d_243 (Conv2D)             (None, 28, 28, 32)   9248        conv2d_242[0][0]                 \n",
            "__________________________________________________________________________________________________\n",
            "conv2d_240 (Conv2D)             (None, 28, 28, 32)   9248        conv2d_239[0][0]                 \n",
            "__________________________________________________________________________________________________\n",
            "conv2d_244 (Conv2D)             (None, 26, 26, 32)   9248        conv2d_243[0][0]                 \n",
            "__________________________________________________________________________________________________\n",
            "conv2d_241 (Conv2D)             (None, 26, 26, 32)   9248        conv2d_240[0][0]                 \n",
            "__________________________________________________________________________________________________\n",
            "max_pooling2d_25 (MaxPooling2D) (None, 13, 13, 32)   0           conv2d_244[0][0]                 \n",
            "__________________________________________________________________________________________________\n",
            "max_pooling2d_24 (MaxPooling2D) (None, 13, 13, 32)   0           conv2d_241[0][0]                 \n",
            "__________________________________________________________________________________________________\n",
            "dropout_18 (Dropout)            (None, 13, 13, 32)   0           max_pooling2d_25[0][0]           \n",
            "__________________________________________________________________________________________________\n",
            "dropout_17 (Dropout)            (None, 13, 13, 32)   0           max_pooling2d_24[0][0]           \n",
            "__________________________________________________________________________________________________\n",
            "concatenate_10 (Concatenate)    (None, 13, 13, 64)   0           dropout_18[0][0]                 \n",
            "                                                                 dropout_17[0][0]                 \n",
            "__________________________________________________________________________________________________\n",
            "flatten_3 (Flatten)             (None, 10816)        0           concatenate_10[0][0]             \n",
            "__________________________________________________________________________________________________\n",
            "dense_5 (Dense)                 (None, 512)          5538304     flatten_3[0][0]                  \n",
            "__________________________________________________________________________________________________\n",
            "dropout_19 (Dropout)            (None, 512)          0           dense_5[0][0]                    \n",
            "__________________________________________________________________________________________________\n",
            "dense_6 (Dense)                 (None, 10)           5130        dropout_19[0][0]                 \n",
            "==================================================================================================\n",
            "Total params: 5,582,218\n",
            "Trainable params: 5,582,218\n",
            "Non-trainable params: 0\n",
            "__________________________________________________________________________________________________\n"
          ],
          "name": "stdout"
        }
      ]
    },
    {
      "metadata": {
        "id": "HHHmQyt4YOvz",
        "colab_type": "code",
        "colab": {
          "autoexec": {
            "startup": false,
            "wait_interval": 0
          }
        }
      },
      "cell_type": "code",
      "source": [
        "from keras.optimizers import rmsprop\n",
        "\n",
        "opt = rmsprop(lr = 0.0001, decay = 1e-6)\n",
        "\n",
        "model.compile(loss = 'categorical_crossentropy',\n",
        "             optimizer = opt,\n",
        "             metrics = ['accuracy'])"
      ],
      "execution_count": 0,
      "outputs": []
    },
    {
      "metadata": {
        "id": "-ZwjroKWYw9n",
        "colab_type": "code",
        "colab": {
          "autoexec": {
            "startup": false,
            "wait_interval": 0
          },
          "output_extras": [
            {
              "item_id": 408
            },
            {
              "item_id": 916
            },
            {
              "item_id": 1415
            },
            {
              "item_id": 1527
            },
            {
              "item_id": 1975
            },
            {
              "item_id": 2104
            },
            {
              "item_id": 2536
            },
            {
              "item_id": 2675
            },
            {
              "item_id": 3142
            },
            {
              "item_id": 3256
            },
            {
              "item_id": 3720
            },
            {
              "item_id": 3834
            },
            {
              "item_id": 4262
            },
            {
              "item_id": 4375
            },
            {
              "item_id": 4845
            },
            {
              "item_id": 4957
            },
            {
              "item_id": 5384
            },
            {
              "item_id": 5497
            },
            {
              "item_id": 5985
            },
            {
              "item_id": 6099
            },
            {
              "item_id": 6531
            },
            {
              "item_id": 6644
            },
            {
              "item_id": 7075
            },
            {
              "item_id": 7188
            },
            {
              "item_id": 7616
            },
            {
              "item_id": 7729
            },
            {
              "item_id": 8191
            },
            {
              "item_id": 8303
            },
            {
              "item_id": 8730
            },
            {
              "item_id": 8843
            },
            {
              "item_id": 9273
            },
            {
              "item_id": 9386
            },
            {
              "item_id": 9815
            },
            {
              "item_id": 9927
            },
            {
              "item_id": 10356
            },
            {
              "item_id": 10470
            },
            {
              "item_id": 10903
            },
            {
              "item_id": 11015
            },
            {
              "item_id": 11488
            },
            {
              "item_id": 11602
            },
            {
              "item_id": 12034
            },
            {
              "item_id": 12147
            },
            {
              "item_id": 12576
            },
            {
              "item_id": 12687
            },
            {
              "item_id": 13107
            },
            {
              "item_id": 13217
            },
            {
              "item_id": 13637
            },
            {
              "item_id": 13747
            },
            {
              "item_id": 14166
            },
            {
              "item_id": 14276
            },
            {
              "item_id": 14696
            },
            {
              "item_id": 14806
            },
            {
              "item_id": 15226
            },
            {
              "item_id": 15336
            },
            {
              "item_id": 15756
            },
            {
              "item_id": 15865
            },
            {
              "item_id": 16285
            },
            {
              "item_id": 16395
            },
            {
              "item_id": 16815
            },
            {
              "item_id": 16926
            },
            {
              "item_id": 17348
            },
            {
              "item_id": 17458
            },
            {
              "item_id": 17954
            },
            {
              "item_id": 18065
            },
            {
              "item_id": 18488
            },
            {
              "item_id": 18599
            },
            {
              "item_id": 19021
            },
            {
              "item_id": 19132
            },
            {
              "item_id": 19555
            },
            {
              "item_id": 19665
            },
            {
              "item_id": 20105
            },
            {
              "item_id": 20215
            },
            {
              "item_id": 20636
            },
            {
              "item_id": 20746
            },
            {
              "item_id": 21169
            },
            {
              "item_id": 21280
            },
            {
              "item_id": 21704
            },
            {
              "item_id": 21814
            },
            {
              "item_id": 22253
            },
            {
              "item_id": 22363
            },
            {
              "item_id": 22785
            },
            {
              "item_id": 22895
            },
            {
              "item_id": 23316
            },
            {
              "item_id": 23426
            },
            {
              "item_id": 23847
            },
            {
              "item_id": 23958
            },
            {
              "item_id": 24379
            },
            {
              "item_id": 24489
            },
            {
              "item_id": 24909
            },
            {
              "item_id": 25019
            },
            {
              "item_id": 25440
            },
            {
              "item_id": 25550
            },
            {
              "item_id": 25970
            },
            {
              "item_id": 26080
            },
            {
              "item_id": 26563
            },
            {
              "item_id": 26673
            },
            {
              "item_id": 27180
            },
            {
              "item_id": 27291
            },
            {
              "item_id": 27754
            },
            {
              "item_id": 27755
            }
          ],
          "base_uri": "https://localhost:8080/",
          "height": 1754
        },
        "outputId": "535f5a62-6953-44cc-c18d-04a0087dc753",
        "executionInfo": {
          "status": "ok",
          "timestamp": 1518322242403,
          "user_tz": 0,
          "elapsed": 27986811,
          "user": {
            "displayName": "Thibault Huyet",
            "photoUrl": "https://lh3.googleusercontent.com/a/default-user=s128",
            "userId": "100784631454882897414"
          }
        }
      },
      "cell_type": "code",
      "source": [
        "history = model.fit(x_train, y_train,\n",
        "                   epochs = epochs,\n",
        "                   validation_data = (x_test, y_test),\n",
        "                   shuffle = True)"
      ],
      "execution_count": 28,
      "outputs": [
        {
          "output_type": "stream",
          "text": [
            "Train on 50000 samples, validate on 10000 samples\n",
            "Epoch 1/50\n",
            "21888/50000 [============>.................] - ETA: 5:04 - loss: 1.8202 - acc: 0.3450"
          ],
          "name": "stdout"
        },
        {
          "output_type": "stream",
          "text": [
            "50000/50000 [==============================] - 566s 11ms/step - loss: 1.6518 - acc: 0.4053 - val_loss: 1.4243 - val_acc: 0.4877\n",
            "Epoch 2/50\n",
            " 3584/50000 [=>............................] - ETA: 8:24 - loss: 1.4325 - acc: 0.4813"
          ],
          "name": "stdout"
        },
        {
          "output_type": "stream",
          "text": [
            "49984/50000 [============================>.] - ETA: 0s - loss: 1.3398 - acc: 0.5239"
          ],
          "name": "stdout"
        },
        {
          "output_type": "stream",
          "text": [
            "\b\b\b\b\b\b\b\b\b\b\b\b\b\b\b\b\b\b\b\b\b\b\b\b\b\b\b\b\b\b\b\b\b\b\b\b\b\b\b\b\b\b\b\b\b\b\b\b\b\b\b\b\b\b\b\b\b\b\b\b\b\b\b\b\b\b\b\b\b\b\b\b\b\b\b\b\b\b\b\b\b\b\b\r50000/50000 [==============================] - 563s 11ms/step - loss: 1.3399 - acc: 0.5239 - val_loss: 1.2822 - val_acc: 0.5448\n",
            "Epoch 3/50\n",
            "10336/50000 [=====>........................] - ETA: 7:04 - loss: 1.2538 - acc: 0.5591"
          ],
          "name": "stdout"
        },
        {
          "output_type": "stream",
          "text": [
            "49984/50000 [============================>.] - ETA: 0s - loss: 1.2102 - acc: 0.5748"
          ],
          "name": "stdout"
        },
        {
          "output_type": "stream",
          "text": [
            "\b\b\b\b\b\b\b\b\b\b\b\b\b\b\b\b\b\b\b\b\b\b\b\b\b\b\b\b\b\b\b\b\b\b\b\b\b\b\b\b\b\b\b\b\b\b\b\b\b\b\b\b\b\b\b\b\b\b\b\b\b\b\b\b\b\b\b\b\b\b\b\b\b\b\b\b\b\b\b\b\b\b\b\r50000/50000 [==============================] - 559s 11ms/step - loss: 1.2102 - acc: 0.5748 - val_loss: 1.1346 - val_acc: 0.6051\n",
            "Epoch 4/50\n",
            "10336/50000 [=====>........................] - ETA: 7:04 - loss: 1.1296 - acc: 0.6026"
          ],
          "name": "stdout"
        },
        {
          "output_type": "stream",
          "text": [
            "49984/50000 [============================>.] - ETA: 0s - loss: 1.1259 - acc: 0.6038"
          ],
          "name": "stdout"
        },
        {
          "output_type": "stream",
          "text": [
            "\b\b\b\b\b\b\b\b\b\b\b\b\b\b\b\b\b\b\b\b\b\b\b\b\b\b\b\b\b\b\b\b\b\b\b\b\b\b\b\b\b\b\b\b\b\b\b\b\b\b\b\b\b\b\b\b\b\b\b\b\b\b\b\b\b\b\b\b\b\b\b\b\b\b\b\b\b\b\b\b\b\b\b\r50000/50000 [==============================] - 567s 11ms/step - loss: 1.1260 - acc: 0.6037 - val_loss: 1.0776 - val_acc: 0.6241\n",
            "Epoch 5/50\n",
            "10336/50000 [=====>........................] - ETA: 7:05 - loss: 1.0839 - acc: 0.6220"
          ],
          "name": "stdout"
        },
        {
          "output_type": "stream",
          "text": [
            "49984/50000 [============================>.] - ETA: 0s - loss: 1.0801 - acc: 0.6264"
          ],
          "name": "stdout"
        },
        {
          "output_type": "stream",
          "text": [
            "\b\b\b\b\b\b\b\b\b\b\b\b\b\b\b\b\b\b\b\b\b\b\b\b\b\b\b\b\b\b\b\b\b\b\b\b\b\b\b\b\b\b\b\b\b\b\b\b\b\b\b\b\b\b\b\b\b\b\b\b\b\b\b\b\b\b\b\b\b\b\b\b\b\b\b\b\b\b\b\b\b\b\b\r50000/50000 [==============================] - 567s 11ms/step - loss: 1.0801 - acc: 0.6263 - val_loss: 1.0258 - val_acc: 0.6452\n",
            "Epoch 6/50\n",
            "10336/50000 [=====>........................] - ETA: 7:14 - loss: 1.0383 - acc: 0.6462"
          ],
          "name": "stdout"
        },
        {
          "output_type": "stream",
          "text": [
            "49984/50000 [============================>.] - ETA: 0s - loss: 1.0451 - acc: 0.6407"
          ],
          "name": "stdout"
        },
        {
          "output_type": "stream",
          "text": [
            "\b\b\b\b\b\b\b\b\b\b\b\b\b\b\b\b\b\b\b\b\b\b\b\b\b\b\b\b\b\b\b\b\b\b\b\b\b\b\b\b\b\b\b\b\b\b\b\b\b\b\b\b\b\b\b\b\b\b\b\b\b\b\b\b\b\b\b\b\b\b\b\b\b\b\b\b\b\b\b\b\b\b\b\r50000/50000 [==============================] - 569s 11ms/step - loss: 1.0451 - acc: 0.6407 - val_loss: 1.0163 - val_acc: 0.6482\n",
            "Epoch 7/50\n",
            "10336/50000 [=====>........................] - ETA: 7:10 - loss: 1.0123 - acc: 0.6533"
          ],
          "name": "stdout"
        },
        {
          "output_type": "stream",
          "text": [
            "49984/50000 [============================>.] - ETA: 0s - loss: 1.0292 - acc: 0.6478"
          ],
          "name": "stdout"
        },
        {
          "output_type": "stream",
          "text": [
            "\b\b\b\b\b\b\b\b\b\b\b\b\b\b\b\b\b\b\b\b\b\b\b\b\b\b\b\b\b\b\b\b\b\b\b\b\b\b\b\b\b\b\b\b\b\b\b\b\b\b\b\b\b\b\b\b\b\b\b\b\b\b\b\b\b\b\b\b\b\b\b\b\b\b\b\b\b\b\b\b\b\b\b\r50000/50000 [==============================] - 565s 11ms/step - loss: 1.0292 - acc: 0.6478 - val_loss: 1.0422 - val_acc: 0.6474\n",
            "Epoch 8/50\n",
            "10336/50000 [=====>........................] - ETA: 7:08 - loss: 1.0193 - acc: 0.6548"
          ],
          "name": "stdout"
        },
        {
          "output_type": "stream",
          "text": [
            "49984/50000 [============================>.] - ETA: 0s - loss: 1.0197 - acc: 0.6536"
          ],
          "name": "stdout"
        },
        {
          "output_type": "stream",
          "text": [
            "\b\b\b\b\b\b\b\b\b\b\b\b\b\b\b\b\b\b\b\b\b\b\b\b\b\b\b\b\b\b\b\b\b\b\b\b\b\b\b\b\b\b\b\b\b\b\b\b\b\b\b\b\b\b\b\b\b\b\b\b\b\b\b\b\b\b\b\b\b\b\b\b\b\b\b\b\b\b\b\b\b\b\b\r50000/50000 [==============================] - 565s 11ms/step - loss: 1.0198 - acc: 0.6536 - val_loss: 1.1373 - val_acc: 0.6117\n",
            "Epoch 9/50\n",
            "10336/50000 [=====>........................] - ETA: 7:08 - loss: 1.0037 - acc: 0.6571"
          ],
          "name": "stdout"
        },
        {
          "output_type": "stream",
          "text": [
            "49984/50000 [============================>.] - ETA: 0s - loss: 1.0142 - acc: 0.6572"
          ],
          "name": "stdout"
        },
        {
          "output_type": "stream",
          "text": [
            "\b\b\b\b\b\b\b\b\b\b\b\b\b\b\b\b\b\b\b\b\b\b\b\b\b\b\b\b\b\b\b\b\b\b\b\b\b\b\b\b\b\b\b\b\b\b\b\b\b\b\b\b\b\b\b\b\b\b\b\b\b\b\b\b\b\b\b\b\b\b\b\b\b\b\b\b\b\b\b\b\b\b\b\r50000/50000 [==============================] - 563s 11ms/step - loss: 1.0141 - acc: 0.6573 - val_loss: 1.0538 - val_acc: 0.6513\n",
            "Epoch 10/50\n",
            "10304/50000 [=====>........................] - ETA: 7:10 - loss: 1.0120 - acc: 0.6620"
          ],
          "name": "stdout"
        },
        {
          "output_type": "stream",
          "text": [
            "49984/50000 [============================>.] - ETA: 0s - loss: 1.0187 - acc: 0.6561"
          ],
          "name": "stdout"
        },
        {
          "output_type": "stream",
          "text": [
            "\b\b\b\b\b\b\b\b\b\b\b\b\b\b\b\b\b\b\b\b\b\b\b\b\b\b\b\b\b\b\b\b\b\b\b\b\b\b\b\b\b\b\b\b\b\b\b\b\b\b\b\b\b\b\b\b\b\b\b\b\b\b\b\b\b\b\b\b\b\b\b\b\b\b\b\b\b\b\b\b\b\b\b\r50000/50000 [==============================] - 572s 11ms/step - loss: 1.0187 - acc: 0.6561 - val_loss: 1.0390 - val_acc: 0.6515\n",
            "Epoch 11/50\n",
            "10304/50000 [=====>........................] - ETA: 7:14 - loss: 1.0045 - acc: 0.6641"
          ],
          "name": "stdout"
        },
        {
          "output_type": "stream",
          "text": [
            "49984/50000 [============================>.] - ETA: 0s - loss: 1.0252 - acc: 0.6582"
          ],
          "name": "stdout"
        },
        {
          "output_type": "stream",
          "text": [
            "\b\b\b\b\b\b\b\b\b\b\b\b\b\b\b\b\b\b\b\b\b\b\b\b\b\b\b\b\b\b\b\b\b\b\b\b\b\b\b\b\b\b\b\b\b\b\b\b\b\b\b\b\b\b\b\b\b\b\b\b\b\b\b\b\b\b\b\b\b\b\b\b\b\b\b\b\b\b\b\b\b\b\b\r50000/50000 [==============================] - 569s 11ms/step - loss: 1.0253 - acc: 0.6582 - val_loss: 1.0748 - val_acc: 0.6390\n",
            "Epoch 12/50\n",
            "10304/50000 [=====>........................] - ETA: 7:11 - loss: 1.0101 - acc: 0.6618"
          ],
          "name": "stdout"
        },
        {
          "output_type": "stream",
          "text": [
            "49984/50000 [============================>.] - ETA: 0s - loss: 1.0220 - acc: 0.6574"
          ],
          "name": "stdout"
        },
        {
          "output_type": "stream",
          "text": [
            "\b\b\b\b\b\b\b\b\b\b\b\b\b\b\b\b\b\b\b\b\b\b\b\b\b\b\b\b\b\b\b\b\b\b\b\b\b\b\b\b\b\b\b\b\b\b\b\b\b\b\b\b\b\b\b\b\b\b\b\b\b\b\b\b\b\b\b\b\b\b\b\b\b\b\b\b\b\b\b\b\b\b\b\r50000/50000 [==============================] - 567s 11ms/step - loss: 1.0221 - acc: 0.6574 - val_loss: 1.1808 - val_acc: 0.6397\n",
            "Epoch 13/50\n",
            "10304/50000 [=====>........................] - ETA: 7:10 - loss: 1.0076 - acc: 0.6644"
          ],
          "name": "stdout"
        },
        {
          "output_type": "stream",
          "text": [
            "49984/50000 [============================>.] - ETA: 0s - loss: 1.0276 - acc: 0.6578"
          ],
          "name": "stdout"
        },
        {
          "output_type": "stream",
          "text": [
            "\b\b\b\b\b\b\b\b\b\b\b\b\b\b\b\b\b\b\b\b\b\b\b\b\b\b\b\b\b\b\b\b\b\b\b\b\b\b\b\b\b\b\b\b\b\b\b\b\b\b\b\b\b\b\b\b\b\b\b\b\b\b\b\b\b\b\b\b\b\b\b\b\b\b\b\b\b\b\b\b\b\b\b\r50000/50000 [==============================] - 564s 11ms/step - loss: 1.0274 - acc: 0.6579 - val_loss: 1.2379 - val_acc: 0.6128\n",
            "Epoch 14/50\n",
            "10304/50000 [=====>........................] - ETA: 7:12 - loss: 1.0304 - acc: 0.6586"
          ],
          "name": "stdout"
        },
        {
          "output_type": "stream",
          "text": [
            "49984/50000 [============================>.] - ETA: 0s - loss: 1.0228 - acc: 0.6593"
          ],
          "name": "stdout"
        },
        {
          "output_type": "stream",
          "text": [
            "\b\b\b\b\b\b\b\b\b\b\b\b\b\b\b\b\b\b\b\b\b\b\b\b\b\b\b\b\b\b\b\b\b\b\b\b\b\b\b\b\b\b\b\b\b\b\b\b\b\b\b\b\b\b\b\b\b\b\b\b\b\b\b\b\b\b\b\b\b\b\b\b\b\b\b\b\b\b\b\b\b\b\b\r50000/50000 [==============================] - 569s 11ms/step - loss: 1.0227 - acc: 0.6593 - val_loss: 1.0085 - val_acc: 0.6602\n",
            "Epoch 15/50\n",
            "10304/50000 [=====>........................] - ETA: 7:06 - loss: 1.0256 - acc: 0.6636"
          ],
          "name": "stdout"
        },
        {
          "output_type": "stream",
          "text": [
            "49984/50000 [============================>.] - ETA: 0s - loss: 1.0255 - acc: 0.6581"
          ],
          "name": "stdout"
        },
        {
          "output_type": "stream",
          "text": [
            "\b\b\b\b\b\b\b\b\b\b\b\b\b\b\b\b\b\b\b\b\b\b\b\b\b\b\b\b\b\b\b\b\b\b\b\b\b\b\b\b\b\b\b\b\b\b\b\b\b\b\b\b\b\b\b\b\b\b\b\b\b\b\b\b\b\b\b\b\b\b\b\b\b\b\b\b\b\b\b\b\b\b\b\r50000/50000 [==============================] - 562s 11ms/step - loss: 1.0255 - acc: 0.6581 - val_loss: 1.1414 - val_acc: 0.6183\n",
            "Epoch 16/50\n",
            "10304/50000 [=====>........................] - ETA: 7:11 - loss: 1.0138 - acc: 0.6601"
          ],
          "name": "stdout"
        },
        {
          "output_type": "stream",
          "text": [
            "49984/50000 [============================>.] - ETA: 0s - loss: 1.0271 - acc: 0.6585"
          ],
          "name": "stdout"
        },
        {
          "output_type": "stream",
          "text": [
            "\b\b\b\b\b\b\b\b\b\b\b\b\b\b\b\b\b\b\b\b\b\b\b\b\b\b\b\b\b\b\b\b\b\b\b\b\b\b\b\b\b\b\b\b\b\b\b\b\b\b\b\b\b\b\b\b\b\b\b\b\b\b\b\b\b\b\b\b\b\b\b\b\b\b\b\b\b\b\b\b\b\b\b\r50000/50000 [==============================] - 566s 11ms/step - loss: 1.0274 - acc: 0.6584 - val_loss: 1.1493 - val_acc: 0.6150\n",
            "Epoch 17/50\n",
            "10304/50000 [=====>........................] - ETA: 7:09 - loss: 1.0352 - acc: 0.6573"
          ],
          "name": "stdout"
        },
        {
          "output_type": "stream",
          "text": [
            "49984/50000 [============================>.] - ETA: 0s - loss: 1.0377 - acc: 0.6539"
          ],
          "name": "stdout"
        },
        {
          "output_type": "stream",
          "text": [
            "\b\b\b\b\b\b\b\b\b\b\b\b\b\b\b\b\b\b\b\b\b\b\b\b\b\b\b\b\b\b\b\b\b\b\b\b\b\b\b\b\b\b\b\b\b\b\b\b\b\b\b\b\b\b\b\b\b\b\b\b\b\b\b\b\b\b\b\b\b\b\b\b\b\b\b\b\b\b\b\b\b\b\b\r50000/50000 [==============================] - 565s 11ms/step - loss: 1.0375 - acc: 0.6540 - val_loss: 1.0739 - val_acc: 0.6575\n",
            "Epoch 18/50\n",
            "10304/50000 [=====>........................] - ETA: 7:07 - loss: 1.0139 - acc: 0.6582"
          ],
          "name": "stdout"
        },
        {
          "output_type": "stream",
          "text": [
            "49984/50000 [============================>.] - ETA: 0s - loss: 1.0416 - acc: 0.6547"
          ],
          "name": "stdout"
        },
        {
          "output_type": "stream",
          "text": [
            "\b\b\b\b\b\b\b\b\b\b\b\b\b\b\b\b\b\b\b\b\b\b\b\b\b\b\b\b\b\b\b\b\b\b\b\b\b\b\b\b\b\b\b\b\b\b\b\b\b\b\b\b\b\b\b\b\b\b\b\b\b\b\b\b\b\b\b\b\b\b\b\b\b\b\b\b\b\b\b\b\b\b\b\r50000/50000 [==============================] - 565s 11ms/step - loss: 1.0415 - acc: 0.6547 - val_loss: 1.0955 - val_acc: 0.6406\n",
            "Epoch 19/50\n",
            "10304/50000 [=====>........................] - ETA: 7:14 - loss: 1.0128 - acc: 0.6602"
          ],
          "name": "stdout"
        },
        {
          "output_type": "stream",
          "text": [
            "49984/50000 [============================>.] - ETA: 0s - loss: 1.0540 - acc: 0.6525"
          ],
          "name": "stdout"
        },
        {
          "output_type": "stream",
          "text": [
            "\b\b\b\b\b\b\b\b\b\b\b\b\b\b\b\b\b\b\b\b\b\b\b\b\b\b\b\b\b\b\b\b\b\b\b\b\b\b\b\b\b\b\b\b\b\b\b\b\b\b\b\b\b\b\b\b\b\b\b\b\b\b\b\b\b\b\b\b\b\b\b\b\b\b\b\b\b\b\b\b\b\b\b\r50000/50000 [==============================] - 570s 11ms/step - loss: 1.0540 - acc: 0.6525 - val_loss: 1.1058 - val_acc: 0.6502\n",
            "Epoch 20/50\n",
            "10304/50000 [=====>........................] - ETA: 7:07 - loss: 1.0577 - acc: 0.6614"
          ],
          "name": "stdout"
        },
        {
          "output_type": "stream",
          "text": [
            "49984/50000 [============================>.] - ETA: 0s - loss: 1.0645 - acc: 0.6521"
          ],
          "name": "stdout"
        },
        {
          "output_type": "stream",
          "text": [
            "\b\b\b\b\b\b\b\b\b\b\b\b\b\b\b\b\b\b\b\b\b\b\b\b\b\b\b\b\b\b\b\b\b\b\b\b\b\b\b\b\b\b\b\b\b\b\b\b\b\b\b\b\b\b\b\b\b\b\b\b\b\b\b\b\b\b\b\b\b\b\b\b\b\b\b\b\b\b\b\b\b\b\b\r50000/50000 [==============================] - 567s 11ms/step - loss: 1.0644 - acc: 0.6521 - val_loss: 1.5476 - val_acc: 0.6353\n",
            "Epoch 21/50\n",
            "10304/50000 [=====>........................] - ETA: 7:12 - loss: 1.0567 - acc: 0.6542"
          ],
          "name": "stdout"
        },
        {
          "output_type": "stream",
          "text": [
            "49984/50000 [============================>.] - ETA: 0s - loss: 1.0764 - acc: 0.6468"
          ],
          "name": "stdout"
        },
        {
          "output_type": "stream",
          "text": [
            "\b\b\b\b\b\b\b\b\b\b\b\b\b\b\b\b\b\b\b\b\b\b\b\b\b\b\b\b\b\b\b\b\b\b\b\b\b\b\b\b\b\b\b\b\b\b\b\b\b\b\b\b\b\b\b\b\b\b\b\b\b\b\b\b\b\b\b\b\b\b\b\b\b\b\b\b\b\b\b\b\b\b\b\r50000/50000 [==============================] - 569s 11ms/step - loss: 1.0764 - acc: 0.6468 - val_loss: 1.0818 - val_acc: 0.6439\n",
            "Epoch 22/50\n",
            "10304/50000 [=====>........................] - ETA: 7:08 - loss: 1.0790 - acc: 0.6452"
          ],
          "name": "stdout"
        },
        {
          "output_type": "stream",
          "text": [
            "49984/50000 [============================>.] - ETA: 0s - loss: 1.0907 - acc: 0.6448"
          ],
          "name": "stdout"
        },
        {
          "output_type": "stream",
          "text": [
            "\b\b\b\b\b\b\b\b\b\b\b\b\b\b\b\b\b\b\b\b\b\b\b\b\b\b\b\b\b\b\b\b\b\b\b\b\b\b\b\b\b\b\b\b\b\b\b\b\b\b\b\b\b\b\b\b\b\b\b\b\b\b\b\b\b\b\b\b\b\b\b\b\b\b\b\b\b\b\b\b\b\b\b\r50000/50000 [==============================] - 565s 11ms/step - loss: 1.0907 - acc: 0.6449 - val_loss: 1.1247 - val_acc: 0.6254\n",
            "Epoch 23/50\n",
            "10304/50000 [=====>........................] - ETA: 7:01 - loss: 1.0831 - acc: 0.6461"
          ],
          "name": "stdout"
        },
        {
          "output_type": "stream",
          "text": [
            "49984/50000 [============================>.] - ETA: 0s - loss: 1.1065 - acc: 0.6417"
          ],
          "name": "stdout"
        },
        {
          "output_type": "stream",
          "text": [
            "\b\b\b\b\b\b\b\b\b\b\b\b\b\b\b\b\b\b\b\b\b\b\b\b\b\b\b\b\b\b\b\b\b\b\b\b\b\b\b\b\b\b\b\b\b\b\b\b\b\b\b\b\b\b\b\b\b\b\b\b\b\b\b\b\b\b\b\b\b\b\b\b\b\b\b\b\b\b\b\b\b\b\b\r50000/50000 [==============================] - 554s 11ms/step - loss: 1.1067 - acc: 0.6417 - val_loss: 1.2059 - val_acc: 0.6180\n",
            "Epoch 24/50\n",
            "10304/50000 [=====>........................] - ETA: 6:59 - loss: 1.1303 - acc: 0.6386"
          ],
          "name": "stdout"
        },
        {
          "output_type": "stream",
          "text": [
            "49984/50000 [============================>.] - ETA: 0s - loss: 1.1208 - acc: 0.6357"
          ],
          "name": "stdout"
        },
        {
          "output_type": "stream",
          "text": [
            "\b\b\b\b\b\b\b\b\b\b\b\b\b\b\b\b\b\b\b\b\b\b\b\b\b\b\b\b\b\b\b\b\b\b\b\b\b\b\b\b\b\b\b\b\b\b\b\b\b\b\b\b\b\b\b\b\b\b\b\b\b\b\b\b\b\b\b\b\b\b\b\b\b\b\b\b\b\b\b\b\b\b\b\r50000/50000 [==============================] - 553s 11ms/step - loss: 1.1212 - acc: 0.6358 - val_loss: 1.1984 - val_acc: 0.6045\n",
            "Epoch 25/50\n",
            "10304/50000 [=====>........................] - ETA: 6:59 - loss: 1.1247 - acc: 0.6386"
          ],
          "name": "stdout"
        },
        {
          "output_type": "stream",
          "text": [
            "49984/50000 [============================>.] - ETA: 0s - loss: 1.1396 - acc: 0.6318"
          ],
          "name": "stdout"
        },
        {
          "output_type": "stream",
          "text": [
            "\b\b\b\b\b\b\b\b\b\b\b\b\b\b\b\b\b\b\b\b\b\b\b\b\b\b\b\b\b\b\b\b\b\b\b\b\b\b\b\b\b\b\b\b\b\b\b\b\b\b\b\b\b\b\b\b\b\b\b\b\b\b\b\b\b\b\b\b\b\b\b\b\b\b\b\b\b\b\b\b\b\b\b\r50000/50000 [==============================] - 552s 11ms/step - loss: 1.1395 - acc: 0.6318 - val_loss: 1.1036 - val_acc: 0.6359\n",
            "Epoch 26/50\n",
            "10304/50000 [=====>........................] - ETA: 6:58 - loss: 1.1466 - acc: 0.6331"
          ],
          "name": "stdout"
        },
        {
          "output_type": "stream",
          "text": [
            "49984/50000 [============================>.] - ETA: 0s - loss: 1.1454 - acc: 0.6302"
          ],
          "name": "stdout"
        },
        {
          "output_type": "stream",
          "text": [
            "\b\b\b\b\b\b\b\b\b\b\b\b\b\b\b\b\b\b\b\b\b\b\b\b\b\b\b\b\b\b\b\b\b\b\b\b\b\b\b\b\b\b\b\b\b\b\b\b\b\b\b\b\b\b\b\b\b\b\b\b\b\b\b\b\b\b\b\b\b\b\b\b\b\b\b\b\b\b\b\b\b\b\b\r50000/50000 [==============================] - 553s 11ms/step - loss: 1.1454 - acc: 0.6302 - val_loss: 1.3945 - val_acc: 0.6114\n",
            "Epoch 27/50\n",
            "10304/50000 [=====>........................] - ETA: 6:59 - loss: 1.1550 - acc: 0.6191"
          ],
          "name": "stdout"
        },
        {
          "output_type": "stream",
          "text": [
            "49984/50000 [============================>.] - ETA: 0s - loss: 1.1605 - acc: 0.6204"
          ],
          "name": "stdout"
        },
        {
          "output_type": "stream",
          "text": [
            "\b\b\b\b\b\b\b\b\b\b\b\b\b\b\b\b\b\b\b\b\b\b\b\b\b\b\b\b\b\b\b\b\b\b\b\b\b\b\b\b\b\b\b\b\b\b\b\b\b\b\b\b\b\b\b\b\b\b\b\b\b\b\b\b\b\b\b\b\b\b\b\b\b\b\b\b\b\b\b\b\b\b\b\r50000/50000 [==============================] - 553s 11ms/step - loss: 1.1605 - acc: 0.6204 - val_loss: 1.1096 - val_acc: 0.6521\n",
            "Epoch 28/50\n",
            "10304/50000 [=====>........................] - ETA: 6:59 - loss: 1.1717 - acc: 0.6201"
          ],
          "name": "stdout"
        },
        {
          "output_type": "stream",
          "text": [
            "49984/50000 [============================>.] - ETA: 0s - loss: 1.1837 - acc: 0.6174"
          ],
          "name": "stdout"
        },
        {
          "output_type": "stream",
          "text": [
            "\b\b\b\b\b\b\b\b\b\b\b\b\b\b\b\b\b\b\b\b\b\b\b\b\b\b\b\b\b\b\b\b\b\b\b\b\b\b\b\b\b\b\b\b\b\b\b\b\b\b\b\b\b\b\b\b\b\b\b\b\b\b\b\b\b\b\b\b\b\b\b\b\b\b\b\b\b\b\b\b\b\b\b\r50000/50000 [==============================] - 553s 11ms/step - loss: 1.1838 - acc: 0.6173 - val_loss: 1.1211 - val_acc: 0.6436\n",
            "Epoch 29/50\n",
            "10304/50000 [=====>........................] - ETA: 6:59 - loss: 1.1940 - acc: 0.6079"
          ],
          "name": "stdout"
        },
        {
          "output_type": "stream",
          "text": [
            "49984/50000 [============================>.] - ETA: 0s - loss: 1.2035 - acc: 0.6087"
          ],
          "name": "stdout"
        },
        {
          "output_type": "stream",
          "text": [
            "\b\b\b\b\b\b\b\b\b\b\b\b\b\b\b\b\b\b\b\b\b\b\b\b\b\b\b\b\b\b\b\b\b\b\b\b\b\b\b\b\b\b\b\b\b\b\b\b\b\b\b\b\b\b\b\b\b\b\b\b\b\b\b\b\b\b\b\b\b\b\b\b\b\b\b\b\b\b\b\b\b\b\b\r50000/50000 [==============================] - 553s 11ms/step - loss: 1.2034 - acc: 0.6088 - val_loss: 1.1844 - val_acc: 0.6421\n",
            "Epoch 30/50\n",
            "10304/50000 [=====>........................] - ETA: 7:00 - loss: 1.1922 - acc: 0.6126"
          ],
          "name": "stdout"
        },
        {
          "output_type": "stream",
          "text": [
            "49984/50000 [============================>.] - ETA: 0s - loss: 1.2189 - acc: 0.6069"
          ],
          "name": "stdout"
        },
        {
          "output_type": "stream",
          "text": [
            "\b\b\b\b\b\b\b\b\b\b\b\b\b\b\b\b\b\b\b\b\b\b\b\b\b\b\b\b\b\b\b\b\b\b\b\b\b\b\b\b\b\b\b\b\b\b\b\b\b\b\b\b\b\b\b\b\b\b\b\b\b\b\b\b\b\b\b\b\b\b\b\b\b\b\b\b\b\b\b\b\b\b\b\r50000/50000 [==============================] - 554s 11ms/step - loss: 1.2190 - acc: 0.6068 - val_loss: 1.2161 - val_acc: 0.6050\n",
            "Epoch 31/50\n",
            "10304/50000 [=====>........................] - ETA: 7:01 - loss: 1.2135 - acc: 0.6073"
          ],
          "name": "stdout"
        },
        {
          "output_type": "stream",
          "text": [
            "49984/50000 [============================>.] - ETA: 0s - loss: 1.2284 - acc: 0.6043"
          ],
          "name": "stdout"
        },
        {
          "output_type": "stream",
          "text": [
            "\b\b\b\b\b\b\b\b\b\b\b\b\b\b\b\b\b\b\b\b\b\b\b\b\b\b\b\b\b\b\b\b\b\b\b\b\b\b\b\b\b\b\b\b\b\b\b\b\b\b\b\b\b\b\b\b\b\b\b\b\b\b\b\b\b\b\b\b\b\b\b\b\b\b\b\b\b\b\b\b\b\b\b\r50000/50000 [==============================] - 556s 11ms/step - loss: 1.2283 - acc: 0.6043 - val_loss: 1.1441 - val_acc: 0.6325\n",
            "Epoch 32/50\n",
            "10304/50000 [=====>........................] - ETA: 7:00 - loss: 1.2430 - acc: 0.5970"
          ],
          "name": "stdout"
        },
        {
          "output_type": "stream",
          "text": [
            "49984/50000 [============================>.] - ETA: 0s - loss: 1.2452 - acc: 0.5976"
          ],
          "name": "stdout"
        },
        {
          "output_type": "stream",
          "text": [
            "\b\b\b\b\b\b\b\b\b\b\b\b\b\b\b\b\b\b\b\b\b\b\b\b\b\b\b\b\b\b\b\b\b\b\b\b\b\b\b\b\b\b\b\b\b\b\b\b\b\b\b\b\b\b\b\b\b\b\b\b\b\b\b\b\b\b\b\b\b\b\b\b\b\b\b\b\b\b\b\b\b\b\b\r50000/50000 [==============================] - 555s 11ms/step - loss: 1.2453 - acc: 0.5975 - val_loss: 1.3224 - val_acc: 0.5681\n",
            "Epoch 33/50\n",
            "10304/50000 [=====>........................] - ETA: 7:02 - loss: 1.2547 - acc: 0.5956"
          ],
          "name": "stdout"
        },
        {
          "output_type": "stream",
          "text": [
            "49984/50000 [============================>.] - ETA: 0s - loss: 1.2506 - acc: 0.5931"
          ],
          "name": "stdout"
        },
        {
          "output_type": "stream",
          "text": [
            "\b\b\b\b\b\b\b\b\b\b\b\b\b\b\b\b\b\b\b\b\b\b\b\b\b\b\b\b\b\b\b\b\b\b\b\b\b\b\b\b\b\b\b\b\b\b\b\b\b\b\b\b\b\b\b\b\b\b\b\b\b\b\b\b\b\b\b\b\b\b\b\b\b\b\b\b\b\b\b\b\b\b\b\r50000/50000 [==============================] - 558s 11ms/step - loss: 1.2507 - acc: 0.5930 - val_loss: 1.3203 - val_acc: 0.6199\n",
            "Epoch 34/50\n",
            "10304/50000 [=====>........................] - ETA: 7:01 - loss: 1.2716 - acc: 0.5926"
          ],
          "name": "stdout"
        },
        {
          "output_type": "stream",
          "text": [
            "49984/50000 [============================>.] - ETA: 0s - loss: 1.2731 - acc: 0.5888"
          ],
          "name": "stdout"
        },
        {
          "output_type": "stream",
          "text": [
            "\b\b\b\b\b\b\b\b\b\b\b\b\b\b\b\b\b\b\b\b\b\b\b\b\b\b\b\b\b\b\b\b\b\b\b\b\b\b\b\b\b\b\b\b\b\b\b\b\b\b\b\b\b\b\b\b\b\b\b\b\b\b\b\b\b\b\b\b\b\b\b\b\b\b\b\b\b\b\b\b\b\b\b\r50000/50000 [==============================] - 556s 11ms/step - loss: 1.2732 - acc: 0.5888 - val_loss: 1.3498 - val_acc: 0.5700\n",
            "Epoch 35/50\n",
            "10304/50000 [=====>........................] - ETA: 7:02 - loss: 1.2789 - acc: 0.5887"
          ],
          "name": "stdout"
        },
        {
          "output_type": "stream",
          "text": [
            "49984/50000 [============================>.] - ETA: 0s - loss: 1.2822 - acc: 0.5866"
          ],
          "name": "stdout"
        },
        {
          "output_type": "stream",
          "text": [
            "\b\b\b\b\b\b\b\b\b\b\b\b\b\b\b\b\b\b\b\b\b\b\b\b\b\b\b\b\b\b\b\b\b\b\b\b\b\b\b\b\b\b\b\b\b\b\b\b\b\b\b\b\b\b\b\b\b\b\b\b\b\b\b\b\b\b\b\b\b\b\b\b\b\b\b\b\b\b\b\b\b\b\b\r50000/50000 [==============================] - 556s 11ms/step - loss: 1.2824 - acc: 0.5867 - val_loss: 1.3634 - val_acc: 0.5444\n",
            "Epoch 36/50\n",
            "10304/50000 [=====>........................] - ETA: 7:00 - loss: 1.2907 - acc: 0.5798"
          ],
          "name": "stdout"
        },
        {
          "output_type": "stream",
          "text": [
            "49984/50000 [============================>.] - ETA: 0s - loss: 1.3105 - acc: 0.5769"
          ],
          "name": "stdout"
        },
        {
          "output_type": "stream",
          "text": [
            "\b\b\b\b\b\b\b\b\b\b\b\b\b\b\b\b\b\b\b\b\b\b\b\b\b\b\b\b\b\b\b\b\b\b\b\b\b\b\b\b\b\b\b\b\b\b\b\b\b\b\b\b\b\b\b\b\b\b\b\b\b\b\b\b\b\b\b\b\b\b\b\b\b\b\b\b\b\b\b\b\b\b\b\r50000/50000 [==============================] - 554s 11ms/step - loss: 1.3106 - acc: 0.5769 - val_loss: 1.2764 - val_acc: 0.6082\n",
            "Epoch 37/50\n",
            "10304/50000 [=====>........................] - ETA: 6:58 - loss: 1.3001 - acc: 0.5798"
          ],
          "name": "stdout"
        },
        {
          "output_type": "stream",
          "text": [
            "49984/50000 [============================>.] - ETA: 0s - loss: 1.3226 - acc: 0.5754"
          ],
          "name": "stdout"
        },
        {
          "output_type": "stream",
          "text": [
            "\b\b\b\b\b\b\b\b\b\b\b\b\b\b\b\b\b\b\b\b\b\b\b\b\b\b\b\b\b\b\b\b\b\b\b\b\b\b\b\b\b\b\b\b\b\b\b\b\b\b\b\b\b\b\b\b\b\b\b\b\b\b\b\b\b\b\b\b\b\b\b\b\b\b\b\b\b\b\b\b\b\b\b\r50000/50000 [==============================] - 554s 11ms/step - loss: 1.3225 - acc: 0.5754 - val_loss: 1.3025 - val_acc: 0.5941\n",
            "Epoch 38/50\n",
            "10304/50000 [=====>........................] - ETA: 7:02 - loss: 1.3110 - acc: 0.5712"
          ],
          "name": "stdout"
        },
        {
          "output_type": "stream",
          "text": [
            "49984/50000 [============================>.] - ETA: 0s - loss: 1.3334 - acc: 0.5669"
          ],
          "name": "stdout"
        },
        {
          "output_type": "stream",
          "text": [
            "\b\b\b\b\b\b\b\b\b\b\b\b\b\b\b\b\b\b\b\b\b\b\b\b\b\b\b\b\b\b\b\b\b\b\b\b\b\b\b\b\b\b\b\b\b\b\b\b\b\b\b\b\b\b\b\b\b\b\b\b\b\b\b\b\b\b\b\b\b\b\b\b\b\b\b\b\b\b\b\b\b\b\b\r50000/50000 [==============================] - 557s 11ms/step - loss: 1.3335 - acc: 0.5669 - val_loss: 1.2288 - val_acc: 0.6097\n",
            "Epoch 39/50\n",
            "10304/50000 [=====>........................] - ETA: 7:03 - loss: 1.3383 - acc: 0.5716"
          ],
          "name": "stdout"
        },
        {
          "output_type": "stream",
          "text": [
            "49984/50000 [============================>.] - ETA: 0s - loss: 1.3600 - acc: 0.5662"
          ],
          "name": "stdout"
        },
        {
          "output_type": "stream",
          "text": [
            "\b\b\b\b\b\b\b\b\b\b\b\b\b\b\b\b\b\b\b\b\b\b\b\b\b\b\b\b\b\b\b\b\b\b\b\b\b\b\b\b\b\b\b\b\b\b\b\b\b\b\b\b\b\b\b\b\b\b\b\b\b\b\b\b\b\b\b\b\b\b\b\b\b\b\b\b\b\b\b\b\b\b\b\r50000/50000 [==============================] - 558s 11ms/step - loss: 1.3603 - acc: 0.5661 - val_loss: 1.1992 - val_acc: 0.5995\n",
            "Epoch 40/50\n",
            "10304/50000 [=====>........................] - ETA: 7:01 - loss: 1.3634 - acc: 0.5607"
          ],
          "name": "stdout"
        },
        {
          "output_type": "stream",
          "text": [
            "49984/50000 [============================>.] - ETA: 0s - loss: 1.3786 - acc: 0.5570"
          ],
          "name": "stdout"
        },
        {
          "output_type": "stream",
          "text": [
            "\b\b\b\b\b\b\b\b\b\b\b\b\b\b\b\b\b\b\b\b\b\b\b\b\b\b\b\b\b\b\b\b\b\b\b\b\b\b\b\b\b\b\b\b\b\b\b\b\b\b\b\b\b\b\b\b\b\b\b\b\b\b\b\b\b\b\b\b\b\b\b\b\b\b\b\b\b\b\b\b\b\b\b\r50000/50000 [==============================] - 554s 11ms/step - loss: 1.3786 - acc: 0.5570 - val_loss: 1.2257 - val_acc: 0.5979\n",
            "Epoch 41/50\n",
            "10304/50000 [=====>........................] - ETA: 6:59 - loss: 1.3747 - acc: 0.5635"
          ],
          "name": "stdout"
        },
        {
          "output_type": "stream",
          "text": [
            "49984/50000 [============================>.] - ETA: 0s - loss: 1.3831 - acc: 0.5550"
          ],
          "name": "stdout"
        },
        {
          "output_type": "stream",
          "text": [
            "\b\b\b\b\b\b\b\b\b\b\b\b\b\b\b\b\b\b\b\b\b\b\b\b\b\b\b\b\b\b\b\b\b\b\b\b\b\b\b\b\b\b\b\b\b\b\b\b\b\b\b\b\b\b\b\b\b\b\b\b\b\b\b\b\b\b\b\b\b\b\b\b\b\b\b\b\b\b\b\b\b\b\b\r50000/50000 [==============================] - 554s 11ms/step - loss: 1.3831 - acc: 0.5550 - val_loss: 1.3673 - val_acc: 0.5388\n",
            "Epoch 42/50\n",
            "10304/50000 [=====>........................] - ETA: 6:59 - loss: 1.3831 - acc: 0.5559"
          ],
          "name": "stdout"
        },
        {
          "output_type": "stream",
          "text": [
            "49984/50000 [============================>.] - ETA: 0s - loss: 1.3972 - acc: 0.5500"
          ],
          "name": "stdout"
        },
        {
          "output_type": "stream",
          "text": [
            "\b\b\b\b\b\b\b\b\b\b\b\b\b\b\b\b\b\b\b\b\b\b\b\b\b\b\b\b\b\b\b\b\b\b\b\b\b\b\b\b\b\b\b\b\b\b\b\b\b\b\b\b\b\b\b\b\b\b\b\b\b\b\b\b\b\b\b\b\b\b\b\b\b\b\b\b\b\b\b\b\b\b\b\r50000/50000 [==============================] - 554s 11ms/step - loss: 1.3975 - acc: 0.5499 - val_loss: 1.3021 - val_acc: 0.5770\n",
            "Epoch 43/50\n",
            "10304/50000 [=====>........................] - ETA: 7:00 - loss: 1.3959 - acc: 0.5543"
          ],
          "name": "stdout"
        },
        {
          "output_type": "stream",
          "text": [
            "49984/50000 [============================>.] - ETA: 0s - loss: 1.4247 - acc: 0.5437"
          ],
          "name": "stdout"
        },
        {
          "output_type": "stream",
          "text": [
            "\b\b\b\b\b\b\b\b\b\b\b\b\b\b\b\b\b\b\b\b\b\b\b\b\b\b\b\b\b\b\b\b\b\b\b\b\b\b\b\b\b\b\b\b\b\b\b\b\b\b\b\b\b\b\b\b\b\b\b\b\b\b\b\b\b\b\b\b\b\b\b\b\b\b\b\b\b\b\b\b\b\b\b\r50000/50000 [==============================] - 555s 11ms/step - loss: 1.4247 - acc: 0.5437 - val_loss: 1.6562 - val_acc: 0.5776\n",
            "Epoch 44/50\n",
            "10304/50000 [=====>........................] - ETA: 7:01 - loss: 1.4001 - acc: 0.5598"
          ],
          "name": "stdout"
        },
        {
          "output_type": "stream",
          "text": [
            "49984/50000 [============================>.] - ETA: 0s - loss: 1.4315 - acc: 0.5440"
          ],
          "name": "stdout"
        },
        {
          "output_type": "stream",
          "text": [
            "\b\b\b\b\b\b\b\b\b\b\b\b\b\b\b\b\b\b\b\b\b\b\b\b\b\b\b\b\b\b\b\b\b\b\b\b\b\b\b\b\b\b\b\b\b\b\b\b\b\b\b\b\b\b\b\b\b\b\b\b\b\b\b\b\b\b\b\b\b\b\b\b\b\b\b\b\b\b\b\b\b\b\b\r50000/50000 [==============================] - 555s 11ms/step - loss: 1.4317 - acc: 0.5439 - val_loss: 1.5391 - val_acc: 0.5677\n",
            "Epoch 45/50\n",
            "10304/50000 [=====>........................] - ETA: 7:01 - loss: 1.4382 - acc: 0.5459"
          ],
          "name": "stdout"
        },
        {
          "output_type": "stream",
          "text": [
            "49984/50000 [============================>.] - ETA: 0s - loss: 1.4514 - acc: 0.5372"
          ],
          "name": "stdout"
        },
        {
          "output_type": "stream",
          "text": [
            "\b\b\b\b\b\b\b\b\b\b\b\b\b\b\b\b\b\b\b\b\b\b\b\b\b\b\b\b\b\b\b\b\b\b\b\b\b\b\b\b\b\b\b\b\b\b\b\b\b\b\b\b\b\b\b\b\b\b\b\b\b\b\b\b\b\b\b\b\b\b\b\b\b\b\b\b\b\b\b\b\b\b\b\r50000/50000 [==============================] - 554s 11ms/step - loss: 1.4514 - acc: 0.5371 - val_loss: 1.3551 - val_acc: 0.5572\n",
            "Epoch 46/50\n",
            "10304/50000 [=====>........................] - ETA: 6:59 - loss: 1.4672 - acc: 0.5366"
          ],
          "name": "stdout"
        },
        {
          "output_type": "stream",
          "text": [
            "49984/50000 [============================>.] - ETA: 0s - loss: 1.4720 - acc: 0.5307"
          ],
          "name": "stdout"
        },
        {
          "output_type": "stream",
          "text": [
            "\b\b\b\b\b\b\b\b\b\b\b\b\b\b\b\b\b\b\b\b\b\b\b\b\b\b\b\b\b\b\b\b\b\b\b\b\b\b\b\b\b\b\b\b\b\b\b\b\b\b\b\b\b\b\b\b\b\b\b\b\b\b\b\b\b\b\b\b\b\b\b\b\b\b\b\b\b\b\b\b\b\b\b\r50000/50000 [==============================] - 553s 11ms/step - loss: 1.4719 - acc: 0.5308 - val_loss: 1.3419 - val_acc: 0.6062\n",
            "Epoch 47/50\n",
            "10304/50000 [=====>........................] - ETA: 6:59 - loss: 1.4711 - acc: 0.5312"
          ],
          "name": "stdout"
        },
        {
          "output_type": "stream",
          "text": [
            "49984/50000 [============================>.] - ETA: 0s - loss: 1.4755 - acc: 0.5298"
          ],
          "name": "stdout"
        },
        {
          "output_type": "stream",
          "text": [
            "\b\b\b\b\b\b\b\b\b\b\b\b\b\b\b\b\b\b\b\b\b\b\b\b\b\b\b\b\b\b\b\b\b\b\b\b\b\b\b\b\b\b\b\b\b\b\b\b\b\b\b\b\b\b\b\b\b\b\b\b\b\b\b\b\b\b\b\b\b\b\b\b\b\b\b\b\b\b\b\b\b\b\b\r50000/50000 [==============================] - 554s 11ms/step - loss: 1.4755 - acc: 0.5298 - val_loss: 1.3373 - val_acc: 0.5677\n",
            "Epoch 48/50\n",
            "10304/50000 [=====>........................] - ETA: 7:01 - loss: 1.4814 - acc: 0.5315"
          ],
          "name": "stdout"
        },
        {
          "output_type": "stream",
          "text": [
            "49984/50000 [============================>.] - ETA: 0s - loss: 1.5008 - acc: 0.5226"
          ],
          "name": "stdout"
        },
        {
          "output_type": "stream",
          "text": [
            "\b\b\b\b\b\b\b\b\b\b\b\b\b\b\b\b\b\b\b\b\b\b\b\b\b\b\b\b\b\b\b\b\b\b\b\b\b\b\b\b\b\b\b\b\b\b\b\b\b\b\b\b\b\b\b\b\b\b\b\b\b\b\b\b\b\b\b\b\b\b\b\b\b\b\b\b\b\b\b\b\b\b\b\r50000/50000 [==============================] - 554s 11ms/step - loss: 1.5007 - acc: 0.5227 - val_loss: 1.2669 - val_acc: 0.5923\n",
            "Epoch 49/50\n",
            "10304/50000 [=====>........................] - ETA: 7:00 - loss: 1.4947 - acc: 0.5204"
          ],
          "name": "stdout"
        },
        {
          "output_type": "stream",
          "text": [
            "49984/50000 [============================>.] - ETA: 0s - loss: 1.5141 - acc: 0.5152"
          ],
          "name": "stdout"
        },
        {
          "output_type": "stream",
          "text": [
            "\b\b\b\b\b\b\b\b\b\b\b\b\b\b\b\b\b\b\b\b\b\b\b\b\b\b\b\b\b\b\b\b\b\b\b\b\b\b\b\b\b\b\b\b\b\b\b\b\b\b\b\b\b\b\b\b\b\b\b\b\b\b\b\b\b\b\b\b\b\b\b\b\b\b\b\b\b\b\b\b\b\b\b\r50000/50000 [==============================] - 557s 11ms/step - loss: 1.5141 - acc: 0.5152 - val_loss: 1.4241 - val_acc: 0.5319\n",
            "Epoch 50/50\n",
            "10304/50000 [=====>........................] - ETA: 7:03 - loss: 1.5170 - acc: 0.5138"
          ],
          "name": "stdout"
        },
        {
          "output_type": "stream",
          "text": [
            "49984/50000 [============================>.] - ETA: 0s - loss: 1.5291 - acc: 0.5128"
          ],
          "name": "stdout"
        },
        {
          "output_type": "stream",
          "text": [
            "\b\b\b\b\b\b\b\b\b\b\b\b\b\b\b\b\b\b\b\b\b\b\b\b\b\b\b\b\b\b\b\b\b\b\b\b\b\b\b\b\b\b\b\b\b\b\b\b\b\b\b\b\b\b\b\b\b\b\b\b\b\b\b\b\b\b\b\b\b\b\b\b\b\b\b\b\b\b\b\b\b\b\b\r50000/50000 [==============================] - 559s 11ms/step - loss: 1.5290 - acc: 0.5128 - val_loss: 2.9345 - val_acc: 0.5208\n"
          ],
          "name": "stdout"
        }
      ]
    },
    {
      "metadata": {
        "id": "4pwyaG3YY8e5",
        "colab_type": "code",
        "colab": {
          "autoexec": {
            "startup": false,
            "wait_interval": 0
          }
        }
      },
      "cell_type": "code",
      "source": [
        "model.save(model_name)\n",
        "from google.colab import files\n",
        "\n",
        "files.download(model_name)"
      ],
      "execution_count": 0,
      "outputs": []
    },
    {
      "metadata": {
        "id": "xAbNfYfeEF-A",
        "colab_type": "code",
        "colab": {
          "autoexec": {
            "startup": false,
            "wait_interval": 0
          }
        }
      },
      "cell_type": "code",
      "source": [
        "acc = history.history['acc']\n",
        "loss = history.history['loss']\n",
        "\n",
        "val_loss = history.history['val_loss']\n",
        "val_acc = history.history['val_acc']"
      ],
      "execution_count": 0,
      "outputs": []
    },
    {
      "metadata": {
        "id": "QgIDj8JCEKfl",
        "colab_type": "code",
        "colab": {
          "autoexec": {
            "startup": false,
            "wait_interval": 0
          },
          "output_extras": [
            {
              "item_id": 1
            }
          ],
          "base_uri": "https://localhost:8080/",
          "height": 347
        },
        "outputId": "72b086a6-dd3c-4d81-a07c-dc442a6f04eb",
        "executionInfo": {
          "status": "ok",
          "timestamp": 1518322645530,
          "user_tz": 0,
          "elapsed": 700,
          "user": {
            "displayName": "Thibault Huyet",
            "photoUrl": "https://lh3.googleusercontent.com/a/default-user=s128",
            "userId": "100784631454882897414"
          }
        }
      },
      "cell_type": "code",
      "source": [
        "import matplotlib.pyplot as plt\n",
        "\n",
        "plt.plot(acc, label = 'Training Accuracy')\n",
        "plt.plot(val_acc, label = 'Validation Accuracy')\n",
        "plt.legend()\n",
        "plt.show()"
      ],
      "execution_count": 42,
      "outputs": [
        {
          "output_type": "display_data",
          "data": {
            "image/png": "[encoded data removed]",
            "text/plain": [
              "<matplotlib.figure.Figure at 0x7f404c3ea4e0>"
            ]
          },
          "metadata": {
            "tags": []
          }
        }
      ]
    },
    {
      "metadata": {
        "id": "NldbQj5ZFSOb",
        "colab_type": "code",
        "colab": {
          "autoexec": {
            "startup": false,
            "wait_interval": 0
          },
          "output_extras": [
            {
              "item_id": 1
            }
          ],
          "base_uri": "https://localhost:8080/",
          "height": 347
        },
        "outputId": "80f4ef74-b6aa-470a-f3fa-e219d7bf5343",
        "executionInfo": {
          "status": "ok",
          "timestamp": 1518322677238,
          "user_tz": 0,
          "elapsed": 651,
          "user": {
            "displayName": "Thibault Huyet",
            "photoUrl": "https://lh3.googleusercontent.com/a/default-user=s128",
            "userId": "100784631454882897414"
          }
        }
      },
      "cell_type": "code",
      "source": [
        "plt.plot(loss, label = 'Training Loss')\n",
        "plt.plot(val_loss, label = 'Validation Loss')\n",
        "plt.legend()\n",
        "plt.show()"
      ],
      "execution_count": 43,
      "outputs": [
        {
          "output_type": "display_data",
          "data": {
            "image/png": "[encoded data removed]",
            "text/plain": [
              "<matplotlib.figure.Figure at 0x7f404c361208>"
            ]
          },
          "metadata": {
            "tags": []
          }
        }
      ]
    },
    {
      "metadata": {
        "id": "9AQyEa_VEyQ1",
        "colab_type": "code",
        "colab": {
          "autoexec": {
            "startup": false,
            "wait_interval": 0
          }
        }
      },
      "cell_type": "code",
      "source": [
        ""
      ],
      "execution_count": 0,
      "outputs": []
    }
  ]
}