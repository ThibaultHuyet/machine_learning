{
 "cells": [
  {
   "cell_type": "markdown",
   "metadata": {},
   "source": [
    "# Cats vs Dogs"
   ]
  },
  {
   "cell_type": "markdown",
   "metadata": {},
   "source": [
    "The Kaggle competition Cats vs Dogs is a simple classification problem. I am given 10,000 images of Cats and Dogs, all labelled. The job is to train a model on these and then test how accurate my model is on the test set.\n",
    "\n",
    "The top score as of 26 January 2018 is 99% accuracy.\n",
    "\n",
    "On the competition's description:\n",
    "\n",
    ">While random guessing is the easiest form of attack, various forms of image recognition can allow an attacker to make guesses that are better than random. There is enormous diversity in the photo database (a wide variety of backgrounds, angles, poses, lighting, etc.), making accurate automatic classification difficult. In an informal poll conducted many years ago, computer vision experts posited that a classifier with better than 60% accuracy would be difficult without a major advance in the state of the art. For reference, a 60% classifier improves the guessing probability of a 12-image HIP from 1/4096 to 1/459."
   ]
  },
  {
   "cell_type": "code",
   "execution_count": 1,
   "metadata": {
    "scrolled": true
   },
   "outputs": [
    {
     "name": "stderr",
     "output_type": "stream",
     "text": [
      "'ls' is not recognized as an internal or external command,\n",
      "operable program or batch file.\n"
     ]
    }
   ],
   "source": [
    "!ls"
   ]
  },
  {
   "cell_type": "code",
   "execution_count": 2,
   "metadata": {},
   "outputs": [
    {
     "name": "stderr",
     "output_type": "stream",
     "text": [
      "'ls' is not recognized as an internal or external command,\n",
      "operable program or batch file.\n"
     ]
    }
   ],
   "source": [
    "!ls train | wc -l"
   ]
  },
  {
   "cell_type": "code",
   "execution_count": 3,
   "metadata": {},
   "outputs": [
    {
     "name": "stderr",
     "output_type": "stream",
     "text": [
      "'ls' is not recognized as an internal or external command,\n",
      "operable program or batch file.\n"
     ]
    }
   ],
   "source": [
    "!ls test1 | wc -l"
   ]
  },
  {
   "cell_type": "code",
   "execution_count": 4,
   "metadata": {
    "collapsed": true
   },
   "outputs": [],
   "source": [
    "import os\n",
    "import shutil"
   ]
  },
  {
   "cell_type": "code",
   "execution_count": 5,
   "metadata": {
    "collapsed": true
   },
   "outputs": [],
   "source": [
    "train_path = \"train\"\n",
    "test_path = \"test1\"\n",
    "\n",
    "dogs = \"train/dogs\"\n",
    "cats = \"train/cats\""
   ]
  },
  {
   "cell_type": "code",
   "execution_count": 6,
   "metadata": {
    "scrolled": true
   },
   "outputs": [],
   "source": [
    "for file in os.listdir(train_path):\n",
    "    if file.count('.') > 1:\n",
    "        name_string = file.split('.')\n",
    "        new_name = name_string[0] + name_string[1] + '.' + name_string[2]\n",
    "        old_path = train_path + r'/' + file\n",
    "        new_path = train_path + r'/' + new_name\n",
    "        os.rename(old_path, new_path)"
   ]
  },
  {
   "cell_type": "markdown",
   "metadata": {},
   "source": [
    "First goal of the project is to organize the data. I want to seperate the cats and dogs into two different folders for the training data."
   ]
  },
  {
   "cell_type": "markdown",
   "metadata": {},
   "source": [
    "Here I begin by defining the paths that I will be using to organize the data. I won't actually use the test path here yet but since I'm defining paths, I might as well define this right now."
   ]
  },
  {
   "cell_type": "markdown",
   "metadata": {},
   "source": [
    "After having imported some useful libraries when dealing with filepaths and file management, I begin by making sure that the file paths that I want actually exist."
   ]
  },
  {
   "cell_type": "code",
   "execution_count": 7,
   "metadata": {},
   "outputs": [
    {
     "name": "stdout",
     "output_type": "stream",
     "text": [
      "train/dogs already exists\n",
      "train/cats already exists\n"
     ]
    }
   ],
   "source": [
    "def create_directory(directory):\n",
    "    if not os.path.exists(directory):\n",
    "        os.makedirs(directory)\n",
    "    else:\n",
    "        print(directory + ' already exists')\n",
    "\n",
    "create_directory(dogs)\n",
    "create_directory(cats)"
   ]
  },
  {
   "cell_type": "markdown",
   "metadata": {},
   "source": [
    "Then I need to move every single file that has cats in it to the cats folder and every file that has dog in it to the dogs folder."
   ]
  },
  {
   "cell_type": "code",
   "execution_count": 8,
   "metadata": {
    "collapsed": true
   },
   "outputs": [],
   "source": [
    "for file in os.listdir(train_path):\n",
    "    current_file = train_path + '/' + file\n",
    "    if 'dog' in current_file:\n",
    "        shutil.move(current_file, dogs)\n",
    "    elif 'cat' in current_file:\n",
    "        shutil.move(current_file, cats)\n",
    "    else:\n",
    "        print(file)"
   ]
  },
  {
   "cell_type": "code",
   "execution_count": 9,
   "metadata": {},
   "outputs": [
    {
     "name": "stderr",
     "output_type": "stream",
     "text": [
      "'ls' is not recognized as an internal or external command,\n",
      "operable program or batch file.\n"
     ]
    }
   ],
   "source": [
    "!ls train/cats | wc -l"
   ]
  },
  {
   "cell_type": "code",
   "execution_count": 10,
   "metadata": {},
   "outputs": [
    {
     "name": "stderr",
     "output_type": "stream",
     "text": [
      "'ls' is not recognized as an internal or external command,\n",
      "operable program or batch file.\n"
     ]
    }
   ],
   "source": [
    "!ls train/dogs | wc -l"
   ]
  },
  {
   "cell_type": "code",
   "execution_count": 11,
   "metadata": {},
   "outputs": [
    {
     "data": {
      "text/plain": [
       "'dogs'"
      ]
     },
     "execution_count": 11,
     "metadata": {},
     "output_type": "execute_result"
    }
   ],
   "source": [
    "dogs[6:]"
   ]
  },
  {
   "cell_type": "code",
   "execution_count": 12,
   "metadata": {
    "collapsed": true
   },
   "outputs": [],
   "source": [
    "from sklearn.model_selection import train_test_split\n",
    "\n",
    "\n",
    "def test_train_split(train_path, validation_path, animal):\n",
    "    validation_path = validation_path + '/' + animal\n",
    "    create_directory(validation_path)\n",
    "    \n",
    "    if len(os.listdir(train_path)) != 12500:\n",
    "        print('Test data already split')\n",
    "    else:\n",
    "        # First I want to take a list of all the data\n",
    "        # Then I want to split the data into two parts\n",
    "        # One part will stay in the folder\n",
    "        # The other part will be moved into a validation folder\n",
    "        X = os.listdir(train_path)\n",
    "        y = range(len(X))\n",
    "        X_train, X_test, y_train, y_test = train_test_split(X, y, test_size = 0.2, random_state = 7)\n",
    "        \n",
    "        for file in X_test:\n",
    "            # The path that was brought in will look like\n",
    "            # train_path/(dogs)/(cats)/image####.jpg\n",
    "            new_path = validation_path + '/' + file\n",
    "            old_path = train_path + '/' + file\n",
    "            shutil.move(old_path, new_path)"
   ]
  },
  {
   "cell_type": "code",
   "execution_count": 13,
   "metadata": {},
   "outputs": [],
   "source": [
    "test_train_split(dogs, 'validation', 'dogs')\n",
    "test_train_split(cats, 'validation', 'cats')"
   ]
  },
  {
   "cell_type": "code",
   "execution_count": 14,
   "metadata": {},
   "outputs": [
    {
     "data": {
      "text/plain": [
       "2500"
      ]
     },
     "execution_count": 14,
     "metadata": {},
     "output_type": "execute_result"
    }
   ],
   "source": [
    "len(os.listdir('validation/dogs'))"
   ]
  },
  {
   "cell_type": "code",
   "execution_count": 15,
   "metadata": {},
   "outputs": [
    {
     "data": {
      "text/plain": [
       "2500"
      ]
     },
     "execution_count": 15,
     "metadata": {},
     "output_type": "execute_result"
    }
   ],
   "source": [
    "len(os.listdir('validation/cats'))"
   ]
  },
  {
   "cell_type": "markdown",
   "metadata": {},
   "source": [
    "# Training the Model"
   ]
  },
  {
   "cell_type": "code",
   "execution_count": 16,
   "metadata": {
    "collapsed": true
   },
   "outputs": [],
   "source": [
    "train_path = 'train'\n",
    "validation_path = 'validation'\n",
    "\n",
    "# Both cats and dogs should have the same number\n",
    "train_num = len(os.listdir('train/dogs'))\n",
    "validation_num = len(os.listdir('validation/dogs'))\n",
    "\n",
    "epochs = 50\n",
    "batch_size = 16\n",
    "\n",
    "img_width, img_height = 150, 150"
   ]
  },
  {
   "cell_type": "code",
   "execution_count": 17,
   "metadata": {},
   "outputs": [
    {
     "name": "stderr",
     "output_type": "stream",
     "text": [
      "Using TensorFlow backend.\n"
     ]
    }
   ],
   "source": [
    "from keras import backend as K\n",
    "\n",
    "if K.image_data_format() == 'channels_first':\n",
    "    input_shape = (3, img_width, img_height)\n",
    "else:\n",
    "    input_shape = (img_width, img_height, 3)"
   ]
  },
  {
   "cell_type": "code",
   "execution_count": 18,
   "metadata": {
    "collapsed": true
   },
   "outputs": [],
   "source": [
    "from keras.models import Sequential\n",
    "from keras.layers import Conv2D, MaxPooling2D # For cnn\n",
    "from keras.layers import Activation, Dropout, Flatten, Dense # for neural networks in general\n",
    "\n",
    "model = Sequential()\n",
    "model.add(Conv2D(32, (3, 3), input_shape = input_shape))\n",
    "model.add(Activation('relu'))\n",
    "model.add(MaxPooling2D(pool_size = (2, 2)))\n",
    "\n",
    "model.add(Conv2D(32, (3, 3)))\n",
    "model.add(Activation('relu'))\n",
    "model.add(MaxPooling2D(pool_size = (2, 2)))\n",
    "\n",
    "model.add(Conv2D(64, (3, 3)))\n",
    "model.add(Activation('relu'))\n",
    "model.add(MaxPooling2D(pool_size = (2, 2)))\n",
    "\n",
    "model.add(Flatten())\n",
    "model.add(Dense(64))\n",
    "model.add(Activation('relu'))\n",
    "model.add(Dropout(0.5))\n",
    "model.add(Dense(1))\n",
    "model.add(Activation('sigmoid'))\n",
    "\n",
    "model.compile(loss = 'binary_crossentropy',\n",
    "             optimizer = 'rmsprop',\n",
    "             metrics = ['accuracy'])"
   ]
  },
  {
   "cell_type": "code",
   "execution_count": 19,
   "metadata": {},
   "outputs": [
    {
     "name": "stdout",
     "output_type": "stream",
     "text": [
      "Found 20000 images belonging to 2 classes.\n",
      "Found 5000 images belonging to 2 classes.\n"
     ]
    }
   ],
   "source": [
    "from keras.preprocessing.image import ImageDataGenerator\n",
    "\n",
    "datagen = ImageDataGenerator(rescale = 1./255)\n",
    "train_generator = datagen.flow_from_directory(train_path,\n",
    "                                       target_size = (img_width, img_height),\n",
    "                                       batch_size = batch_size,\n",
    "                                       class_mode = 'binary')\n",
    "\n",
    "validation_generator = datagen.flow_from_directory(validation_path,\n",
    "                                                  target_size = (img_width, img_height),\n",
    "                                                  batch_size = batch_size,\n",
    "                                                  class_mode = 'binary')"
   ]
  },
  {
   "cell_type": "code",
   "execution_count": 20,
   "metadata": {
    "scrolled": true
   },
   "outputs": [
    {
     "name": "stdout",
     "output_type": "stream",
     "text": [
      "Epoch 1/50\n",
      "625/625 [==============================] - 336s 538ms/step - loss: 0.6544 - acc: 0.6178 - val_loss: 0.6354 - val_acc: 0.6366\n",
      "Epoch 2/50\n",
      "625/625 [==============================] - 250s 400ms/step - loss: 0.5705 - acc: 0.7122 - val_loss: 0.5412 - val_acc: 0.7224\n",
      "Epoch 3/50\n",
      "625/625 [==============================] - 221s 353ms/step - loss: 0.5297 - acc: 0.7419 - val_loss: 0.5639 - val_acc: 0.7002\n",
      "Epoch 4/50\n",
      "625/625 [==============================] - 222s 356ms/step - loss: 0.5120 - acc: 0.7629 - val_loss: 0.4888 - val_acc: 0.7748\n",
      "Epoch 5/50\n",
      "625/625 [==============================] - 200s 320ms/step - loss: 0.4639 - acc: 0.7869 - val_loss: 0.4826 - val_acc: 0.7761\n",
      "Epoch 6/50\n",
      "625/625 [==============================] - 238s 381ms/step - loss: 0.4802 - acc: 0.7842 - val_loss: 0.4162 - val_acc: 0.8153\n",
      "Epoch 7/50\n",
      "625/625 [==============================] - 220s 351ms/step - loss: 0.4518 - acc: 0.8042 - val_loss: 0.4194 - val_acc: 0.8272\n",
      "Epoch 8/50\n",
      "625/625 [==============================] - 229s 366ms/step - loss: 0.4591 - acc: 0.7970 - val_loss: 0.4990 - val_acc: 0.7764\n",
      "Epoch 9/50\n",
      "625/625 [==============================] - 228s 365ms/step - loss: 0.4423 - acc: 0.8065 - val_loss: 0.4598 - val_acc: 0.7906\n",
      "Epoch 10/50\n",
      "625/625 [==============================] - 234s 374ms/step - loss: 0.4415 - acc: 0.8096 - val_loss: 0.4838 - val_acc: 0.7845\n",
      "Epoch 11/50\n",
      "625/625 [==============================] - 222s 355ms/step - loss: 0.4264 - acc: 0.8161 - val_loss: 0.4540 - val_acc: 0.8002\n",
      "Epoch 12/50\n",
      "625/625 [==============================] - 232s 370ms/step - loss: 0.4416 - acc: 0.8135 - val_loss: 0.3935 - val_acc: 0.8381\n",
      "Epoch 13/50\n",
      "625/625 [==============================] - 227s 363ms/step - loss: 0.4126 - acc: 0.8239 - val_loss: 0.4201 - val_acc: 0.8223\n",
      "Epoch 14/50\n",
      "625/625 [==============================] - 230s 369ms/step - loss: 0.4141 - acc: 0.8291 - val_loss: 0.5567 - val_acc: 0.7612\n",
      "Epoch 15/50\n",
      "625/625 [==============================] - 227s 363ms/step - loss: 0.4020 - acc: 0.8347 - val_loss: 0.3815 - val_acc: 0.8477\n",
      "Epoch 16/50\n",
      "625/625 [==============================] - 234s 375ms/step - loss: 0.4186 - acc: 0.8240 - val_loss: 0.3819 - val_acc: 0.8401\n",
      "Epoch 17/50\n",
      "625/625 [==============================] - 181s 290ms/step - loss: 0.4023 - acc: 0.8361 - val_loss: 0.4123 - val_acc: 0.8207\n",
      "Epoch 18/50\n",
      "625/625 [==============================] - 244s 390ms/step - loss: 0.4046 - acc: 0.8345 - val_loss: 0.4481 - val_acc: 0.8249\n",
      "Epoch 19/50\n",
      "625/625 [==============================] - 219s 351ms/step - loss: 0.3856 - acc: 0.8461 - val_loss: 0.5428 - val_acc: 0.7930\n",
      "Epoch 20/50\n",
      "625/625 [==============================] - 247s 396ms/step - loss: 0.4034 - acc: 0.8348 - val_loss: 0.3917 - val_acc: 0.8393\n",
      "Epoch 21/50\n",
      "625/625 [==============================] - 87s 140ms/step - loss: 0.4025 - acc: 0.8436 - val_loss: 0.4740 - val_acc: 0.8151\n",
      "Epoch 22/50\n",
      "625/625 [==============================] - 96s 153ms/step - loss: 0.4024 - acc: 0.8374 - val_loss: 0.4168 - val_acc: 0.8446\n",
      "Epoch 23/50\n",
      "625/625 [==============================] - 34s 54ms/step - loss: 0.3883 - acc: 0.8377 - val_loss: 0.4790 - val_acc: 0.8380\n",
      "Epoch 24/50\n",
      "625/625 [==============================] - 35s 56ms/step - loss: 0.3916 - acc: 0.8445 - val_loss: 0.3898 - val_acc: 0.8494\n",
      "Epoch 25/50\n",
      "625/625 [==============================] - 35s 56ms/step - loss: 0.3851 - acc: 0.8484 - val_loss: 0.3869 - val_acc: 0.8477\n",
      "Epoch 26/50\n",
      "625/625 [==============================] - 84s 135ms/step - loss: 0.4135 - acc: 0.8345 - val_loss: 0.4416 - val_acc: 0.7829\n",
      "Epoch 27/50\n",
      "625/625 [==============================] - 77s 123ms/step - loss: 0.3855 - acc: 0.8483 - val_loss: 0.4272 - val_acc: 0.8175\n",
      "Epoch 28/50\n",
      "625/625 [==============================] - 157s 252ms/step - loss: 0.3971 - acc: 0.8405 - val_loss: 0.4495 - val_acc: 0.8450\n",
      "Epoch 29/50\n",
      "625/625 [==============================] - 54s 86ms/step - loss: 0.3946 - acc: 0.8472 - val_loss: 0.3563 - val_acc: 0.8569\n",
      "Epoch 30/50\n",
      "625/625 [==============================] - 119s 190ms/step - loss: 0.4065 - acc: 0.8361 - val_loss: 0.3875 - val_acc: 0.8558\n",
      "Epoch 31/50\n",
      "625/625 [==============================] - 34s 54ms/step - loss: 0.3855 - acc: 0.8486 - val_loss: 0.4003 - val_acc: 0.8223\n",
      "Epoch 32/50\n",
      "625/625 [==============================] - 44s 71ms/step - loss: 0.4420 - acc: 0.8296 - val_loss: 0.3956 - val_acc: 0.8421\n",
      "Epoch 33/50\n",
      "625/625 [==============================] - 36s 57ms/step - loss: 0.4082 - acc: 0.8368 - val_loss: 0.4272 - val_acc: 0.8083\n",
      "Epoch 34/50\n",
      "625/625 [==============================] - 51s 81ms/step - loss: 0.4312 - acc: 0.8324 - val_loss: 0.3656 - val_acc: 0.8614\n",
      "Epoch 35/50\n",
      "625/625 [==============================] - 36s 58ms/step - loss: 0.4191 - acc: 0.8392 - val_loss: 0.6267 - val_acc: 0.7898\n",
      "Epoch 36/50\n",
      "625/625 [==============================] - 66s 106ms/step - loss: 0.4285 - acc: 0.8321 - val_loss: 0.4063 - val_acc: 0.8498\n",
      "Epoch 37/50\n",
      "625/625 [==============================] - 37s 59ms/step - loss: 0.4306 - acc: 0.8274 - val_loss: 0.3851 - val_acc: 0.8557\n",
      "Epoch 38/50\n",
      "625/625 [==============================] - 48s 77ms/step - loss: 0.4388 - acc: 0.8323 - val_loss: 0.3702 - val_acc: 0.8462\n",
      "Epoch 39/50\n",
      "625/625 [==============================] - 33s 53ms/step - loss: 0.4402 - acc: 0.8231 - val_loss: 0.4391 - val_acc: 0.8292\n",
      "Epoch 40/50\n",
      "625/625 [==============================] - 33s 53ms/step - loss: 0.4185 - acc: 0.8312 - val_loss: 0.5103 - val_acc: 0.8498\n",
      "Epoch 41/50\n",
      "625/625 [==============================] - 33s 53ms/step - loss: 0.4401 - acc: 0.8262 - val_loss: 0.4261 - val_acc: 0.8473\n",
      "Epoch 42/50\n",
      "625/625 [==============================] - 33s 53ms/step - loss: 0.4277 - acc: 0.8306 - val_loss: 0.4218 - val_acc: 0.8265\n",
      "Epoch 43/50\n",
      "625/625 [==============================] - 132s 211ms/step - loss: 0.4407 - acc: 0.8287 - val_loss: 0.4665 - val_acc: 0.7709\n",
      "Epoch 44/50\n",
      "625/625 [==============================] - 257s 412ms/step - loss: 0.4299 - acc: 0.8220 - val_loss: 0.4038 - val_acc: 0.8425\n",
      "Epoch 45/50\n",
      "625/625 [==============================] - 46s 73ms/step - loss: 0.4278 - acc: 0.8234 - val_loss: 0.4749 - val_acc: 0.8103\n",
      "Epoch 46/50\n",
      "625/625 [==============================] - 43s 68ms/step - loss: 0.4553 - acc: 0.8164 - val_loss: 0.4489 - val_acc: 0.8085\n",
      "Epoch 47/50\n",
      "625/625 [==============================] - 34s 54ms/step - loss: 0.4498 - acc: 0.8198 - val_loss: 0.6126 - val_acc: 0.7834\n",
      "Epoch 48/50\n",
      "625/625 [==============================] - 49s 78ms/step - loss: 0.4506 - acc: 0.8156 - val_loss: 0.4030 - val_acc: 0.8490\n",
      "Epoch 49/50\n",
      "625/625 [==============================] - 86s 138ms/step - loss: 0.4630 - acc: 0.8178 - val_loss: 0.5613 - val_acc: 0.8256\n",
      "Epoch 50/50\n",
      "625/625 [==============================] - 188s 301ms/step - loss: 0.4818 - acc: 0.8164 - val_loss: 0.5403 - val_acc: 0.8313\n"
     ]
    },
    {
     "data": {
      "text/plain": [
       "<keras.callbacks.History at 0x1d4e9da9e48>"
      ]
     },
     "execution_count": 20,
     "metadata": {},
     "output_type": "execute_result"
    }
   ],
   "source": [
    "model.fit_generator(train_generator,\n",
    "                   steps_per_epoch = train_num // batch_size,\n",
    "                   epochs = epochs,\n",
    "                   validation_data = validation_generator,\n",
    "                   validation_steps = validation_num // batch_size)"
   ]
  },
  {
   "cell_type": "code",
   "execution_count": 21,
   "metadata": {
    "collapsed": true
   },
   "outputs": [],
   "source": [
    "model.save('cats_vs_dogs.h5')"
   ]
  },
  {
   "cell_type": "code",
   "execution_count": 30,
   "metadata": {},
   "outputs": [
    {
     "data": {
      "image/png": "[encoded data removed]",
      "text/plain": [
       "<matplotlib.figure.Figure at 0x1d4e3ac0ba8>"
      ]
     },
     "metadata": {},
     "output_type": "display_data"
    }
   ],
   "source": [
    "import numpy as np\n",
    "from scipy.misc import imresize\n",
    "from keras.preprocessing.image import load_img, img_to_array\n",
    "from matplotlib import pyplot as plt\n",
    "\n",
    "img = load_img('test1/1.jpg')\n",
    "plt.imshow(img)\n",
    "plt.show()"
   ]
  },
  {
   "cell_type": "code",
   "execution_count": 33,
   "metadata": {},
   "outputs": [
    {
     "name": "stderr",
     "output_type": "stream",
     "text": [
      "C:\\Users\\Thibault\\Anaconda3\\lib\\site-packages\\ipykernel_launcher.py:1: DeprecationWarning: `imresize` is deprecated!\n",
      "`imresize` is deprecated in SciPy 1.0.0, and will be removed in 1.2.0.\n",
      "Use ``skimage.transform.resize`` instead.\n",
      "  \"\"\"Entry point for launching an IPython kernel.\n"
     ]
    },
    {
     "data": {
      "text/plain": [
       "(150, 150, 3)"
      ]
     },
     "execution_count": 33,
     "metadata": {},
     "output_type": "execute_result"
    }
   ],
   "source": [
    "img = imresize(img, (img_width, img_height))\n",
    "img = img_to_array(img)\n",
    "\n",
    "img.shape"
   ]
  },
  {
   "cell_type": "code",
   "execution_count": 35,
   "metadata": {},
   "outputs": [
    {
     "data": {
      "text/plain": [
       "(1, 150, 150, 3)"
      ]
     },
     "execution_count": 35,
     "metadata": {},
     "output_type": "execute_result"
    }
   ],
   "source": [
    "img = np.expand_dims(img, axis = 0)\n",
    "img.shape"
   ]
  },
  {
   "cell_type": "markdown",
   "metadata": {},
   "source": [
    "0 = Cat\n",
    "\n",
    "1 = Dog"
   ]
  },
  {
   "cell_type": "code",
   "execution_count": 39,
   "metadata": {
    "scrolled": true
   },
   "outputs": [
    {
     "data": {
      "text/plain": [
       "array([[1]])"
      ]
     },
     "execution_count": 39,
     "metadata": {},
     "output_type": "execute_result"
    }
   ],
   "source": [
    "model.predict_classes(img)"
   ]
  },
  {
   "cell_type": "code",
   "execution_count": null,
   "metadata": {
    "collapsed": true
   },
   "outputs": [],
   "source": []
  }
 ],
 "metadata": {
  "kernelspec": {
   "display_name": "Python 3",
   "language": "python",
   "name": "python3"
  },
  "language_info": {
   "codemirror_mode": {
    "name": "ipython",
    "version": 3
   },
   "file_extension": ".py",
   "mimetype": "text/x-python",
   "name": "python",
   "nbconvert_exporter": "python",
   "pygments_lexer": "ipython3",
   "version": "3.6.3"
  }
 },
 "nbformat": 4,
 "nbformat_minor": 2
}
