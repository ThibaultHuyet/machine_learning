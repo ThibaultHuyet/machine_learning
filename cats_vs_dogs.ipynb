{
 "cells": [
  {
   "cell_type": "markdown",
   "metadata": {},
   "source": [
    "# Cats vs Dogs"
   ]
  },
  {
   "cell_type": "markdown",
   "metadata": {},
   "source": [
    "The Kaggle competition Cats vs Dogs is a simple classification problem. I am given 10,000 images of Cats and Dogs, all labelled. The job is to train a model on these and then test how accurate my model is on the test set.\n",
    "\n",
    "The top score as of 26 January 2018 is 99% accuracy.\n",
    "\n",
    "On the competition's description:\n",
    "\n",
    ">While random guessing is the easiest form of attack, various forms of image recognition can allow an attacker to make guesses that are better than random. There is enormous diversity in the photo database (a wide variety of backgrounds, angles, poses, lighting, etc.), making accurate automatic classification difficult. In an informal poll conducted many years ago, computer vision experts posited that a classifier with better than 60% accuracy would be difficult without a major advance in the state of the art. For reference, a 60% classifier improves the guessing probability of a 12-image HIP from 1/4096 to 1/459."
   ]
  },
  {
   "cell_type": "code",
   "execution_count": 1,
   "metadata": {
    "scrolled": true
   },
   "outputs": [
    {
     "name": "stdout",
     "output_type": "stream",
     "text": [
      "cats_vs_dogs.ipynb  neural_style_transfer.ipynb  test1\ttrain.zip\r\n",
      "Images\t\t    README.md\t\t\t train\r\n"
     ]
    }
   ],
   "source": [
    "!ls"
   ]
  },
  {
   "cell_type": "code",
   "execution_count": 2,
   "metadata": {},
   "outputs": [
    {
     "name": "stdout",
     "output_type": "stream",
     "text": [
      "25000\r\n"
     ]
    }
   ],
   "source": [
    "!ls train | wc -l"
   ]
  },
  {
   "cell_type": "code",
   "execution_count": 3,
   "metadata": {},
   "outputs": [
    {
     "name": "stdout",
     "output_type": "stream",
     "text": [
      "12500\r\n"
     ]
    }
   ],
   "source": [
    "!ls test1 | wc -l"
   ]
  },
  {
   "cell_type": "code",
   "execution_count": 4,
   "metadata": {
    "scrolled": true
   },
   "outputs": [
    {
     "name": "stdout",
     "output_type": "stream",
     "text": [
      "cat.10002.jpg\n"
     ]
    }
   ],
   "source": [
    "%%bash\n",
    "cd train\n",
    "\n",
    "if ls | grep cat.10002.jpg;\n",
    "then\n",
    "    for file in *;\n",
    "        do\n",
    "            mv \"$file\" \"${file/./}\";\n",
    "        done\n",
    "else\n",
    "    echo \"Files already renamed\";\n",
    "fi"
   ]
  },
  {
   "cell_type": "markdown",
   "metadata": {},
   "source": [
    "First goal of the project is to organize the data. I want to seperate the cats and dogs into two different folders for the training data."
   ]
  },
  {
   "cell_type": "markdown",
   "metadata": {},
   "source": [
    "Here I begin by defining the paths that I will be using to organize the data. I won't actually use the test path here yet but since I'm defining paths, I might as well define this right now."
   ]
  },
  {
   "cell_type": "code",
   "execution_count": 5,
   "metadata": {
    "collapsed": true
   },
   "outputs": [],
   "source": [
    "train_path = \"train\"\n",
    "test_path = \"test1\"\n",
    "\n",
    "dogs = \"train/dogs\"\n",
    "cats = \"train/cats\""
   ]
  },
  {
   "cell_type": "code",
   "execution_count": 6,
   "metadata": {
    "collapsed": true
   },
   "outputs": [],
   "source": [
    "import os\n",
    "import shutil"
   ]
  },
  {
   "cell_type": "markdown",
   "metadata": {},
   "source": [
    "After having imported some useful libraries when dealing with filepaths and file management, I begin by making sure that the file paths that I want actually exist."
   ]
  },
  {
   "cell_type": "code",
   "execution_count": 7,
   "metadata": {},
   "outputs": [],
   "source": [
    "def create_directory(directory):\n",
    "    if not os.path.exists(directory):\n",
    "        os.makedirs(directory)\n",
    "    else:\n",
    "        print(directory + ' already exists')\n",
    "\n",
    "create_directory(dogs)\n",
    "create_directory(cats)"
   ]
  },
  {
   "cell_type": "markdown",
   "metadata": {},
   "source": [
    "Then I need to move every single file that has cats in it to the cats folder and every file that has dog in it to the dogs folder."
   ]
  },
  {
   "cell_type": "code",
   "execution_count": 8,
   "metadata": {},
   "outputs": [],
   "source": [
    "for file in os.listdir(train_path):\n",
    "    current_file = train_path + '/' + file\n",
    "    if 'dog' in current_file:\n",
    "        shutil.move(current_file, dogs)\n",
    "    elif 'cat' in current_file:\n",
    "        shutil.move(current_file, cats)\n",
    "    else:\n",
    "        print(file)"
   ]
  },
  {
   "cell_type": "code",
   "execution_count": 9,
   "metadata": {},
   "outputs": [
    {
     "name": "stdout",
     "output_type": "stream",
     "text": [
      "12500\r\n"
     ]
    }
   ],
   "source": [
    "!ls train/cats | wc -l"
   ]
  },
  {
   "cell_type": "code",
   "execution_count": 10,
   "metadata": {},
   "outputs": [
    {
     "name": "stdout",
     "output_type": "stream",
     "text": [
      "12500\r\n"
     ]
    }
   ],
   "source": [
    "!ls train/dogs | wc -l"
   ]
  },
  {
   "cell_type": "code",
   "execution_count": null,
   "metadata": {
    "collapsed": true
   },
   "outputs": [],
   "source": []
  }
 ],
 "metadata": {
  "kernelspec": {
   "display_name": "Python 3",
   "language": "python",
   "name": "python3"
  },
  "language_info": {
   "codemirror_mode": {
    "name": "ipython",
    "version": 3
   },
   "file_extension": ".py",
   "mimetype": "text/x-python",
   "name": "python",
   "nbconvert_exporter": "python",
   "pygments_lexer": "ipython3",
   "version": "3.6.2"
  }
 },
 "nbformat": 4,
 "nbformat_minor": 2
}
